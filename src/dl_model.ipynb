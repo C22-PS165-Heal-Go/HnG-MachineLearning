{
  "cells": [
    {
      "cell_type": "markdown",
      "source": [
        "# Heal&Go App (Bangkit 2022 Capstone Project)\n",
        "### Created by : C22-PS165 Team\n",
        "Deep Learning Model for Heal&Go App"
      ],
      "metadata": {
        "id": "2cOpy9gzPeuO"
      }
    },
    {
      "cell_type": "markdown",
      "source": [
        "## Connect to Google Drive for Import Dataset"
      ],
      "metadata": {
        "id": "RqLN11FgPo93"
      }
    },
    {
      "cell_type": "code",
      "execution_count": 3,
      "metadata": {
        "id": "858ICLLnrLfe",
        "colab": {
          "base_uri": "https://localhost:8080/"
        },
        "outputId": "8967e74e-edb0-479d-c100-d5030a99328a"
      },
      "outputs": [
        {
          "output_type": "stream",
          "name": "stdout",
          "text": [
            "Mounted at /content/drive\n"
          ]
        }
      ],
      "source": [
        "from google.colab import drive\n",
        "drive.mount('/content/drive')"
      ]
    },
    {
      "cell_type": "markdown",
      "source": [
        "## Preprocessing Section\n",
        "This section contains:\n",
        "- Import Library\n",
        "- Open Dataset\n",
        "- Clean Dataset\n",
        "- Encode Dataset\n",
        "- OverSampling Dataset\n",
        "- Convert Dataset to Tensor\n",
        "- Split Dataset for Training"
      ],
      "metadata": {
        "id": "5Y6EoGaoQNYt"
      }
    },
    {
      "cell_type": "markdown",
      "source": [
        "#### Import Library & Open Dataset"
      ],
      "metadata": {
        "id": "6NGRw6-gRNik"
      }
    },
    {
      "cell_type": "code",
      "execution_count": 4,
      "metadata": {
        "colab": {
          "base_uri": "https://localhost:8080/",
          "height": 1000
        },
        "id": "447HiwYisBlf",
        "outputId": "240fec87-ae1c-4027-8e34-3467205c7b1a"
      },
      "outputs": [
        {
          "output_type": "execute_result",
          "data": {
            "text/plain": [
              "               Timestamp  \\\n",
              "0     5/10/2022 14:02:19   \n",
              "1     5/10/2022 14:03:51   \n",
              "2     5/10/2022 14:03:57   \n",
              "3     5/10/2022 14:11:57   \n",
              "4     5/10/2022 14:11:58   \n",
              "...                  ...   \n",
              "1020  5/14/2022 14:49:36   \n",
              "1021  5/14/2022 14:50:42   \n",
              "1022  5/14/2022 14:51:26   \n",
              "1023  5/14/2022 14:52:07   \n",
              "1024  5/10/2022 22:47:04   \n",
              "\n",
              "     Dari ke-20 destinasi wisata di bawah ini, mana tempat yang pernah dikunjungi?  \\\n",
              "0                               Kawah Putih, Jawa Barat                              \n",
              "1            Taman Mini Indonesia Indah (TMII), Jakarta                              \n",
              "2                        Taman Safari Bogor, Jawa Barat                              \n",
              "3                        Dunia Fantasi (Dufan), Jakarta                              \n",
              "4                        Pantai Pangandaran, Jawa Barat                              \n",
              "...                                                 ...                              \n",
              "1020                       Pantai Sepanjang, Yogyakarta                              \n",
              "1021                       Pantai Sepanjang, Yogyakarta                              \n",
              "1022                       Pantai Sepanjang, Yogyakarta                              \n",
              "1023                       Pantai Sepanjang, Yogyakarta                              \n",
              "1024                         Batu Angus, Sulawesi Utara                              \n",
              "\n",
              "     Berdasarkan destinasi wisata yang dipilih, dengan siapa Anda mengunjungi tempat tersebut?  \\\n",
              "0                               Bersama grup pertemanan                                          \n",
              "1                               Bersama grup pertemanan                                          \n",
              "2                               Bersama grup pertemanan                                          \n",
              "3                               Bersama grup pertemanan                                          \n",
              "4                          Bersama keluarga dengan anak                                          \n",
              "...                                                 ...                                          \n",
              "1020                                   Bersama pasangan                                          \n",
              "1021                       Bersama keluarga dengan anak                                          \n",
              "1022                       Bersama keluarga dengan anak                                          \n",
              "1023                       Bersama keluarga dengan anak                                          \n",
              "1024                       Bersama keluarga dengan anak                                          \n",
              "\n",
              "     Berdasarkan orang yang ikut bersama Anda ke tempat destinasi tersebut, berapa umur semua orang yang ikut dalam perjalanan Anda tersebut?  \\\n",
              "0                                  Remaja (14-20 tahun)                                                                                         \n",
              "1                                  Remaja (14-20 tahun)                                                                                         \n",
              "2                                  Dewasa (21-45 tahun)                                                                                         \n",
              "3          Anak-anak (0-13 tahun), Dewasa (21-45 tahun)                                                                                         \n",
              "4     Anak-anak (0-13 tahun), Remaja (14-20 tahun), ...                                                                                         \n",
              "...                                                 ...                                                                                         \n",
              "1020                               Dewasa (21-45 tahun)                                                                                         \n",
              "1021  Anak-anak (0-13 tahun), Remaja (14-20 tahun), ...                                                                                         \n",
              "1022       Anak-anak (0-13 tahun), Dewasa (21-45 tahun)                                                                                         \n",
              "1023         Remaja (14-20 tahun), Dewasa (21-45 tahun)                                                                                         \n",
              "1024  Anak-anak (0-13 tahun), Dewasa (21-45 tahun), ...                                                                                         \n",
              "\n",
              "     Berdasarkan destinasi wisata yang dipilih, apa aktivitas yang Anda lakukan pada saat mengunjungi tempat tersebut?  \\\n",
              "0     Menikmati pemandangan, Mengambil foto atau selfie                                                                  \n",
              "1          Pergi ke festival/taman bermain, Jalan-jalan                                                                  \n",
              "2     Mengunjungi museum/kebun binatang/tempat berse...                                                                  \n",
              "3     Mengunjungi museum/kebun binatang/tempat berse...                                                                  \n",
              "4     Mengunjungi museum/kebun binatang/tempat berse...                                                                  \n",
              "...                                                 ...                                                                  \n",
              "1020  Berpetualang di tempat tersebut, Menikmati pem...                                                                  \n",
              "1021  Berpetualang di tempat tersebut, Menikmati pem...                                                                  \n",
              "1022  Berpetualang di tempat tersebut, Menikmati pem...                                                                  \n",
              "1023  Menikmati pemandangan, Mengambil foto atau sel...                                                                  \n",
              "1024  Menikmati pemandangan, Mengambil foto atau sel...                                                                  \n",
              "\n",
              "     Berdasarkan destinasi wisata yang Anda pilih, adakah aktivitas olahraga yang dapat dilakukan di tempat tersebut?  \\\n",
              "0                                             Tidak ada                                                                 \n",
              "1                                             Tidak ada                                                                 \n",
              "2                                             Tidak ada                                                                 \n",
              "3                                             Tidak ada                                                                 \n",
              "4              Olahraga ringan (Berenang, Hiking, Golf)                                                                 \n",
              "...                                                 ...                                                                 \n",
              "1020                                          Tidak ada                                                                 \n",
              "1021           Olahraga ringan (Berenang, Hiking, Golf)                                                                 \n",
              "1022           Olahraga ringan (Berenang, Hiking, Golf)                                                                 \n",
              "1023                                          Tidak ada                                                                 \n",
              "1024           Olahraga ringan (Berenang, Hiking, Golf)                                                                 \n",
              "\n",
              "     Berdasarkan destinasi wisata yang Anda pilih, berapa lama Anda mengunjungi tempat tersebut?  \\\n",
              "0                                    Kurang dari sehari                                            \n",
              "1                                    Kurang dari sehari                                            \n",
              "2                                    Kurang dari sehari                                            \n",
              "3                                    Kurang dari sehari                                            \n",
              "4                                              1 minggu                                            \n",
              "...                                                 ...                                            \n",
              "1020                                 Kurang dari sehari                                            \n",
              "1021                                 Kurang dari sehari                                            \n",
              "1022                                 Kurang dari sehari                                            \n",
              "1023                                 Kurang dari sehari                                            \n",
              "1024                                 Kurang dari sehari                                            \n",
              "\n",
              "     Berdasarkan destinasi wisata yang Anda pilih, kapan Anda mengunjungi tempat tersebut?  \\\n",
              "0                                     Desember-Februari                                      \n",
              "1                                          Juni-Agustus                                      \n",
              "2                                          Juni-Agustus                                      \n",
              "3                                             Maret-Mei                                      \n",
              "4                                     Desember-Februari                                      \n",
              "...                                                 ...                                      \n",
              "1020                                          Maret-Mei                                      \n",
              "1021                                          Maret-Mei                                      \n",
              "1022                                          Maret-Mei                                      \n",
              "1023                                  Desember-Februari                                      \n",
              "1024                                          Maret-Mei                                      \n",
              "\n",
              "      Email Address Email  \n",
              "0               NaN   NaN  \n",
              "1               NaN   NaN  \n",
              "2               NaN   NaN  \n",
              "3               NaN   NaN  \n",
              "4               NaN   NaN  \n",
              "...             ...   ...  \n",
              "1020            NaN   NaN  \n",
              "1021            NaN   NaN  \n",
              "1022            NaN   NaN  \n",
              "1023            NaN   NaN  \n",
              "1024            NaN   NaN  \n",
              "\n",
              "[1025 rows x 10 columns]"
            ],
            "text/html": [
              "\n",
              "  <div id=\"df-3e06c474-e5b1-4158-baa7-d345ad132fb9\">\n",
              "    <div class=\"colab-df-container\">\n",
              "      <div>\n",
              "<style scoped>\n",
              "    .dataframe tbody tr th:only-of-type {\n",
              "        vertical-align: middle;\n",
              "    }\n",
              "\n",
              "    .dataframe tbody tr th {\n",
              "        vertical-align: top;\n",
              "    }\n",
              "\n",
              "    .dataframe thead th {\n",
              "        text-align: right;\n",
              "    }\n",
              "</style>\n",
              "<table border=\"1\" class=\"dataframe\">\n",
              "  <thead>\n",
              "    <tr style=\"text-align: right;\">\n",
              "      <th></th>\n",
              "      <th>Timestamp</th>\n",
              "      <th>Dari ke-20 destinasi wisata di bawah ini, mana tempat yang pernah dikunjungi?</th>\n",
              "      <th>Berdasarkan destinasi wisata yang dipilih, dengan siapa Anda mengunjungi tempat tersebut?</th>\n",
              "      <th>Berdasarkan orang yang ikut bersama Anda ke tempat destinasi tersebut, berapa umur semua orang yang ikut dalam perjalanan Anda tersebut?</th>\n",
              "      <th>Berdasarkan destinasi wisata yang dipilih, apa aktivitas yang Anda lakukan pada saat mengunjungi tempat tersebut?</th>\n",
              "      <th>Berdasarkan destinasi wisata yang Anda pilih, adakah aktivitas olahraga yang dapat dilakukan di tempat tersebut?</th>\n",
              "      <th>Berdasarkan destinasi wisata yang Anda pilih, berapa lama Anda mengunjungi tempat tersebut?</th>\n",
              "      <th>Berdasarkan destinasi wisata yang Anda pilih, kapan Anda mengunjungi tempat tersebut?</th>\n",
              "      <th>Email Address</th>\n",
              "      <th>Email</th>\n",
              "    </tr>\n",
              "  </thead>\n",
              "  <tbody>\n",
              "    <tr>\n",
              "      <th>0</th>\n",
              "      <td>5/10/2022 14:02:19</td>\n",
              "      <td>Kawah Putih, Jawa Barat</td>\n",
              "      <td>Bersama grup pertemanan</td>\n",
              "      <td>Remaja (14-20 tahun)</td>\n",
              "      <td>Menikmati pemandangan, Mengambil foto atau selfie</td>\n",
              "      <td>Tidak ada</td>\n",
              "      <td>Kurang dari sehari</td>\n",
              "      <td>Desember-Februari</td>\n",
              "      <td>NaN</td>\n",
              "      <td>NaN</td>\n",
              "    </tr>\n",
              "    <tr>\n",
              "      <th>1</th>\n",
              "      <td>5/10/2022 14:03:51</td>\n",
              "      <td>Taman Mini Indonesia Indah (TMII), Jakarta</td>\n",
              "      <td>Bersama grup pertemanan</td>\n",
              "      <td>Remaja (14-20 tahun)</td>\n",
              "      <td>Pergi ke festival/taman bermain, Jalan-jalan</td>\n",
              "      <td>Tidak ada</td>\n",
              "      <td>Kurang dari sehari</td>\n",
              "      <td>Juni-Agustus</td>\n",
              "      <td>NaN</td>\n",
              "      <td>NaN</td>\n",
              "    </tr>\n",
              "    <tr>\n",
              "      <th>2</th>\n",
              "      <td>5/10/2022 14:03:57</td>\n",
              "      <td>Taman Safari Bogor, Jawa Barat</td>\n",
              "      <td>Bersama grup pertemanan</td>\n",
              "      <td>Dewasa (21-45 tahun)</td>\n",
              "      <td>Mengunjungi museum/kebun binatang/tempat berse...</td>\n",
              "      <td>Tidak ada</td>\n",
              "      <td>Kurang dari sehari</td>\n",
              "      <td>Juni-Agustus</td>\n",
              "      <td>NaN</td>\n",
              "      <td>NaN</td>\n",
              "    </tr>\n",
              "    <tr>\n",
              "      <th>3</th>\n",
              "      <td>5/10/2022 14:11:57</td>\n",
              "      <td>Dunia Fantasi (Dufan), Jakarta</td>\n",
              "      <td>Bersama grup pertemanan</td>\n",
              "      <td>Anak-anak (0-13 tahun), Dewasa (21-45 tahun)</td>\n",
              "      <td>Mengunjungi museum/kebun binatang/tempat berse...</td>\n",
              "      <td>Tidak ada</td>\n",
              "      <td>Kurang dari sehari</td>\n",
              "      <td>Maret-Mei</td>\n",
              "      <td>NaN</td>\n",
              "      <td>NaN</td>\n",
              "    </tr>\n",
              "    <tr>\n",
              "      <th>4</th>\n",
              "      <td>5/10/2022 14:11:58</td>\n",
              "      <td>Pantai Pangandaran, Jawa Barat</td>\n",
              "      <td>Bersama keluarga dengan anak</td>\n",
              "      <td>Anak-anak (0-13 tahun), Remaja (14-20 tahun), ...</td>\n",
              "      <td>Mengunjungi museum/kebun binatang/tempat berse...</td>\n",
              "      <td>Olahraga ringan (Berenang, Hiking, Golf)</td>\n",
              "      <td>1 minggu</td>\n",
              "      <td>Desember-Februari</td>\n",
              "      <td>NaN</td>\n",
              "      <td>NaN</td>\n",
              "    </tr>\n",
              "    <tr>\n",
              "      <th>...</th>\n",
              "      <td>...</td>\n",
              "      <td>...</td>\n",
              "      <td>...</td>\n",
              "      <td>...</td>\n",
              "      <td>...</td>\n",
              "      <td>...</td>\n",
              "      <td>...</td>\n",
              "      <td>...</td>\n",
              "      <td>...</td>\n",
              "      <td>...</td>\n",
              "    </tr>\n",
              "    <tr>\n",
              "      <th>1020</th>\n",
              "      <td>5/14/2022 14:49:36</td>\n",
              "      <td>Pantai Sepanjang, Yogyakarta</td>\n",
              "      <td>Bersama pasangan</td>\n",
              "      <td>Dewasa (21-45 tahun)</td>\n",
              "      <td>Berpetualang di tempat tersebut, Menikmati pem...</td>\n",
              "      <td>Tidak ada</td>\n",
              "      <td>Kurang dari sehari</td>\n",
              "      <td>Maret-Mei</td>\n",
              "      <td>NaN</td>\n",
              "      <td>NaN</td>\n",
              "    </tr>\n",
              "    <tr>\n",
              "      <th>1021</th>\n",
              "      <td>5/14/2022 14:50:42</td>\n",
              "      <td>Pantai Sepanjang, Yogyakarta</td>\n",
              "      <td>Bersama keluarga dengan anak</td>\n",
              "      <td>Anak-anak (0-13 tahun), Remaja (14-20 tahun), ...</td>\n",
              "      <td>Berpetualang di tempat tersebut, Menikmati pem...</td>\n",
              "      <td>Olahraga ringan (Berenang, Hiking, Golf)</td>\n",
              "      <td>Kurang dari sehari</td>\n",
              "      <td>Maret-Mei</td>\n",
              "      <td>NaN</td>\n",
              "      <td>NaN</td>\n",
              "    </tr>\n",
              "    <tr>\n",
              "      <th>1022</th>\n",
              "      <td>5/14/2022 14:51:26</td>\n",
              "      <td>Pantai Sepanjang, Yogyakarta</td>\n",
              "      <td>Bersama keluarga dengan anak</td>\n",
              "      <td>Anak-anak (0-13 tahun), Dewasa (21-45 tahun)</td>\n",
              "      <td>Berpetualang di tempat tersebut, Menikmati pem...</td>\n",
              "      <td>Olahraga ringan (Berenang, Hiking, Golf)</td>\n",
              "      <td>Kurang dari sehari</td>\n",
              "      <td>Maret-Mei</td>\n",
              "      <td>NaN</td>\n",
              "      <td>NaN</td>\n",
              "    </tr>\n",
              "    <tr>\n",
              "      <th>1023</th>\n",
              "      <td>5/14/2022 14:52:07</td>\n",
              "      <td>Pantai Sepanjang, Yogyakarta</td>\n",
              "      <td>Bersama keluarga dengan anak</td>\n",
              "      <td>Remaja (14-20 tahun), Dewasa (21-45 tahun)</td>\n",
              "      <td>Menikmati pemandangan, Mengambil foto atau sel...</td>\n",
              "      <td>Tidak ada</td>\n",
              "      <td>Kurang dari sehari</td>\n",
              "      <td>Desember-Februari</td>\n",
              "      <td>NaN</td>\n",
              "      <td>NaN</td>\n",
              "    </tr>\n",
              "    <tr>\n",
              "      <th>1024</th>\n",
              "      <td>5/10/2022 22:47:04</td>\n",
              "      <td>Batu Angus, Sulawesi Utara</td>\n",
              "      <td>Bersama keluarga dengan anak</td>\n",
              "      <td>Anak-anak (0-13 tahun), Dewasa (21-45 tahun), ...</td>\n",
              "      <td>Menikmati pemandangan, Mengambil foto atau sel...</td>\n",
              "      <td>Olahraga ringan (Berenang, Hiking, Golf)</td>\n",
              "      <td>Kurang dari sehari</td>\n",
              "      <td>Maret-Mei</td>\n",
              "      <td>NaN</td>\n",
              "      <td>NaN</td>\n",
              "    </tr>\n",
              "  </tbody>\n",
              "</table>\n",
              "<p>1025 rows × 10 columns</p>\n",
              "</div>\n",
              "      <button class=\"colab-df-convert\" onclick=\"convertToInteractive('df-3e06c474-e5b1-4158-baa7-d345ad132fb9')\"\n",
              "              title=\"Convert this dataframe to an interactive table.\"\n",
              "              style=\"display:none;\">\n",
              "        \n",
              "  <svg xmlns=\"http://www.w3.org/2000/svg\" height=\"24px\"viewBox=\"0 0 24 24\"\n",
              "       width=\"24px\">\n",
              "    <path d=\"M0 0h24v24H0V0z\" fill=\"none\"/>\n",
              "    <path d=\"M18.56 5.44l.94 2.06.94-2.06 2.06-.94-2.06-.94-.94-2.06-.94 2.06-2.06.94zm-11 1L8.5 8.5l.94-2.06 2.06-.94-2.06-.94L8.5 2.5l-.94 2.06-2.06.94zm10 10l.94 2.06.94-2.06 2.06-.94-2.06-.94-.94-2.06-.94 2.06-2.06.94z\"/><path d=\"M17.41 7.96l-1.37-1.37c-.4-.4-.92-.59-1.43-.59-.52 0-1.04.2-1.43.59L10.3 9.45l-7.72 7.72c-.78.78-.78 2.05 0 2.83L4 21.41c.39.39.9.59 1.41.59.51 0 1.02-.2 1.41-.59l7.78-7.78 2.81-2.81c.8-.78.8-2.07 0-2.86zM5.41 20L4 18.59l7.72-7.72 1.47 1.35L5.41 20z\"/>\n",
              "  </svg>\n",
              "      </button>\n",
              "      \n",
              "  <style>\n",
              "    .colab-df-container {\n",
              "      display:flex;\n",
              "      flex-wrap:wrap;\n",
              "      gap: 12px;\n",
              "    }\n",
              "\n",
              "    .colab-df-convert {\n",
              "      background-color: #E8F0FE;\n",
              "      border: none;\n",
              "      border-radius: 50%;\n",
              "      cursor: pointer;\n",
              "      display: none;\n",
              "      fill: #1967D2;\n",
              "      height: 32px;\n",
              "      padding: 0 0 0 0;\n",
              "      width: 32px;\n",
              "    }\n",
              "\n",
              "    .colab-df-convert:hover {\n",
              "      background-color: #E2EBFA;\n",
              "      box-shadow: 0px 1px 2px rgba(60, 64, 67, 0.3), 0px 1px 3px 1px rgba(60, 64, 67, 0.15);\n",
              "      fill: #174EA6;\n",
              "    }\n",
              "\n",
              "    [theme=dark] .colab-df-convert {\n",
              "      background-color: #3B4455;\n",
              "      fill: #D2E3FC;\n",
              "    }\n",
              "\n",
              "    [theme=dark] .colab-df-convert:hover {\n",
              "      background-color: #434B5C;\n",
              "      box-shadow: 0px 1px 3px 1px rgba(0, 0, 0, 0.15);\n",
              "      filter: drop-shadow(0px 1px 2px rgba(0, 0, 0, 0.3));\n",
              "      fill: #FFFFFF;\n",
              "    }\n",
              "  </style>\n",
              "\n",
              "      <script>\n",
              "        const buttonEl =\n",
              "          document.querySelector('#df-3e06c474-e5b1-4158-baa7-d345ad132fb9 button.colab-df-convert');\n",
              "        buttonEl.style.display =\n",
              "          google.colab.kernel.accessAllowed ? 'block' : 'none';\n",
              "\n",
              "        async function convertToInteractive(key) {\n",
              "          const element = document.querySelector('#df-3e06c474-e5b1-4158-baa7-d345ad132fb9');\n",
              "          const dataTable =\n",
              "            await google.colab.kernel.invokeFunction('convertToInteractive',\n",
              "                                                     [key], {});\n",
              "          if (!dataTable) return;\n",
              "\n",
              "          const docLinkHtml = 'Like what you see? Visit the ' +\n",
              "            '<a target=\"_blank\" href=https://colab.research.google.com/notebooks/data_table.ipynb>data table notebook</a>'\n",
              "            + ' to learn more about interactive tables.';\n",
              "          element.innerHTML = '';\n",
              "          dataTable['output_type'] = 'display_data';\n",
              "          await google.colab.output.renderOutput(dataTable, element);\n",
              "          const docLink = document.createElement('div');\n",
              "          docLink.innerHTML = docLinkHtml;\n",
              "          element.appendChild(docLink);\n",
              "        }\n",
              "      </script>\n",
              "    </div>\n",
              "  </div>\n",
              "  "
            ]
          },
          "metadata": {},
          "execution_count": 4
        }
      ],
      "source": [
        "import pandas as pd\n",
        "import tensorflow as tf\n",
        "import numpy as np\n",
        "import matplotlib.pyplot as plt\n",
        "from sklearn.preprocessing import LabelEncoder, MultiLabelBinarizer\n",
        "from tensorflow.keras.optimizers import Adam\n",
        "\n",
        "# Open dataset using pandas (Path according to folder)\n",
        "df = pd.read_csv(\"/content/drive/MyDrive/Capstone/questionnaire_dataset.csv\")\n",
        "df"
      ]
    },
    {
      "cell_type": "markdown",
      "source": [
        "#### Clean Dataset"
      ],
      "metadata": {
        "id": "9HeWkLDORdhq"
      }
    },
    {
      "cell_type": "code",
      "execution_count": 5,
      "metadata": {
        "id": "yrB9f_A8sL9F"
      },
      "outputs": [],
      "source": [
        "#Function : Rename Column's Name\n",
        "def change_head(column_head, df):\n",
        "  df.rename(columns = column_head, inplace = True)\n",
        "  return df\n",
        "\n",
        "rename = {\"Dari ke-20 destinasi wisata di bawah ini, mana tempat yang pernah dikunjungi?\" : \"Destination\",\n",
        "          \"Berdasarkan destinasi wisata yang dipilih, dengan siapa Anda mengunjungi tempat tersebut?\" : \"Member\",\n",
        "          \"Berdasarkan orang yang ikut bersama Anda ke tempat destinasi tersebut, berapa umur semua orang yang ikut dalam perjalanan Anda tersebut?\" : \"Member's Age\",\n",
        "          \"Berdasarkan destinasi wisata yang dipilih, apa aktivitas yang Anda lakukan pada saat mengunjungi tempat tersebut?\" : \"Activity\",\n",
        "          \"Berdasarkan destinasi wisata yang Anda pilih, adakah aktivitas olahraga yang dapat dilakukan di tempat tersebut?\" : \"Sport Activity\",\n",
        "          \"Berdasarkan destinasi wisata yang Anda pilih, berapa lama Anda mengunjungi tempat tersebut?\" : \"Number of Days\",\n",
        "          \"Berdasarkan destinasi wisata yang Anda pilih, kapan Anda mengunjungi tempat tersebut?\" : \"Time of Year\"}\n",
        "\n",
        "# Change the dataset column's name\n",
        "df = change_head(rename, df)"
      ]
    },
    {
      "cell_type": "code",
      "execution_count": 6,
      "metadata": {
        "id": "fhTNXa1wsScF"
      },
      "outputs": [],
      "source": [
        "#Function : Drop Dataset Column\n",
        "def drop_column(to_drop, df):\n",
        "  df.drop(to_drop, inplace = True, axis = 1)\n",
        "  return df\n",
        "\n",
        "# Drop some unneeded columns\n",
        "drop = [\"Timestamp\", \"Email Address\", \"Email\"]\n",
        "df = drop_column(drop, df)"
      ]
    },
    {
      "cell_type": "code",
      "execution_count": 7,
      "metadata": {
        "id": "4eL38-cU71hd"
      },
      "outputs": [],
      "source": [
        "# Choose 41 destinations with the most value and delete the rest\n",
        "destination = df['Destination'].value_counts()[:41].index.tolist()\n",
        "df = df[df[\"Destination\"].isin(destination)]\n",
        "\n",
        "#Reindex the data for encode\n",
        "df.reset_index(inplace = True)"
      ]
    },
    {
      "cell_type": "code",
      "source": [
        "destination.sort()\n",
        "destination"
      ],
      "metadata": {
        "id": "G-1kV5CoKCxB",
        "outputId": "92a9fc47-6708-4d6d-c38e-f8259375a5ca",
        "colab": {
          "base_uri": "https://localhost:8080/"
        }
      },
      "execution_count": 8,
      "outputs": [
        {
          "output_type": "execute_result",
          "data": {
            "text/plain": [
              "['Air Terjun Madakaripura, Jawa Timur',\n",
              " 'Cukul Sunrise Point, Jawa Barat',\n",
              " 'Curug Cikaso, Jawa Barat',\n",
              " 'Curug Cipamingkis, Jawa Barat',\n",
              " 'Curug Cipendok, Jawa Tengah',\n",
              " 'Danau Toba, Sumatera Utara',\n",
              " 'Dunia Fantasi (Dufan), Jakarta',\n",
              " 'Grafika Cikole, Jawa Barat',\n",
              " 'Green Canyon Pangandaran, Jawa Barat',\n",
              " 'Gunung Bromo, Jawa Timur',\n",
              " 'Kawah Putih, Jawa Barat',\n",
              " 'Kepulauan Seribu, Jakarta',\n",
              " 'Labuan Bajo, NTT',\n",
              " 'Lombok, NTB',\n",
              " 'Malioboro, Yogyakarta',\n",
              " 'Nusa Penida, Bali',\n",
              " 'Pantai Air Manis, Sumatera Barat',\n",
              " 'Pantai Balekambang, Jawa Timur',\n",
              " 'Pantai Gesing, Yogyakarta',\n",
              " 'Pantai Kasap, Jawa Timur',\n",
              " 'Pantai Klingking, Bali',\n",
              " 'Pantai Pandawa, Bali',\n",
              " 'Pantai Pangandaran, Jawa Barat',\n",
              " 'Pantai Santolo, Jawa Barat',\n",
              " 'Pantai Sawarna, Banten',\n",
              " 'Pantai Srakung, Yogyakarta',\n",
              " 'Pantai Surumanis, Jawa Tengah',\n",
              " 'Pantai Tampora, Jawa Timur',\n",
              " 'Pantai Tanjung Lesung, Banten ',\n",
              " 'Pulau Padar, NTT',\n",
              " 'Raja Ampat, Papua Barat',\n",
              " 'Rancabali Glamping, Jawa Barat',\n",
              " 'Simpang Lima Gumul, Jawa Timur ',\n",
              " 'Taman Langit, Jawa Barat',\n",
              " 'Taman Laut Bunaken, Sulawesi Utara',\n",
              " 'Taman Mini Indonesia Indah (TMII), Jakarta',\n",
              " 'Taman Nasional Bantimurung, Sulawesi Selatan',\n",
              " 'Taman Safari Bogor, Jawa Barat',\n",
              " 'Taman Safari Pasuruan, Jawa Timur',\n",
              " 'Tebing Breksi, Yogyakarta',\n",
              " 'Ubud, Bali']"
            ]
          },
          "metadata": {},
          "execution_count": 8
        }
      ]
    },
    {
      "cell_type": "code",
      "source": [
        "df"
      ],
      "metadata": {
        "id": "aL4Cv2U-I-uv",
        "outputId": "0edbde72-a261-43ab-e1db-134aeeee0d06",
        "colab": {
          "base_uri": "https://localhost:8080/",
          "height": 658
        }
      },
      "execution_count": 9,
      "outputs": [
        {
          "output_type": "execute_result",
          "data": {
            "text/plain": [
              "     index                                 Destination  \\\n",
              "0        0                     Kawah Putih, Jawa Barat   \n",
              "1        1  Taman Mini Indonesia Indah (TMII), Jakarta   \n",
              "2        2              Taman Safari Bogor, Jawa Barat   \n",
              "3        3              Dunia Fantasi (Dufan), Jakarta   \n",
              "4        4              Pantai Pangandaran, Jawa Barat   \n",
              "..     ...                                         ...   \n",
              "874   1012                      Pantai Sawarna, Banten   \n",
              "875   1013                      Pantai Sawarna, Banten   \n",
              "876   1014                      Pantai Sawarna, Banten   \n",
              "877   1015                      Pantai Sawarna, Banten   \n",
              "878   1016                      Pantai Sawarna, Banten   \n",
              "\n",
              "                           Member  \\\n",
              "0         Bersama grup pertemanan   \n",
              "1         Bersama grup pertemanan   \n",
              "2         Bersama grup pertemanan   \n",
              "3         Bersama grup pertemanan   \n",
              "4    Bersama keluarga dengan anak   \n",
              "..                            ...   \n",
              "874       Bersama grup pertemanan   \n",
              "875       Bersama grup pertemanan   \n",
              "876       Bersama grup pertemanan   \n",
              "877       Bersama grup pertemanan   \n",
              "878              Bersama pasangan   \n",
              "\n",
              "                                          Member's Age  \\\n",
              "0                                 Remaja (14-20 tahun)   \n",
              "1                                 Remaja (14-20 tahun)   \n",
              "2                                 Dewasa (21-45 tahun)   \n",
              "3         Anak-anak (0-13 tahun), Dewasa (21-45 tahun)   \n",
              "4    Anak-anak (0-13 tahun), Remaja (14-20 tahun), ...   \n",
              "..                                                 ...   \n",
              "874         Remaja (14-20 tahun), Dewasa (21-45 tahun)   \n",
              "875         Remaja (14-20 tahun), Dewasa (21-45 tahun)   \n",
              "876                               Dewasa (21-45 tahun)   \n",
              "877         Remaja (14-20 tahun), Dewasa (21-45 tahun)   \n",
              "878                               Dewasa (21-45 tahun)   \n",
              "\n",
              "                                              Activity  \\\n",
              "0    Menikmati pemandangan, Mengambil foto atau selfie   \n",
              "1         Pergi ke festival/taman bermain, Jalan-jalan   \n",
              "2    Mengunjungi museum/kebun binatang/tempat berse...   \n",
              "3    Mengunjungi museum/kebun binatang/tempat berse...   \n",
              "4    Mengunjungi museum/kebun binatang/tempat berse...   \n",
              "..                                                 ...   \n",
              "874  Berpetualang di tempat tersebut, Menikmati pem...   \n",
              "875  Menikmati pemandangan, Mengambil foto atau sel...   \n",
              "876  Berpetualang di tempat tersebut, Menikmati pem...   \n",
              "877  Menikmati pemandangan, Mengambil foto atau sel...   \n",
              "878  Berpetualang di tempat tersebut, Menikmati pem...   \n",
              "\n",
              "                               Sport Activity      Number of Days  \\\n",
              "0                                   Tidak ada  Kurang dari sehari   \n",
              "1                                   Tidak ada  Kurang dari sehari   \n",
              "2                                   Tidak ada  Kurang dari sehari   \n",
              "3                                   Tidak ada  Kurang dari sehari   \n",
              "4    Olahraga ringan (Berenang, Hiking, Golf)            1 minggu   \n",
              "..                                        ...                 ...   \n",
              "874  Olahraga ringan (Berenang, Hiking, Golf)  Kurang dari sehari   \n",
              "875                                 Tidak ada  Kurang dari sehari   \n",
              "876                                 Tidak ada            1-3 hari   \n",
              "877                                 Tidak ada  Kurang dari sehari   \n",
              "878                                 Tidak ada  Kurang dari sehari   \n",
              "\n",
              "           Time of Year  \n",
              "0     Desember-Februari  \n",
              "1          Juni-Agustus  \n",
              "2          Juni-Agustus  \n",
              "3             Maret-Mei  \n",
              "4     Desember-Februari  \n",
              "..                  ...  \n",
              "874  September-November  \n",
              "875  September-November  \n",
              "876  September-November  \n",
              "877        Juni-Agustus  \n",
              "878        Juni-Agustus  \n",
              "\n",
              "[879 rows x 8 columns]"
            ],
            "text/html": [
              "\n",
              "  <div id=\"df-829ffa21-ca3e-4079-b26a-9bba14c1a902\">\n",
              "    <div class=\"colab-df-container\">\n",
              "      <div>\n",
              "<style scoped>\n",
              "    .dataframe tbody tr th:only-of-type {\n",
              "        vertical-align: middle;\n",
              "    }\n",
              "\n",
              "    .dataframe tbody tr th {\n",
              "        vertical-align: top;\n",
              "    }\n",
              "\n",
              "    .dataframe thead th {\n",
              "        text-align: right;\n",
              "    }\n",
              "</style>\n",
              "<table border=\"1\" class=\"dataframe\">\n",
              "  <thead>\n",
              "    <tr style=\"text-align: right;\">\n",
              "      <th></th>\n",
              "      <th>index</th>\n",
              "      <th>Destination</th>\n",
              "      <th>Member</th>\n",
              "      <th>Member's Age</th>\n",
              "      <th>Activity</th>\n",
              "      <th>Sport Activity</th>\n",
              "      <th>Number of Days</th>\n",
              "      <th>Time of Year</th>\n",
              "    </tr>\n",
              "  </thead>\n",
              "  <tbody>\n",
              "    <tr>\n",
              "      <th>0</th>\n",
              "      <td>0</td>\n",
              "      <td>Kawah Putih, Jawa Barat</td>\n",
              "      <td>Bersama grup pertemanan</td>\n",
              "      <td>Remaja (14-20 tahun)</td>\n",
              "      <td>Menikmati pemandangan, Mengambil foto atau selfie</td>\n",
              "      <td>Tidak ada</td>\n",
              "      <td>Kurang dari sehari</td>\n",
              "      <td>Desember-Februari</td>\n",
              "    </tr>\n",
              "    <tr>\n",
              "      <th>1</th>\n",
              "      <td>1</td>\n",
              "      <td>Taman Mini Indonesia Indah (TMII), Jakarta</td>\n",
              "      <td>Bersama grup pertemanan</td>\n",
              "      <td>Remaja (14-20 tahun)</td>\n",
              "      <td>Pergi ke festival/taman bermain, Jalan-jalan</td>\n",
              "      <td>Tidak ada</td>\n",
              "      <td>Kurang dari sehari</td>\n",
              "      <td>Juni-Agustus</td>\n",
              "    </tr>\n",
              "    <tr>\n",
              "      <th>2</th>\n",
              "      <td>2</td>\n",
              "      <td>Taman Safari Bogor, Jawa Barat</td>\n",
              "      <td>Bersama grup pertemanan</td>\n",
              "      <td>Dewasa (21-45 tahun)</td>\n",
              "      <td>Mengunjungi museum/kebun binatang/tempat berse...</td>\n",
              "      <td>Tidak ada</td>\n",
              "      <td>Kurang dari sehari</td>\n",
              "      <td>Juni-Agustus</td>\n",
              "    </tr>\n",
              "    <tr>\n",
              "      <th>3</th>\n",
              "      <td>3</td>\n",
              "      <td>Dunia Fantasi (Dufan), Jakarta</td>\n",
              "      <td>Bersama grup pertemanan</td>\n",
              "      <td>Anak-anak (0-13 tahun), Dewasa (21-45 tahun)</td>\n",
              "      <td>Mengunjungi museum/kebun binatang/tempat berse...</td>\n",
              "      <td>Tidak ada</td>\n",
              "      <td>Kurang dari sehari</td>\n",
              "      <td>Maret-Mei</td>\n",
              "    </tr>\n",
              "    <tr>\n",
              "      <th>4</th>\n",
              "      <td>4</td>\n",
              "      <td>Pantai Pangandaran, Jawa Barat</td>\n",
              "      <td>Bersama keluarga dengan anak</td>\n",
              "      <td>Anak-anak (0-13 tahun), Remaja (14-20 tahun), ...</td>\n",
              "      <td>Mengunjungi museum/kebun binatang/tempat berse...</td>\n",
              "      <td>Olahraga ringan (Berenang, Hiking, Golf)</td>\n",
              "      <td>1 minggu</td>\n",
              "      <td>Desember-Februari</td>\n",
              "    </tr>\n",
              "    <tr>\n",
              "      <th>...</th>\n",
              "      <td>...</td>\n",
              "      <td>...</td>\n",
              "      <td>...</td>\n",
              "      <td>...</td>\n",
              "      <td>...</td>\n",
              "      <td>...</td>\n",
              "      <td>...</td>\n",
              "      <td>...</td>\n",
              "    </tr>\n",
              "    <tr>\n",
              "      <th>874</th>\n",
              "      <td>1012</td>\n",
              "      <td>Pantai Sawarna, Banten</td>\n",
              "      <td>Bersama grup pertemanan</td>\n",
              "      <td>Remaja (14-20 tahun), Dewasa (21-45 tahun)</td>\n",
              "      <td>Berpetualang di tempat tersebut, Menikmati pem...</td>\n",
              "      <td>Olahraga ringan (Berenang, Hiking, Golf)</td>\n",
              "      <td>Kurang dari sehari</td>\n",
              "      <td>September-November</td>\n",
              "    </tr>\n",
              "    <tr>\n",
              "      <th>875</th>\n",
              "      <td>1013</td>\n",
              "      <td>Pantai Sawarna, Banten</td>\n",
              "      <td>Bersama grup pertemanan</td>\n",
              "      <td>Remaja (14-20 tahun), Dewasa (21-45 tahun)</td>\n",
              "      <td>Menikmati pemandangan, Mengambil foto atau sel...</td>\n",
              "      <td>Tidak ada</td>\n",
              "      <td>Kurang dari sehari</td>\n",
              "      <td>September-November</td>\n",
              "    </tr>\n",
              "    <tr>\n",
              "      <th>876</th>\n",
              "      <td>1014</td>\n",
              "      <td>Pantai Sawarna, Banten</td>\n",
              "      <td>Bersama grup pertemanan</td>\n",
              "      <td>Dewasa (21-45 tahun)</td>\n",
              "      <td>Berpetualang di tempat tersebut, Menikmati pem...</td>\n",
              "      <td>Tidak ada</td>\n",
              "      <td>1-3 hari</td>\n",
              "      <td>September-November</td>\n",
              "    </tr>\n",
              "    <tr>\n",
              "      <th>877</th>\n",
              "      <td>1015</td>\n",
              "      <td>Pantai Sawarna, Banten</td>\n",
              "      <td>Bersama grup pertemanan</td>\n",
              "      <td>Remaja (14-20 tahun), Dewasa (21-45 tahun)</td>\n",
              "      <td>Menikmati pemandangan, Mengambil foto atau sel...</td>\n",
              "      <td>Tidak ada</td>\n",
              "      <td>Kurang dari sehari</td>\n",
              "      <td>Juni-Agustus</td>\n",
              "    </tr>\n",
              "    <tr>\n",
              "      <th>878</th>\n",
              "      <td>1016</td>\n",
              "      <td>Pantai Sawarna, Banten</td>\n",
              "      <td>Bersama pasangan</td>\n",
              "      <td>Dewasa (21-45 tahun)</td>\n",
              "      <td>Berpetualang di tempat tersebut, Menikmati pem...</td>\n",
              "      <td>Tidak ada</td>\n",
              "      <td>Kurang dari sehari</td>\n",
              "      <td>Juni-Agustus</td>\n",
              "    </tr>\n",
              "  </tbody>\n",
              "</table>\n",
              "<p>879 rows × 8 columns</p>\n",
              "</div>\n",
              "      <button class=\"colab-df-convert\" onclick=\"convertToInteractive('df-829ffa21-ca3e-4079-b26a-9bba14c1a902')\"\n",
              "              title=\"Convert this dataframe to an interactive table.\"\n",
              "              style=\"display:none;\">\n",
              "        \n",
              "  <svg xmlns=\"http://www.w3.org/2000/svg\" height=\"24px\"viewBox=\"0 0 24 24\"\n",
              "       width=\"24px\">\n",
              "    <path d=\"M0 0h24v24H0V0z\" fill=\"none\"/>\n",
              "    <path d=\"M18.56 5.44l.94 2.06.94-2.06 2.06-.94-2.06-.94-.94-2.06-.94 2.06-2.06.94zm-11 1L8.5 8.5l.94-2.06 2.06-.94-2.06-.94L8.5 2.5l-.94 2.06-2.06.94zm10 10l.94 2.06.94-2.06 2.06-.94-2.06-.94-.94-2.06-.94 2.06-2.06.94z\"/><path d=\"M17.41 7.96l-1.37-1.37c-.4-.4-.92-.59-1.43-.59-.52 0-1.04.2-1.43.59L10.3 9.45l-7.72 7.72c-.78.78-.78 2.05 0 2.83L4 21.41c.39.39.9.59 1.41.59.51 0 1.02-.2 1.41-.59l7.78-7.78 2.81-2.81c.8-.78.8-2.07 0-2.86zM5.41 20L4 18.59l7.72-7.72 1.47 1.35L5.41 20z\"/>\n",
              "  </svg>\n",
              "      </button>\n",
              "      \n",
              "  <style>\n",
              "    .colab-df-container {\n",
              "      display:flex;\n",
              "      flex-wrap:wrap;\n",
              "      gap: 12px;\n",
              "    }\n",
              "\n",
              "    .colab-df-convert {\n",
              "      background-color: #E8F0FE;\n",
              "      border: none;\n",
              "      border-radius: 50%;\n",
              "      cursor: pointer;\n",
              "      display: none;\n",
              "      fill: #1967D2;\n",
              "      height: 32px;\n",
              "      padding: 0 0 0 0;\n",
              "      width: 32px;\n",
              "    }\n",
              "\n",
              "    .colab-df-convert:hover {\n",
              "      background-color: #E2EBFA;\n",
              "      box-shadow: 0px 1px 2px rgba(60, 64, 67, 0.3), 0px 1px 3px 1px rgba(60, 64, 67, 0.15);\n",
              "      fill: #174EA6;\n",
              "    }\n",
              "\n",
              "    [theme=dark] .colab-df-convert {\n",
              "      background-color: #3B4455;\n",
              "      fill: #D2E3FC;\n",
              "    }\n",
              "\n",
              "    [theme=dark] .colab-df-convert:hover {\n",
              "      background-color: #434B5C;\n",
              "      box-shadow: 0px 1px 3px 1px rgba(0, 0, 0, 0.15);\n",
              "      filter: drop-shadow(0px 1px 2px rgba(0, 0, 0, 0.3));\n",
              "      fill: #FFFFFF;\n",
              "    }\n",
              "  </style>\n",
              "\n",
              "      <script>\n",
              "        const buttonEl =\n",
              "          document.querySelector('#df-829ffa21-ca3e-4079-b26a-9bba14c1a902 button.colab-df-convert');\n",
              "        buttonEl.style.display =\n",
              "          google.colab.kernel.accessAllowed ? 'block' : 'none';\n",
              "\n",
              "        async function convertToInteractive(key) {\n",
              "          const element = document.querySelector('#df-829ffa21-ca3e-4079-b26a-9bba14c1a902');\n",
              "          const dataTable =\n",
              "            await google.colab.kernel.invokeFunction('convertToInteractive',\n",
              "                                                     [key], {});\n",
              "          if (!dataTable) return;\n",
              "\n",
              "          const docLinkHtml = 'Like what you see? Visit the ' +\n",
              "            '<a target=\"_blank\" href=https://colab.research.google.com/notebooks/data_table.ipynb>data table notebook</a>'\n",
              "            + ' to learn more about interactive tables.';\n",
              "          element.innerHTML = '';\n",
              "          dataTable['output_type'] = 'display_data';\n",
              "          await google.colab.output.renderOutput(dataTable, element);\n",
              "          const docLink = document.createElement('div');\n",
              "          docLink.innerHTML = docLinkHtml;\n",
              "          element.appendChild(docLink);\n",
              "        }\n",
              "      </script>\n",
              "    </div>\n",
              "  </div>\n",
              "  "
            ]
          },
          "metadata": {},
          "execution_count": 9
        }
      ]
    },
    {
      "cell_type": "code",
      "execution_count": 10,
      "metadata": {
        "colab": {
          "base_uri": "https://localhost:8080/"
        },
        "id": "4l61sLqPsU4W",
        "outputId": "d196df7e-167d-4800-f810-ede68e11ba5d"
      },
      "outputs": [
        {
          "output_type": "stream",
          "name": "stderr",
          "text": [
            "/usr/local/lib/python3.7/dist-packages/ipykernel_launcher.py:3: SettingWithCopyWarning: \n",
            "A value is trying to be set on a copy of a slice from a DataFrame.\n",
            "Try using .loc[row_indexer,col_indexer] = value instead\n",
            "\n",
            "See the caveats in the documentation: https://pandas.pydata.org/pandas-docs/stable/user_guide/indexing.html#returning-a-view-versus-a-copy\n",
            "  This is separate from the ipykernel package so we can avoid doing imports until\n",
            "/usr/local/lib/python3.7/dist-packages/ipykernel_launcher.py:7: SettingWithCopyWarning: \n",
            "A value is trying to be set on a copy of a slice from a DataFrame.\n",
            "Try using .loc[row_indexer,col_indexer] = value instead\n",
            "\n",
            "See the caveats in the documentation: https://pandas.pydata.org/pandas-docs/stable/user_guide/indexing.html#returning-a-view-versus-a-copy\n",
            "  import sys\n",
            "/usr/local/lib/python3.7/dist-packages/ipykernel_launcher.py:8: SettingWithCopyWarning: \n",
            "A value is trying to be set on a copy of a slice from a DataFrame.\n",
            "Try using .loc[row_indexer,col_indexer] = value instead\n",
            "\n",
            "See the caveats in the documentation: https://pandas.pydata.org/pandas-docs/stable/user_guide/indexing.html#returning-a-view-versus-a-copy\n",
            "  \n"
          ]
        }
      ],
      "source": [
        "#Function : Split Column's Value \n",
        "def split_column_value(column, df):\n",
        "  df[column] = df[column].apply(lambda x: set(str(x).split(\", \")))\n",
        "  return df[column]\n",
        "\n",
        "#Split some column for multilabel encode\n",
        "df[\"Activity\"] = split_column_value(\"Activity\", df)\n",
        "df[\"Member's Age\"] = split_column_value(\"Member's Age\", df)"
      ]
    },
    {
      "cell_type": "markdown",
      "source": [
        "#### Encode Dataset"
      ],
      "metadata": {
        "id": "N4JUwFilRmm8"
      }
    },
    {
      "cell_type": "code",
      "source": [
        "#Function : Multilabel Encode Dataset's Column\n",
        "def multilabel_encode(column, df):\n",
        "  multilabel = MultiLabelBinarizer()\n",
        "  col = multilabel.fit_transform(df[column])\n",
        "  print(multilabel.classes_) \n",
        "\n",
        "  dataframe = pd.DataFrame(col, columns = multilabel.classes_)\n",
        "  return dataframe\n",
        "\n",
        "#Multilabel encode some column\n",
        "df2 = multilabel_encode(\"Activity\", df)\n",
        "df3 = multilabel_encode(\"Member's Age\", df)\n",
        "\n",
        "#Concat all of dataframe\n",
        "new_df = pd.concat([df, df2, df3], axis=1, join = 'inner')"
      ],
      "metadata": {
        "colab": {
          "base_uri": "https://localhost:8080/"
        },
        "id": "7Wi_ZMp0PBgo",
        "outputId": "a9887b00-c61c-4c47-abc2-d673f3a06bcd"
      },
      "execution_count": 11,
      "outputs": [
        {
          "output_type": "stream",
          "name": "stdout",
          "text": [
            "['Berbelanja' 'Berpetualang di tempat tersebut' 'Fotografi' 'Jalan-jalan'\n",
            " 'Mengambil foto atau selfie'\n",
            " 'Mengunjungi museum/kebun binatang/tempat bersejarah'\n",
            " 'Menikmati pemandangan' 'Pergi ke festival/taman bermain']\n",
            "['Anak-anak (0-13 tahun)' 'Dewasa (21-45 tahun)'\n",
            " 'Lansia (lebih dari 65 tahun)' 'Remaja (14-20 tahun)'\n",
            " 'Usia Pertengahan (46-64)']\n"
          ]
        }
      ]
    },
    {
      "cell_type": "code",
      "source": [
        "#Label encode some column\n",
        "label = LabelEncoder()\n",
        "cols = [\"Destination\", \"Member\", \"Sport Activity\", \"Number of Days\", \"Time of Year\"]\n",
        "new_df[cols] = new_df[cols].apply(label.fit_transform)\n",
        "\n",
        "# Drop some unneeded columns\n",
        "new_df = drop_column([\"index\", \"Member's Age\", \"Activity\"], new_df)\n",
        "\n",
        "#Shuffle the Dataset\n",
        "new_df = new_df.sample(frac = 1)\n"
      ],
      "metadata": {
        "id": "SL5jjRlTPHEE"
      },
      "execution_count": 12,
      "outputs": []
    },
    {
      "cell_type": "code",
      "source": [
        "new_df.head(100)"
      ],
      "metadata": {
        "id": "jM5fu5THIXml",
        "outputId": "0b9270c6-3957-446e-8b73-581937f1cf7c",
        "colab": {
          "base_uri": "https://localhost:8080/",
          "height": 557
        }
      },
      "execution_count": 13,
      "outputs": [
        {
          "output_type": "execute_result",
          "data": {
            "text/plain": [
              "     Destination  Member  Sport Activity  Number of Days  Time of Year  \\\n",
              "162            6       0               0               3             3   \n",
              "759            5       0               1               3             2   \n",
              "78            12       0               1               0             2   \n",
              "876           24       0               1               1             3   \n",
              "153           14       1               1               3             1   \n",
              "..           ...     ...             ...             ...           ...   \n",
              "44             0       0               1               3             3   \n",
              "261           14       0               0               3             2   \n",
              "476           22       1               0               3             1   \n",
              "137           40       2               0               0             0   \n",
              "548           29       1               0               3             2   \n",
              "\n",
              "     Berbelanja  Berpetualang di tempat tersebut  Fotografi  Jalan-jalan  \\\n",
              "162           0                                1          0            0   \n",
              "759           0                                0          0            1   \n",
              "78            1                                1          1            1   \n",
              "876           0                                1          0            0   \n",
              "153           1                                0          0            1   \n",
              "..          ...                              ...        ...          ...   \n",
              "44            0                                1          0            0   \n",
              "261           1                                1          1            1   \n",
              "476           0                                0          0            1   \n",
              "137           0                                0          0            1   \n",
              "548           0                                1          0            0   \n",
              "\n",
              "     Mengambil foto atau selfie  \\\n",
              "162                           1   \n",
              "759                           1   \n",
              "78                            1   \n",
              "876                           1   \n",
              "153                           1   \n",
              "..                          ...   \n",
              "44                            1   \n",
              "261                           1   \n",
              "476                           1   \n",
              "137                           0   \n",
              "548                           1   \n",
              "\n",
              "     Mengunjungi museum/kebun binatang/tempat bersejarah  \\\n",
              "162                                                  0     \n",
              "759                                                  0     \n",
              "78                                                   0     \n",
              "876                                                  0     \n",
              "153                                                  0     \n",
              "..                                                 ...     \n",
              "44                                                   0     \n",
              "261                                                  0     \n",
              "476                                                  0     \n",
              "137                                                  0     \n",
              "548                                                  0     \n",
              "\n",
              "     Menikmati pemandangan  Pergi ke festival/taman bermain  \\\n",
              "162                      0                                1   \n",
              "759                      1                                0   \n",
              "78                       1                                0   \n",
              "876                      1                                0   \n",
              "153                      0                                0   \n",
              "..                     ...                              ...   \n",
              "44                       1                                0   \n",
              "261                      0                                0   \n",
              "476                      1                                0   \n",
              "137                      0                                0   \n",
              "548                      1                                0   \n",
              "\n",
              "     Anak-anak (0-13 tahun)  Dewasa (21-45 tahun)  \\\n",
              "162                       0                     1   \n",
              "759                       0                     0   \n",
              "78                        0                     1   \n",
              "876                       0                     1   \n",
              "153                       0                     1   \n",
              "..                      ...                   ...   \n",
              "44                        0                     1   \n",
              "261                       0                     0   \n",
              "476                       1                     1   \n",
              "137                       0                     1   \n",
              "548                       1                     1   \n",
              "\n",
              "     Lansia (lebih dari 65 tahun)  Remaja (14-20 tahun)  \\\n",
              "162                             0                     0   \n",
              "759                             0                     1   \n",
              "78                              0                     0   \n",
              "876                             0                     0   \n",
              "153                             0                     1   \n",
              "..                            ...                   ...   \n",
              "44                              0                     0   \n",
              "261                             0                     1   \n",
              "476                             0                     1   \n",
              "137                             0                     0   \n",
              "548                             0                     0   \n",
              "\n",
              "     Usia Pertengahan (46-64)  \n",
              "162                         0  \n",
              "759                         0  \n",
              "78                          0  \n",
              "876                         0  \n",
              "153                         1  \n",
              "..                        ...  \n",
              "44                          0  \n",
              "261                         0  \n",
              "476                         1  \n",
              "137                         0  \n",
              "548                         0  \n",
              "\n",
              "[100 rows x 18 columns]"
            ],
            "text/html": [
              "\n",
              "  <div id=\"df-709a874c-ea67-4344-8d2a-73b1d894ec94\">\n",
              "    <div class=\"colab-df-container\">\n",
              "      <div>\n",
              "<style scoped>\n",
              "    .dataframe tbody tr th:only-of-type {\n",
              "        vertical-align: middle;\n",
              "    }\n",
              "\n",
              "    .dataframe tbody tr th {\n",
              "        vertical-align: top;\n",
              "    }\n",
              "\n",
              "    .dataframe thead th {\n",
              "        text-align: right;\n",
              "    }\n",
              "</style>\n",
              "<table border=\"1\" class=\"dataframe\">\n",
              "  <thead>\n",
              "    <tr style=\"text-align: right;\">\n",
              "      <th></th>\n",
              "      <th>Destination</th>\n",
              "      <th>Member</th>\n",
              "      <th>Sport Activity</th>\n",
              "      <th>Number of Days</th>\n",
              "      <th>Time of Year</th>\n",
              "      <th>Berbelanja</th>\n",
              "      <th>Berpetualang di tempat tersebut</th>\n",
              "      <th>Fotografi</th>\n",
              "      <th>Jalan-jalan</th>\n",
              "      <th>Mengambil foto atau selfie</th>\n",
              "      <th>Mengunjungi museum/kebun binatang/tempat bersejarah</th>\n",
              "      <th>Menikmati pemandangan</th>\n",
              "      <th>Pergi ke festival/taman bermain</th>\n",
              "      <th>Anak-anak (0-13 tahun)</th>\n",
              "      <th>Dewasa (21-45 tahun)</th>\n",
              "      <th>Lansia (lebih dari 65 tahun)</th>\n",
              "      <th>Remaja (14-20 tahun)</th>\n",
              "      <th>Usia Pertengahan (46-64)</th>\n",
              "    </tr>\n",
              "  </thead>\n",
              "  <tbody>\n",
              "    <tr>\n",
              "      <th>162</th>\n",
              "      <td>6</td>\n",
              "      <td>0</td>\n",
              "      <td>0</td>\n",
              "      <td>3</td>\n",
              "      <td>3</td>\n",
              "      <td>0</td>\n",
              "      <td>1</td>\n",
              "      <td>0</td>\n",
              "      <td>0</td>\n",
              "      <td>1</td>\n",
              "      <td>0</td>\n",
              "      <td>0</td>\n",
              "      <td>1</td>\n",
              "      <td>0</td>\n",
              "      <td>1</td>\n",
              "      <td>0</td>\n",
              "      <td>0</td>\n",
              "      <td>0</td>\n",
              "    </tr>\n",
              "    <tr>\n",
              "      <th>759</th>\n",
              "      <td>5</td>\n",
              "      <td>0</td>\n",
              "      <td>1</td>\n",
              "      <td>3</td>\n",
              "      <td>2</td>\n",
              "      <td>0</td>\n",
              "      <td>0</td>\n",
              "      <td>0</td>\n",
              "      <td>1</td>\n",
              "      <td>1</td>\n",
              "      <td>0</td>\n",
              "      <td>1</td>\n",
              "      <td>0</td>\n",
              "      <td>0</td>\n",
              "      <td>0</td>\n",
              "      <td>0</td>\n",
              "      <td>1</td>\n",
              "      <td>0</td>\n",
              "    </tr>\n",
              "    <tr>\n",
              "      <th>78</th>\n",
              "      <td>12</td>\n",
              "      <td>0</td>\n",
              "      <td>1</td>\n",
              "      <td>0</td>\n",
              "      <td>2</td>\n",
              "      <td>1</td>\n",
              "      <td>1</td>\n",
              "      <td>1</td>\n",
              "      <td>1</td>\n",
              "      <td>1</td>\n",
              "      <td>0</td>\n",
              "      <td>1</td>\n",
              "      <td>0</td>\n",
              "      <td>0</td>\n",
              "      <td>1</td>\n",
              "      <td>0</td>\n",
              "      <td>0</td>\n",
              "      <td>0</td>\n",
              "    </tr>\n",
              "    <tr>\n",
              "      <th>876</th>\n",
              "      <td>24</td>\n",
              "      <td>0</td>\n",
              "      <td>1</td>\n",
              "      <td>1</td>\n",
              "      <td>3</td>\n",
              "      <td>0</td>\n",
              "      <td>1</td>\n",
              "      <td>0</td>\n",
              "      <td>0</td>\n",
              "      <td>1</td>\n",
              "      <td>0</td>\n",
              "      <td>1</td>\n",
              "      <td>0</td>\n",
              "      <td>0</td>\n",
              "      <td>1</td>\n",
              "      <td>0</td>\n",
              "      <td>0</td>\n",
              "      <td>0</td>\n",
              "    </tr>\n",
              "    <tr>\n",
              "      <th>153</th>\n",
              "      <td>14</td>\n",
              "      <td>1</td>\n",
              "      <td>1</td>\n",
              "      <td>3</td>\n",
              "      <td>1</td>\n",
              "      <td>1</td>\n",
              "      <td>0</td>\n",
              "      <td>0</td>\n",
              "      <td>1</td>\n",
              "      <td>1</td>\n",
              "      <td>0</td>\n",
              "      <td>0</td>\n",
              "      <td>0</td>\n",
              "      <td>0</td>\n",
              "      <td>1</td>\n",
              "      <td>0</td>\n",
              "      <td>1</td>\n",
              "      <td>1</td>\n",
              "    </tr>\n",
              "    <tr>\n",
              "      <th>...</th>\n",
              "      <td>...</td>\n",
              "      <td>...</td>\n",
              "      <td>...</td>\n",
              "      <td>...</td>\n",
              "      <td>...</td>\n",
              "      <td>...</td>\n",
              "      <td>...</td>\n",
              "      <td>...</td>\n",
              "      <td>...</td>\n",
              "      <td>...</td>\n",
              "      <td>...</td>\n",
              "      <td>...</td>\n",
              "      <td>...</td>\n",
              "      <td>...</td>\n",
              "      <td>...</td>\n",
              "      <td>...</td>\n",
              "      <td>...</td>\n",
              "      <td>...</td>\n",
              "    </tr>\n",
              "    <tr>\n",
              "      <th>44</th>\n",
              "      <td>0</td>\n",
              "      <td>0</td>\n",
              "      <td>1</td>\n",
              "      <td>3</td>\n",
              "      <td>3</td>\n",
              "      <td>0</td>\n",
              "      <td>1</td>\n",
              "      <td>0</td>\n",
              "      <td>0</td>\n",
              "      <td>1</td>\n",
              "      <td>0</td>\n",
              "      <td>1</td>\n",
              "      <td>0</td>\n",
              "      <td>0</td>\n",
              "      <td>1</td>\n",
              "      <td>0</td>\n",
              "      <td>0</td>\n",
              "      <td>0</td>\n",
              "    </tr>\n",
              "    <tr>\n",
              "      <th>261</th>\n",
              "      <td>14</td>\n",
              "      <td>0</td>\n",
              "      <td>0</td>\n",
              "      <td>3</td>\n",
              "      <td>2</td>\n",
              "      <td>1</td>\n",
              "      <td>1</td>\n",
              "      <td>1</td>\n",
              "      <td>1</td>\n",
              "      <td>1</td>\n",
              "      <td>0</td>\n",
              "      <td>0</td>\n",
              "      <td>0</td>\n",
              "      <td>0</td>\n",
              "      <td>0</td>\n",
              "      <td>0</td>\n",
              "      <td>1</td>\n",
              "      <td>0</td>\n",
              "    </tr>\n",
              "    <tr>\n",
              "      <th>476</th>\n",
              "      <td>22</td>\n",
              "      <td>1</td>\n",
              "      <td>0</td>\n",
              "      <td>3</td>\n",
              "      <td>1</td>\n",
              "      <td>0</td>\n",
              "      <td>0</td>\n",
              "      <td>0</td>\n",
              "      <td>1</td>\n",
              "      <td>1</td>\n",
              "      <td>0</td>\n",
              "      <td>1</td>\n",
              "      <td>0</td>\n",
              "      <td>1</td>\n",
              "      <td>1</td>\n",
              "      <td>0</td>\n",
              "      <td>1</td>\n",
              "      <td>1</td>\n",
              "    </tr>\n",
              "    <tr>\n",
              "      <th>137</th>\n",
              "      <td>40</td>\n",
              "      <td>2</td>\n",
              "      <td>0</td>\n",
              "      <td>0</td>\n",
              "      <td>0</td>\n",
              "      <td>0</td>\n",
              "      <td>0</td>\n",
              "      <td>0</td>\n",
              "      <td>1</td>\n",
              "      <td>0</td>\n",
              "      <td>0</td>\n",
              "      <td>0</td>\n",
              "      <td>0</td>\n",
              "      <td>0</td>\n",
              "      <td>1</td>\n",
              "      <td>0</td>\n",
              "      <td>0</td>\n",
              "      <td>0</td>\n",
              "    </tr>\n",
              "    <tr>\n",
              "      <th>548</th>\n",
              "      <td>29</td>\n",
              "      <td>1</td>\n",
              "      <td>0</td>\n",
              "      <td>3</td>\n",
              "      <td>2</td>\n",
              "      <td>0</td>\n",
              "      <td>1</td>\n",
              "      <td>0</td>\n",
              "      <td>0</td>\n",
              "      <td>1</td>\n",
              "      <td>0</td>\n",
              "      <td>1</td>\n",
              "      <td>0</td>\n",
              "      <td>1</td>\n",
              "      <td>1</td>\n",
              "      <td>0</td>\n",
              "      <td>0</td>\n",
              "      <td>0</td>\n",
              "    </tr>\n",
              "  </tbody>\n",
              "</table>\n",
              "<p>100 rows × 18 columns</p>\n",
              "</div>\n",
              "      <button class=\"colab-df-convert\" onclick=\"convertToInteractive('df-709a874c-ea67-4344-8d2a-73b1d894ec94')\"\n",
              "              title=\"Convert this dataframe to an interactive table.\"\n",
              "              style=\"display:none;\">\n",
              "        \n",
              "  <svg xmlns=\"http://www.w3.org/2000/svg\" height=\"24px\"viewBox=\"0 0 24 24\"\n",
              "       width=\"24px\">\n",
              "    <path d=\"M0 0h24v24H0V0z\" fill=\"none\"/>\n",
              "    <path d=\"M18.56 5.44l.94 2.06.94-2.06 2.06-.94-2.06-.94-.94-2.06-.94 2.06-2.06.94zm-11 1L8.5 8.5l.94-2.06 2.06-.94-2.06-.94L8.5 2.5l-.94 2.06-2.06.94zm10 10l.94 2.06.94-2.06 2.06-.94-2.06-.94-.94-2.06-.94 2.06-2.06.94z\"/><path d=\"M17.41 7.96l-1.37-1.37c-.4-.4-.92-.59-1.43-.59-.52 0-1.04.2-1.43.59L10.3 9.45l-7.72 7.72c-.78.78-.78 2.05 0 2.83L4 21.41c.39.39.9.59 1.41.59.51 0 1.02-.2 1.41-.59l7.78-7.78 2.81-2.81c.8-.78.8-2.07 0-2.86zM5.41 20L4 18.59l7.72-7.72 1.47 1.35L5.41 20z\"/>\n",
              "  </svg>\n",
              "      </button>\n",
              "      \n",
              "  <style>\n",
              "    .colab-df-container {\n",
              "      display:flex;\n",
              "      flex-wrap:wrap;\n",
              "      gap: 12px;\n",
              "    }\n",
              "\n",
              "    .colab-df-convert {\n",
              "      background-color: #E8F0FE;\n",
              "      border: none;\n",
              "      border-radius: 50%;\n",
              "      cursor: pointer;\n",
              "      display: none;\n",
              "      fill: #1967D2;\n",
              "      height: 32px;\n",
              "      padding: 0 0 0 0;\n",
              "      width: 32px;\n",
              "    }\n",
              "\n",
              "    .colab-df-convert:hover {\n",
              "      background-color: #E2EBFA;\n",
              "      box-shadow: 0px 1px 2px rgba(60, 64, 67, 0.3), 0px 1px 3px 1px rgba(60, 64, 67, 0.15);\n",
              "      fill: #174EA6;\n",
              "    }\n",
              "\n",
              "    [theme=dark] .colab-df-convert {\n",
              "      background-color: #3B4455;\n",
              "      fill: #D2E3FC;\n",
              "    }\n",
              "\n",
              "    [theme=dark] .colab-df-convert:hover {\n",
              "      background-color: #434B5C;\n",
              "      box-shadow: 0px 1px 3px 1px rgba(0, 0, 0, 0.15);\n",
              "      filter: drop-shadow(0px 1px 2px rgba(0, 0, 0, 0.3));\n",
              "      fill: #FFFFFF;\n",
              "    }\n",
              "  </style>\n",
              "\n",
              "      <script>\n",
              "        const buttonEl =\n",
              "          document.querySelector('#df-709a874c-ea67-4344-8d2a-73b1d894ec94 button.colab-df-convert');\n",
              "        buttonEl.style.display =\n",
              "          google.colab.kernel.accessAllowed ? 'block' : 'none';\n",
              "\n",
              "        async function convertToInteractive(key) {\n",
              "          const element = document.querySelector('#df-709a874c-ea67-4344-8d2a-73b1d894ec94');\n",
              "          const dataTable =\n",
              "            await google.colab.kernel.invokeFunction('convertToInteractive',\n",
              "                                                     [key], {});\n",
              "          if (!dataTable) return;\n",
              "\n",
              "          const docLinkHtml = 'Like what you see? Visit the ' +\n",
              "            '<a target=\"_blank\" href=https://colab.research.google.com/notebooks/data_table.ipynb>data table notebook</a>'\n",
              "            + ' to learn more about interactive tables.';\n",
              "          element.innerHTML = '';\n",
              "          dataTable['output_type'] = 'display_data';\n",
              "          await google.colab.output.renderOutput(dataTable, element);\n",
              "          const docLink = document.createElement('div');\n",
              "          docLink.innerHTML = docLinkHtml;\n",
              "          element.appendChild(docLink);\n",
              "        }\n",
              "      </script>\n",
              "    </div>\n",
              "  </div>\n",
              "  "
            ]
          },
          "metadata": {},
          "execution_count": 13
        }
      ]
    },
    {
      "cell_type": "markdown",
      "source": [
        "#### OverSampling Dataset"
      ],
      "metadata": {
        "id": "G5Os5AMFRu4v"
      }
    },
    {
      "cell_type": "code",
      "execution_count": 14,
      "metadata": {
        "colab": {
          "base_uri": "https://localhost:8080/",
          "height": 528
        },
        "id": "LBx5PLcGsrtE",
        "outputId": "a6abbbc6-18db-4a05-c6c4-6ab01c397ce9"
      },
      "outputs": [
        {
          "output_type": "execute_result",
          "data": {
            "text/plain": [
              "<matplotlib.axes._subplots.AxesSubplot at 0x7ff13e243f50>"
            ]
          },
          "metadata": {},
          "execution_count": 14
        },
        {
          "output_type": "display_data",
          "data": {
            "text/plain": [
              "<Figure size 432x288 with 1 Axes>"
            ],
            "image/png": "[encoded data removed]"
          },
          "metadata": {
            "needs_background": "light"
          }
        }
      ],
      "source": [
        "#Visualization of the amount of data per tourist destination\n",
        "dest = df[\"Destination\"].value_counts()\n",
        "dest.plot(kind='bar', title='Destination')"
      ]
    },
    {
      "cell_type": "code",
      "execution_count": 15,
      "metadata": {
        "id": "u8QrAtrzueGn"
      },
      "outputs": [],
      "source": [
        "#Separate data which is class label\n",
        "y = new_df[\"Destination\"]\n",
        "x = new_df.drop([\"Destination\"], axis = 1)"
      ]
    },
    {
      "cell_type": "code",
      "execution_count": 16,
      "metadata": {
        "colab": {
          "base_uri": "https://localhost:8080/"
        },
        "id": "QuUWSdWUt1Cz",
        "outputId": "ffec1a45-e7f5-4dbb-e942-61032ef44c9a"
      },
      "outputs": [
        {
          "output_type": "stream",
          "name": "stdout",
          "text": [
            "3344 new random picked points\n"
          ]
        }
      ],
      "source": [
        "from imblearn.over_sampling import RandomOverSampler\n",
        "\n",
        "#OverSampling data with RandomOverSampler\n",
        "ros = RandomOverSampler(random_state = 2)\n",
        "x_ros, y_ros = ros.fit_resample(x, y)\n",
        "\n",
        "print(x_ros.shape[0] - x.shape[0], 'new random picked points')"
      ]
    },
    {
      "cell_type": "code",
      "execution_count": 17,
      "metadata": {
        "id": "OIOIotOSuuXm",
        "colab": {
          "base_uri": "https://localhost:8080/",
          "height": 302
        },
        "outputId": "96440d2c-c3b1-43bf-86f0-8495749f04b6"
      },
      "outputs": [
        {
          "output_type": "execute_result",
          "data": {
            "text/plain": [
              "<matplotlib.axes._subplots.AxesSubplot at 0x7ff13c8a3c90>"
            ]
          },
          "metadata": {},
          "execution_count": 17
        },
        {
          "output_type": "display_data",
          "data": {
            "text/plain": [
              "<Figure size 432x288 with 1 Axes>"
            ],
            "image/png": "[encoded data removed]"
          },
          "metadata": {
            "needs_background": "light"
          }
        }
      ],
      "source": [
        "#Visualization of the amount of data per tourist destination after OverSampling\n",
        "y_plot = y_ros.value_counts()\n",
        "y_plot.plot(kind='bar', title='Destination')"
      ]
    },
    {
      "cell_type": "code",
      "execution_count": 18,
      "metadata": {
        "id": "FoF6n7mByJDc"
      },
      "outputs": [],
      "source": [
        "#Enter the new data into the variable\n",
        "x = x_ros\n",
        "y = y_ros"
      ]
    },
    {
      "cell_type": "code",
      "execution_count": 19,
      "metadata": {
        "id": "XQH8O_szIDx8"
      },
      "outputs": [],
      "source": [
        "#Shuffle data\n",
        "indices = tf.range(start=0, limit=tf.shape(x)[0], dtype=tf.int32)\n",
        "idx = tf.random.shuffle(indices)\n",
        "x = tf.gather(x, idx)\n",
        "y = tf.gather(y, idx)"
      ]
    },
    {
      "cell_type": "code",
      "source": [
        "from sklearn import preprocessing\n",
        "\n",
        "#scale = preprocessing.MinMaxScaler()\n",
        "#x = scale.fit_transform(x)\n",
        "#x"
      ],
      "metadata": {
        "id": "hThfvTa5FQkM"
      },
      "execution_count": 20,
      "outputs": []
    },
    {
      "cell_type": "markdown",
      "source": [
        "#### Split Dataset For Training\n",
        "The dataset is divided into 3 parts, that is Training Data (70%), Validation Data (20%), and Test Data (10%)"
      ],
      "metadata": {
        "id": "iupDY4-wR8UT"
      }
    },
    {
      "cell_type": "code",
      "execution_count": 21,
      "metadata": {
        "id": "3KpP_qRsyRLb"
      },
      "outputs": [],
      "source": [
        "#Function : Split Data for Training\n",
        "def split_data(df, train_bound, val_bound):\n",
        "  train = df[:train_bound]\n",
        "  validation = df[train_bound:val_bound]\n",
        "  test = df[val_bound:]\n",
        "\n",
        "  return train, validation, test\n",
        "\n",
        "#Convert data to tensor\n",
        "x = tf.convert_to_tensor(x)\n",
        "y = tf.convert_to_tensor(y)\n",
        "\n",
        "#Define data split limit\n",
        "train_bound = int(0.7*4223)\n",
        "val_bound = int(0.9*4223)\n",
        "\n",
        "#Split data\n",
        "train_x, val_x, test_x = split_data(x, train_bound, val_bound)\n",
        "train_y, val_y, test_y = split_data(y, train_bound, val_bound)"
      ]
    },
    {
      "cell_type": "code",
      "execution_count": 22,
      "metadata": {
        "colab": {
          "base_uri": "https://localhost:8080/"
        },
        "id": "5Uw8Sm3myYYU",
        "outputId": "91279840-6618-49fc-beb3-17f044eac34a"
      },
      "outputs": [
        {
          "output_type": "stream",
          "name": "stdout",
          "text": [
            "tf.Tensor([24 38  4 ... 10 28  8], shape=(2956,), dtype=int64)\n"
          ]
        }
      ],
      "source": [
        "print(train_y)"
      ]
    },
    {
      "cell_type": "markdown",
      "source": [
        "## Build The Deep Learning Model"
      ],
      "metadata": {
        "id": "TdB3rBXGSTim"
      }
    },
    {
      "cell_type": "code",
      "execution_count": 70,
      "metadata": {
        "id": "4WruqorZybcs"
      },
      "outputs": [],
      "source": [
        "#Build Deep Learning model\n",
        "model = tf.keras.Sequential([\n",
        "    tf.keras.layers.Dense(250, input_shape = (None, 2956, 17) ,activation='relu'),\n",
        "    #tf.keras.layers.Dense(750, activation='relu'),\n",
        "    #tf.keras.layers.Dense(125, activation='relu'),\n",
        "    tf.keras.layers.Dense(250, activation='relu'),\n",
        "    tf.keras.layers.Dense(250, activation='relu'),\n",
        "    tf.keras.layers.Dropout(0.2),\n",
        "    tf.keras.layers.Dense(41, activation = 'softmax')\n",
        "  ])\n",
        "\n",
        "model.compile(optimizer=Adam(learning_rate = 0.001),\n",
        "              loss='sparse_categorical_crossentropy',\n",
        "              metrics=['accuracy'])"
      ]
    },
    {
      "cell_type": "code",
      "execution_count": 71,
      "metadata": {
        "colab": {
          "base_uri": "https://localhost:8080/"
        },
        "id": "oF4LBZKczIt-",
        "outputId": "449eeac2-03ba-4adf-c5c2-b423fbeb771d"
      },
      "outputs": [
        {
          "output_type": "stream",
          "name": "stdout",
          "text": [
            "Model: \"sequential_2\"\n",
            "_________________________________________________________________\n",
            " Layer (type)                Output Shape              Param #   \n",
            "=================================================================\n",
            " dense_8 (Dense)             (None, None, 2956, 250)   4500      \n",
            "                                                                 \n",
            " dense_9 (Dense)             (None, None, 2956, 250)   62750     \n",
            "                                                                 \n",
            " dense_10 (Dense)            (None, None, 2956, 250)   62750     \n",
            "                                                                 \n",
            " dropout_2 (Dropout)         (None, None, 2956, 250)   0         \n",
            "                                                                 \n",
            " dense_11 (Dense)            (None, None, 2956, 41)    10291     \n",
            "                                                                 \n",
            "=================================================================\n",
            "Total params: 140,291\n",
            "Trainable params: 140,291\n",
            "Non-trainable params: 0\n",
            "_________________________________________________________________\n"
          ]
        }
      ],
      "source": [
        "model.summary()"
      ]
    },
    {
      "cell_type": "markdown",
      "source": [
        "## Train the Model"
      ],
      "metadata": {
        "id": "dRFF4UXHSdhZ"
      }
    },
    {
      "cell_type": "code",
      "execution_count": 72,
      "metadata": {
        "colab": {
          "base_uri": "https://localhost:8080/",
          "height": 1000
        },
        "id": "WEQ76dfezwlt",
        "outputId": "fcbe38ae-acae-4c60-bfee-b7f2b3e47f8c"
      },
      "outputs": [
        {
          "output_type": "stream",
          "name": "stdout",
          "text": [
            "Epoch 1/500\n",
            "WARNING:tensorflow:Model was constructed with shape (None, None, 2956, 17) for input KerasTensor(type_spec=TensorSpec(shape=(None, None, 2956, 17), dtype=tf.float32, name='dense_8_input'), name='dense_8_input', description=\"created by layer 'dense_8_input'\"), but it was called on an input with incompatible shape (None, 17).\n",
            "WARNING:tensorflow:Model was constructed with shape (None, None, 2956, 17) for input KerasTensor(type_spec=TensorSpec(shape=(None, None, 2956, 17), dtype=tf.float32, name='dense_8_input'), name='dense_8_input', description=\"created by layer 'dense_8_input'\"), but it was called on an input with incompatible shape (None, 17).\n",
            "93/93 [==============================] - ETA: 0s - loss: 3.3635 - accuracy: 0.1235WARNING:tensorflow:Model was constructed with shape (None, None, 2956, 17) for input KerasTensor(type_spec=TensorSpec(shape=(None, None, 2956, 17), dtype=tf.float32, name='dense_8_input'), name='dense_8_input', description=\"created by layer 'dense_8_input'\"), but it was called on an input with incompatible shape (None, 17).\n",
            "93/93 [==============================] - 1s 7ms/step - loss: 3.3635 - accuracy: 0.1235 - val_loss: 2.8123 - val_accuracy: 0.2133\n",
            "Epoch 2/500\n",
            "93/93 [==============================] - 0s 5ms/step - loss: 2.5611 - accuracy: 0.2656 - val_loss: 2.3446 - val_accuracy: 0.3353\n",
            "Epoch 3/500\n",
            "93/93 [==============================] - 0s 5ms/step - loss: 2.1575 - accuracy: 0.3725 - val_loss: 2.0023 - val_accuracy: 0.4230\n",
            "Epoch 4/500\n",
            "93/93 [==============================] - 1s 5ms/step - loss: 1.9121 - accuracy: 0.4229 - val_loss: 1.8261 - val_accuracy: 0.4775\n",
            "Epoch 5/500\n",
            "93/93 [==============================] - 0s 5ms/step - loss: 1.6935 - accuracy: 0.4824 - val_loss: 1.5999 - val_accuracy: 0.5545\n",
            "Epoch 6/500\n",
            "93/93 [==============================] - 0s 5ms/step - loss: 1.5023 - accuracy: 0.5288 - val_loss: 1.4486 - val_accuracy: 0.5924\n",
            "Epoch 7/500\n",
            "93/93 [==============================] - 1s 5ms/step - loss: 1.3643 - accuracy: 0.5707 - val_loss: 1.3107 - val_accuracy: 0.5900\n",
            "Epoch 8/500\n",
            "93/93 [==============================] - 0s 5ms/step - loss: 1.2251 - accuracy: 0.5988 - val_loss: 1.2597 - val_accuracy: 0.6149\n",
            "Epoch 9/500\n",
            "93/93 [==============================] - 0s 5ms/step - loss: 1.1558 - accuracy: 0.6147 - val_loss: 1.1259 - val_accuracy: 0.6220\n",
            "Epoch 10/500\n",
            "93/93 [==============================] - 0s 5ms/step - loss: 1.0562 - accuracy: 0.6424 - val_loss: 1.0541 - val_accuracy: 0.6493\n",
            "Epoch 11/500\n",
            "93/93 [==============================] - 0s 5ms/step - loss: 1.0172 - accuracy: 0.6505 - val_loss: 1.0259 - val_accuracy: 0.6694\n",
            "Epoch 12/500\n",
            "93/93 [==============================] - 0s 5ms/step - loss: 0.9560 - accuracy: 0.6695 - val_loss: 0.9798 - val_accuracy: 0.6611\n",
            "Epoch 13/500\n",
            "93/93 [==============================] - 0s 5ms/step - loss: 0.9025 - accuracy: 0.6742 - val_loss: 0.9194 - val_accuracy: 0.6967\n",
            "Epoch 14/500\n",
            "93/93 [==============================] - 0s 5ms/step - loss: 0.8568 - accuracy: 0.6942 - val_loss: 0.9147 - val_accuracy: 0.6860\n",
            "Epoch 15/500\n",
            "93/93 [==============================] - 0s 5ms/step - loss: 0.8394 - accuracy: 0.6918 - val_loss: 0.8979 - val_accuracy: 0.7180\n",
            "Epoch 16/500\n",
            "93/93 [==============================] - 0s 5ms/step - loss: 0.8155 - accuracy: 0.6993 - val_loss: 0.8187 - val_accuracy: 0.7145\n",
            "Epoch 17/500\n",
            "93/93 [==============================] - 0s 5ms/step - loss: 0.7677 - accuracy: 0.7118 - val_loss: 0.8111 - val_accuracy: 0.7239\n",
            "Epoch 18/500\n",
            "93/93 [==============================] - 0s 5ms/step - loss: 0.7513 - accuracy: 0.7168 - val_loss: 0.7794 - val_accuracy: 0.7571\n",
            "Epoch 19/500\n",
            "93/93 [==============================] - 0s 5ms/step - loss: 0.7395 - accuracy: 0.7253 - val_loss: 0.7828 - val_accuracy: 0.7370\n",
            "Epoch 20/500\n",
            "93/93 [==============================] - 0s 5ms/step - loss: 0.7161 - accuracy: 0.7311 - val_loss: 0.7619 - val_accuracy: 0.7512\n",
            "Epoch 21/500\n",
            "90/93 [============================>.] - ETA: 0s - loss: 0.7038 - accuracy: 0.7243"
          ]
        },
        {
          "output_type": "error",
          "ename": "KeyboardInterrupt",
          "evalue": "ignored",
          "traceback": [
            "\u001b[0;31m---------------------------------------------------------------------------\u001b[0m",
            "\u001b[0;31mKeyboardInterrupt\u001b[0m                         Traceback (most recent call last)",
            "\u001b[0;32m<ipython-input-72-92c3c4ce293a>\u001b[0m in \u001b[0;36m<module>\u001b[0;34m()\u001b[0m\n\u001b[1;32m      1\u001b[0m \u001b[0;31m#Train the model\u001b[0m\u001b[0;34m\u001b[0m\u001b[0;34m\u001b[0m\u001b[0;34m\u001b[0m\u001b[0m\n\u001b[0;32m----> 2\u001b[0;31m \u001b[0mhistory\u001b[0m \u001b[0;34m=\u001b[0m \u001b[0mmodel\u001b[0m\u001b[0;34m.\u001b[0m\u001b[0mfit\u001b[0m\u001b[0;34m(\u001b[0m\u001b[0mtrain_x\u001b[0m\u001b[0;34m,\u001b[0m \u001b[0mtrain_y\u001b[0m\u001b[0;34m,\u001b[0m \u001b[0mepochs\u001b[0m \u001b[0;34m=\u001b[0m \u001b[0;36m500\u001b[0m\u001b[0;34m,\u001b[0m \u001b[0mvalidation_data\u001b[0m \u001b[0;34m=\u001b[0m \u001b[0;34m(\u001b[0m\u001b[0mval_x\u001b[0m\u001b[0;34m,\u001b[0m \u001b[0mval_y\u001b[0m\u001b[0;34m)\u001b[0m\u001b[0;34m)\u001b[0m\u001b[0;34m\u001b[0m\u001b[0;34m\u001b[0m\u001b[0m\n\u001b[0m",
            "\u001b[0;32m/usr/local/lib/python3.7/dist-packages/keras/utils/traceback_utils.py\u001b[0m in \u001b[0;36merror_handler\u001b[0;34m(*args, **kwargs)\u001b[0m\n\u001b[1;32m     62\u001b[0m     \u001b[0mfiltered_tb\u001b[0m \u001b[0;34m=\u001b[0m \u001b[0;32mNone\u001b[0m\u001b[0;34m\u001b[0m\u001b[0;34m\u001b[0m\u001b[0m\n\u001b[1;32m     63\u001b[0m     \u001b[0;32mtry\u001b[0m\u001b[0;34m:\u001b[0m\u001b[0;34m\u001b[0m\u001b[0;34m\u001b[0m\u001b[0m\n\u001b[0;32m---> 64\u001b[0;31m       \u001b[0;32mreturn\u001b[0m \u001b[0mfn\u001b[0m\u001b[0;34m(\u001b[0m\u001b[0;34m*\u001b[0m\u001b[0margs\u001b[0m\u001b[0;34m,\u001b[0m \u001b[0;34m**\u001b[0m\u001b[0mkwargs\u001b[0m\u001b[0;34m)\u001b[0m\u001b[0;34m\u001b[0m\u001b[0;34m\u001b[0m\u001b[0m\n\u001b[0m\u001b[1;32m     65\u001b[0m     \u001b[0;32mexcept\u001b[0m \u001b[0mException\u001b[0m \u001b[0;32mas\u001b[0m \u001b[0me\u001b[0m\u001b[0;34m:\u001b[0m  \u001b[0;31m# pylint: disable=broad-except\u001b[0m\u001b[0;34m\u001b[0m\u001b[0;34m\u001b[0m\u001b[0m\n\u001b[1;32m     66\u001b[0m       \u001b[0mfiltered_tb\u001b[0m \u001b[0;34m=\u001b[0m \u001b[0m_process_traceback_frames\u001b[0m\u001b[0;34m(\u001b[0m\u001b[0me\u001b[0m\u001b[0;34m.\u001b[0m\u001b[0m__traceback__\u001b[0m\u001b[0;34m)\u001b[0m\u001b[0;34m\u001b[0m\u001b[0;34m\u001b[0m\u001b[0m\n",
            "\u001b[0;32m/usr/local/lib/python3.7/dist-packages/keras/engine/training.py\u001b[0m in \u001b[0;36mfit\u001b[0;34m(self, x, y, batch_size, epochs, verbose, callbacks, validation_split, validation_data, shuffle, class_weight, sample_weight, initial_epoch, steps_per_epoch, validation_steps, validation_batch_size, validation_freq, max_queue_size, workers, use_multiprocessing)\u001b[0m\n\u001b[1;32m   1429\u001b[0m               \u001b[0muse_multiprocessing\u001b[0m\u001b[0;34m=\u001b[0m\u001b[0muse_multiprocessing\u001b[0m\u001b[0;34m,\u001b[0m\u001b[0;34m\u001b[0m\u001b[0;34m\u001b[0m\u001b[0m\n\u001b[1;32m   1430\u001b[0m               \u001b[0mreturn_dict\u001b[0m\u001b[0;34m=\u001b[0m\u001b[0;32mTrue\u001b[0m\u001b[0;34m,\u001b[0m\u001b[0;34m\u001b[0m\u001b[0;34m\u001b[0m\u001b[0m\n\u001b[0;32m-> 1431\u001b[0;31m               _use_cached_eval_dataset=True)\n\u001b[0m\u001b[1;32m   1432\u001b[0m           \u001b[0mval_logs\u001b[0m \u001b[0;34m=\u001b[0m \u001b[0;34m{\u001b[0m\u001b[0;34m'val_'\u001b[0m \u001b[0;34m+\u001b[0m \u001b[0mname\u001b[0m\u001b[0;34m:\u001b[0m \u001b[0mval\u001b[0m \u001b[0;32mfor\u001b[0m \u001b[0mname\u001b[0m\u001b[0;34m,\u001b[0m \u001b[0mval\u001b[0m \u001b[0;32min\u001b[0m \u001b[0mval_logs\u001b[0m\u001b[0;34m.\u001b[0m\u001b[0mitems\u001b[0m\u001b[0;34m(\u001b[0m\u001b[0;34m)\u001b[0m\u001b[0;34m}\u001b[0m\u001b[0;34m\u001b[0m\u001b[0;34m\u001b[0m\u001b[0m\n\u001b[1;32m   1433\u001b[0m           \u001b[0mepoch_logs\u001b[0m\u001b[0;34m.\u001b[0m\u001b[0mupdate\u001b[0m\u001b[0;34m(\u001b[0m\u001b[0mval_logs\u001b[0m\u001b[0;34m)\u001b[0m\u001b[0;34m\u001b[0m\u001b[0;34m\u001b[0m\u001b[0m\n",
            "\u001b[0;32m/usr/local/lib/python3.7/dist-packages/keras/utils/traceback_utils.py\u001b[0m in \u001b[0;36merror_handler\u001b[0;34m(*args, **kwargs)\u001b[0m\n\u001b[1;32m     62\u001b[0m     \u001b[0mfiltered_tb\u001b[0m \u001b[0;34m=\u001b[0m \u001b[0;32mNone\u001b[0m\u001b[0;34m\u001b[0m\u001b[0;34m\u001b[0m\u001b[0m\n\u001b[1;32m     63\u001b[0m     \u001b[0;32mtry\u001b[0m\u001b[0;34m:\u001b[0m\u001b[0;34m\u001b[0m\u001b[0;34m\u001b[0m\u001b[0m\n\u001b[0;32m---> 64\u001b[0;31m       \u001b[0;32mreturn\u001b[0m \u001b[0mfn\u001b[0m\u001b[0;34m(\u001b[0m\u001b[0;34m*\u001b[0m\u001b[0margs\u001b[0m\u001b[0;34m,\u001b[0m \u001b[0;34m**\u001b[0m\u001b[0mkwargs\u001b[0m\u001b[0;34m)\u001b[0m\u001b[0;34m\u001b[0m\u001b[0;34m\u001b[0m\u001b[0m\n\u001b[0m\u001b[1;32m     65\u001b[0m     \u001b[0;32mexcept\u001b[0m \u001b[0mException\u001b[0m \u001b[0;32mas\u001b[0m \u001b[0me\u001b[0m\u001b[0;34m:\u001b[0m  \u001b[0;31m# pylint: disable=broad-except\u001b[0m\u001b[0;34m\u001b[0m\u001b[0;34m\u001b[0m\u001b[0m\n\u001b[1;32m     66\u001b[0m       \u001b[0mfiltered_tb\u001b[0m \u001b[0;34m=\u001b[0m \u001b[0m_process_traceback_frames\u001b[0m\u001b[0;34m(\u001b[0m\u001b[0me\u001b[0m\u001b[0;34m.\u001b[0m\u001b[0m__traceback__\u001b[0m\u001b[0;34m)\u001b[0m\u001b[0;34m\u001b[0m\u001b[0;34m\u001b[0m\u001b[0m\n",
            "\u001b[0;32m/usr/local/lib/python3.7/dist-packages/keras/engine/training.py\u001b[0m in \u001b[0;36mevaluate\u001b[0;34m(self, x, y, batch_size, verbose, sample_weight, steps, callbacks, max_queue_size, workers, use_multiprocessing, return_dict, **kwargs)\u001b[0m\n\u001b[1;32m   1714\u001b[0m             \u001b[0;32mwith\u001b[0m \u001b[0mtf\u001b[0m\u001b[0;34m.\u001b[0m\u001b[0mprofiler\u001b[0m\u001b[0;34m.\u001b[0m\u001b[0mexperimental\u001b[0m\u001b[0;34m.\u001b[0m\u001b[0mTrace\u001b[0m\u001b[0;34m(\u001b[0m\u001b[0;34m'test'\u001b[0m\u001b[0;34m,\u001b[0m \u001b[0mstep_num\u001b[0m\u001b[0;34m=\u001b[0m\u001b[0mstep\u001b[0m\u001b[0;34m,\u001b[0m \u001b[0m_r\u001b[0m\u001b[0;34m=\u001b[0m\u001b[0;36m1\u001b[0m\u001b[0;34m)\u001b[0m\u001b[0;34m:\u001b[0m\u001b[0;34m\u001b[0m\u001b[0;34m\u001b[0m\u001b[0m\n\u001b[1;32m   1715\u001b[0m               \u001b[0mcallbacks\u001b[0m\u001b[0;34m.\u001b[0m\u001b[0mon_test_batch_begin\u001b[0m\u001b[0;34m(\u001b[0m\u001b[0mstep\u001b[0m\u001b[0;34m)\u001b[0m\u001b[0;34m\u001b[0m\u001b[0;34m\u001b[0m\u001b[0m\n\u001b[0;32m-> 1716\u001b[0;31m               \u001b[0mtmp_logs\u001b[0m \u001b[0;34m=\u001b[0m \u001b[0mself\u001b[0m\u001b[0;34m.\u001b[0m\u001b[0mtest_function\u001b[0m\u001b[0;34m(\u001b[0m\u001b[0miterator\u001b[0m\u001b[0;34m)\u001b[0m\u001b[0;34m\u001b[0m\u001b[0;34m\u001b[0m\u001b[0m\n\u001b[0m\u001b[1;32m   1717\u001b[0m               \u001b[0;32mif\u001b[0m \u001b[0mdata_handler\u001b[0m\u001b[0;34m.\u001b[0m\u001b[0mshould_sync\u001b[0m\u001b[0;34m:\u001b[0m\u001b[0;34m\u001b[0m\u001b[0;34m\u001b[0m\u001b[0m\n\u001b[1;32m   1718\u001b[0m                 \u001b[0mcontext\u001b[0m\u001b[0;34m.\u001b[0m\u001b[0masync_wait\u001b[0m\u001b[0;34m(\u001b[0m\u001b[0;34m)\u001b[0m\u001b[0;34m\u001b[0m\u001b[0;34m\u001b[0m\u001b[0m\n",
            "\u001b[0;32m/usr/local/lib/python3.7/dist-packages/tensorflow/python/util/traceback_utils.py\u001b[0m in \u001b[0;36merror_handler\u001b[0;34m(*args, **kwargs)\u001b[0m\n\u001b[1;32m    148\u001b[0m     \u001b[0mfiltered_tb\u001b[0m \u001b[0;34m=\u001b[0m \u001b[0;32mNone\u001b[0m\u001b[0;34m\u001b[0m\u001b[0;34m\u001b[0m\u001b[0m\n\u001b[1;32m    149\u001b[0m     \u001b[0;32mtry\u001b[0m\u001b[0;34m:\u001b[0m\u001b[0;34m\u001b[0m\u001b[0;34m\u001b[0m\u001b[0m\n\u001b[0;32m--> 150\u001b[0;31m       \u001b[0;32mreturn\u001b[0m \u001b[0mfn\u001b[0m\u001b[0;34m(\u001b[0m\u001b[0;34m*\u001b[0m\u001b[0margs\u001b[0m\u001b[0;34m,\u001b[0m \u001b[0;34m**\u001b[0m\u001b[0mkwargs\u001b[0m\u001b[0;34m)\u001b[0m\u001b[0;34m\u001b[0m\u001b[0;34m\u001b[0m\u001b[0m\n\u001b[0m\u001b[1;32m    151\u001b[0m     \u001b[0;32mexcept\u001b[0m \u001b[0mException\u001b[0m \u001b[0;32mas\u001b[0m \u001b[0me\u001b[0m\u001b[0;34m:\u001b[0m\u001b[0;34m\u001b[0m\u001b[0;34m\u001b[0m\u001b[0m\n\u001b[1;32m    152\u001b[0m       \u001b[0mfiltered_tb\u001b[0m \u001b[0;34m=\u001b[0m \u001b[0m_process_traceback_frames\u001b[0m\u001b[0;34m(\u001b[0m\u001b[0me\u001b[0m\u001b[0;34m.\u001b[0m\u001b[0m__traceback__\u001b[0m\u001b[0;34m)\u001b[0m\u001b[0;34m\u001b[0m\u001b[0;34m\u001b[0m\u001b[0m\n",
            "\u001b[0;32m/usr/local/lib/python3.7/dist-packages/tensorflow/python/eager/def_function.py\u001b[0m in \u001b[0;36m__call__\u001b[0;34m(self, *args, **kwds)\u001b[0m\n\u001b[1;32m    913\u001b[0m \u001b[0;34m\u001b[0m\u001b[0m\n\u001b[1;32m    914\u001b[0m       \u001b[0;32mwith\u001b[0m \u001b[0mOptionalXlaContext\u001b[0m\u001b[0;34m(\u001b[0m\u001b[0mself\u001b[0m\u001b[0;34m.\u001b[0m\u001b[0m_jit_compile\u001b[0m\u001b[0;34m)\u001b[0m\u001b[0;34m:\u001b[0m\u001b[0;34m\u001b[0m\u001b[0;34m\u001b[0m\u001b[0m\n\u001b[0;32m--> 915\u001b[0;31m         \u001b[0mresult\u001b[0m \u001b[0;34m=\u001b[0m \u001b[0mself\u001b[0m\u001b[0;34m.\u001b[0m\u001b[0m_call\u001b[0m\u001b[0;34m(\u001b[0m\u001b[0;34m*\u001b[0m\u001b[0margs\u001b[0m\u001b[0;34m,\u001b[0m \u001b[0;34m**\u001b[0m\u001b[0mkwds\u001b[0m\u001b[0;34m)\u001b[0m\u001b[0;34m\u001b[0m\u001b[0;34m\u001b[0m\u001b[0m\n\u001b[0m\u001b[1;32m    916\u001b[0m \u001b[0;34m\u001b[0m\u001b[0m\n\u001b[1;32m    917\u001b[0m       \u001b[0mnew_tracing_count\u001b[0m \u001b[0;34m=\u001b[0m \u001b[0mself\u001b[0m\u001b[0;34m.\u001b[0m\u001b[0mexperimental_get_tracing_count\u001b[0m\u001b[0;34m(\u001b[0m\u001b[0;34m)\u001b[0m\u001b[0;34m\u001b[0m\u001b[0;34m\u001b[0m\u001b[0m\n",
            "\u001b[0;32m/usr/local/lib/python3.7/dist-packages/tensorflow/python/eager/def_function.py\u001b[0m in \u001b[0;36m_call\u001b[0;34m(self, *args, **kwds)\u001b[0m\n\u001b[1;32m    952\u001b[0m       \u001b[0;31m# In this case we have not created variables on the first call. So we can\u001b[0m\u001b[0;34m\u001b[0m\u001b[0;34m\u001b[0m\u001b[0;34m\u001b[0m\u001b[0m\n\u001b[1;32m    953\u001b[0m       \u001b[0;31m# run the first trace but we should fail if variables are created.\u001b[0m\u001b[0;34m\u001b[0m\u001b[0;34m\u001b[0m\u001b[0;34m\u001b[0m\u001b[0m\n\u001b[0;32m--> 954\u001b[0;31m       \u001b[0mresults\u001b[0m \u001b[0;34m=\u001b[0m \u001b[0mself\u001b[0m\u001b[0;34m.\u001b[0m\u001b[0m_stateful_fn\u001b[0m\u001b[0;34m(\u001b[0m\u001b[0;34m*\u001b[0m\u001b[0margs\u001b[0m\u001b[0;34m,\u001b[0m \u001b[0;34m**\u001b[0m\u001b[0mkwds\u001b[0m\u001b[0;34m)\u001b[0m\u001b[0;34m\u001b[0m\u001b[0;34m\u001b[0m\u001b[0m\n\u001b[0m\u001b[1;32m    955\u001b[0m       \u001b[0;32mif\u001b[0m \u001b[0mself\u001b[0m\u001b[0;34m.\u001b[0m\u001b[0m_created_variables\u001b[0m \u001b[0;32mand\u001b[0m \u001b[0;32mnot\u001b[0m \u001b[0mALLOW_DYNAMIC_VARIABLE_CREATION\u001b[0m\u001b[0;34m:\u001b[0m\u001b[0;34m\u001b[0m\u001b[0;34m\u001b[0m\u001b[0m\n\u001b[1;32m    956\u001b[0m         raise ValueError(\"Creating variables on a non-first call to a function\"\n",
            "\u001b[0;32m/usr/local/lib/python3.7/dist-packages/tensorflow/python/eager/function.py\u001b[0m in \u001b[0;36m__call__\u001b[0;34m(self, *args, **kwargs)\u001b[0m\n\u001b[1;32m   2955\u001b[0m        filtered_flat_args) = self._maybe_define_function(args, kwargs)\n\u001b[1;32m   2956\u001b[0m     return graph_function._call_flat(\n\u001b[0;32m-> 2957\u001b[0;31m         filtered_flat_args, captured_inputs=graph_function.captured_inputs)  # pylint: disable=protected-access\n\u001b[0m\u001b[1;32m   2958\u001b[0m \u001b[0;34m\u001b[0m\u001b[0m\n\u001b[1;32m   2959\u001b[0m   \u001b[0;34m@\u001b[0m\u001b[0mproperty\u001b[0m\u001b[0;34m\u001b[0m\u001b[0;34m\u001b[0m\u001b[0m\n",
            "\u001b[0;32m/usr/local/lib/python3.7/dist-packages/tensorflow/python/eager/function.py\u001b[0m in \u001b[0;36m_call_flat\u001b[0;34m(self, args, captured_inputs, cancellation_manager)\u001b[0m\n\u001b[1;32m   1852\u001b[0m       \u001b[0;31m# No tape is watching; skip to running the function.\u001b[0m\u001b[0;34m\u001b[0m\u001b[0;34m\u001b[0m\u001b[0;34m\u001b[0m\u001b[0m\n\u001b[1;32m   1853\u001b[0m       return self._build_call_outputs(self._inference_function.call(\n\u001b[0;32m-> 1854\u001b[0;31m           ctx, args, cancellation_manager=cancellation_manager))\n\u001b[0m\u001b[1;32m   1855\u001b[0m     forward_backward = self._select_forward_and_backward_functions(\n\u001b[1;32m   1856\u001b[0m         \u001b[0margs\u001b[0m\u001b[0;34m,\u001b[0m\u001b[0;34m\u001b[0m\u001b[0;34m\u001b[0m\u001b[0m\n",
            "\u001b[0;32m/usr/local/lib/python3.7/dist-packages/tensorflow/python/eager/function.py\u001b[0m in \u001b[0;36mcall\u001b[0;34m(self, ctx, args, cancellation_manager)\u001b[0m\n\u001b[1;32m    502\u001b[0m               \u001b[0minputs\u001b[0m\u001b[0;34m=\u001b[0m\u001b[0margs\u001b[0m\u001b[0;34m,\u001b[0m\u001b[0;34m\u001b[0m\u001b[0;34m\u001b[0m\u001b[0m\n\u001b[1;32m    503\u001b[0m               \u001b[0mattrs\u001b[0m\u001b[0;34m=\u001b[0m\u001b[0mattrs\u001b[0m\u001b[0;34m,\u001b[0m\u001b[0;34m\u001b[0m\u001b[0;34m\u001b[0m\u001b[0m\n\u001b[0;32m--> 504\u001b[0;31m               ctx=ctx)\n\u001b[0m\u001b[1;32m    505\u001b[0m         \u001b[0;32melse\u001b[0m\u001b[0;34m:\u001b[0m\u001b[0;34m\u001b[0m\u001b[0;34m\u001b[0m\u001b[0m\n\u001b[1;32m    506\u001b[0m           outputs = execute.execute_with_cancellation(\n",
            "\u001b[0;32m/usr/local/lib/python3.7/dist-packages/tensorflow/python/eager/execute.py\u001b[0m in \u001b[0;36mquick_execute\u001b[0;34m(op_name, num_outputs, inputs, attrs, ctx, name)\u001b[0m\n\u001b[1;32m     53\u001b[0m     \u001b[0mctx\u001b[0m\u001b[0;34m.\u001b[0m\u001b[0mensure_initialized\u001b[0m\u001b[0;34m(\u001b[0m\u001b[0;34m)\u001b[0m\u001b[0;34m\u001b[0m\u001b[0;34m\u001b[0m\u001b[0m\n\u001b[1;32m     54\u001b[0m     tensors = pywrap_tfe.TFE_Py_Execute(ctx._handle, device_name, op_name,\n\u001b[0;32m---> 55\u001b[0;31m                                         inputs, attrs, num_outputs)\n\u001b[0m\u001b[1;32m     56\u001b[0m   \u001b[0;32mexcept\u001b[0m \u001b[0mcore\u001b[0m\u001b[0;34m.\u001b[0m\u001b[0m_NotOkStatusException\u001b[0m \u001b[0;32mas\u001b[0m \u001b[0me\u001b[0m\u001b[0;34m:\u001b[0m\u001b[0;34m\u001b[0m\u001b[0;34m\u001b[0m\u001b[0m\n\u001b[1;32m     57\u001b[0m     \u001b[0;32mif\u001b[0m \u001b[0mname\u001b[0m \u001b[0;32mis\u001b[0m \u001b[0;32mnot\u001b[0m \u001b[0;32mNone\u001b[0m\u001b[0;34m:\u001b[0m\u001b[0;34m\u001b[0m\u001b[0;34m\u001b[0m\u001b[0m\n",
            "\u001b[0;31mKeyboardInterrupt\u001b[0m: "
          ]
        }
      ],
      "source": [
        "#Train the model\n",
        "history = model.fit(train_x, train_y, epochs = 500, validation_data = (val_x, val_y))"
      ]
    },
    {
      "cell_type": "code",
      "execution_count": null,
      "metadata": {
        "id": "gEHmIMcfzyWM"
      },
      "outputs": [],
      "source": [
        "plt.plot(history.history['accuracy'])\n",
        "plt.plot(history.history['val_accuracy'])\n",
        "plt.title('model accuracy')\n",
        "plt.ylabel('accuracy')\n",
        "plt.xlabel('epoch')\n",
        "plt.legend(['train', 'test'], loc='upper left')\n",
        "plt.show()"
      ]
    },
    {
      "cell_type": "code",
      "execution_count": null,
      "metadata": {
        "id": "1BgO5FR_Iwo1"
      },
      "outputs": [],
      "source": [
        "plt.plot(history.history['loss'])\n",
        "plt.plot(history.history['val_loss'])\n",
        "plt.title('model loss')\n",
        "plt.ylabel('loss')\n",
        "plt.xlabel('epoch')\n",
        "plt.legend(['train', 'test'], loc='upper left')\n",
        "plt.show()"
      ]
    },
    {
      "cell_type": "markdown",
      "source": [
        "## Evaluate and Predict Destination\n",
        "\n"
      ],
      "metadata": {
        "id": "FuYpLmdMSkeM"
      }
    },
    {
      "cell_type": "code",
      "source": [
        "#Evaluate model with test data\n",
        "loss, acc = model.evaluate(test_x, test_y)\n",
        "print(\"Restored model, accuracy: {:5.2f}%\".format(100 * acc))"
      ],
      "metadata": {
        "id": "VbQukJNqor5S"
      },
      "execution_count": null,
      "outputs": []
    },
    {
      "cell_type": "code",
      "source": [
        "# x = [[Member, Sport Activity,\tNumber of Days,\tTime of Year,\tBerbelanja,\tBerpetualang di tempat tersebut,\tFotografi,\t\n",
        "#       Jalan-jalan,\tMengambil foto atau selfie,\tMengunjungi museum/kebun binatang/tempat bersejarah,\tMenikmati pemandangan,\t\n",
        "#       Pergi ke festival/taman bermain,\tAnak-anak (0-13 tahun),\tDewasa (21-45 tahun),\tLansia (lebih dari 65 tahun),\tRemaja (14-20 tahun),\t\n",
        "#       Usia Pertengahan (46-64)]]\n",
        "# model.predict(x)\n",
        "\n",
        "#Predict model\n",
        "#x = [[0, 1, 3, 0, 0, 0, 0, 0, 1, 0, 1, 0, 0, 0, 0, 1, 0]]\n",
        "x = [[0, 1, 3, 2, 0, 0, 0, 0, 1, 1, 0, 0, 1, 1, 0, 0, 0]]\n",
        "prediction = model.predict(x)\n",
        "\n",
        "#Sort from the highest value probability and get the index\n",
        "result = (-prediction).argsort()[::-1]"
      ],
      "metadata": {
        "id": "9Gev-5wrHwEt"
      },
      "execution_count": 81,
      "outputs": []
    },
    {
      "cell_type": "code",
      "source": [
        "#Show the destination place if only need 1 prediction\n",
        "destination_prediction_one = destination[(result[0][0])]\n",
        "destination_prediction_one"
      ],
      "metadata": {
        "id": "-nl5CL0eicoK",
        "outputId": "95c1ba59-6972-4087-f1e8-971d682d8a2e",
        "colab": {
          "base_uri": "https://localhost:8080/",
          "height": 36
        }
      },
      "execution_count": 82,
      "outputs": [
        {
          "output_type": "execute_result",
          "data": {
            "text/plain": [
              "'Taman Safari Bogor, Jawa Barat'"
            ],
            "application/vnd.google.colaboratory.intrinsic+json": {
              "type": "string"
            }
          },
          "metadata": {},
          "execution_count": 82
        }
      ]
    },
    {
      "cell_type": "code",
      "source": [
        "#Show the destination place if need 5 prediction\n",
        "destination_prediction_five = []\n",
        "\n",
        "for index in result[0][:5]:\n",
        "  destination_prediction_five.append(destination[index])\n",
        "\n",
        "destination_prediction_five"
      ],
      "metadata": {
        "id": "R6wpZxHdqd3Y",
        "outputId": "bee0c522-8ce4-4781-c074-06d398cca753",
        "colab": {
          "base_uri": "https://localhost:8080/"
        }
      },
      "execution_count": 83,
      "outputs": [
        {
          "output_type": "execute_result",
          "data": {
            "text/plain": [
              "['Taman Safari Bogor, Jawa Barat',\n",
              " 'Dunia Fantasi (Dufan), Jakarta',\n",
              " 'Taman Safari Pasuruan, Jawa Timur',\n",
              " 'Taman Mini Indonesia Indah (TMII), Jakarta',\n",
              " 'Simpang Lima Gumul, Jawa Timur ']"
            ]
          },
          "metadata": {},
          "execution_count": 83
        }
      ]
    },
    {
      "cell_type": "code",
      "source": [
        "#List of destination place\n",
        "destination"
      ],
      "metadata": {
        "id": "XU6VZxbtv9rZ",
        "outputId": "fdde2de1-4261-48fe-da89-8feedeeacb93",
        "colab": {
          "base_uri": "https://localhost:8080/"
        }
      },
      "execution_count": 215,
      "outputs": [
        {
          "output_type": "execute_result",
          "data": {
            "text/plain": [
              "['Air Terjun Madakaripura, Jawa Timur',\n",
              " 'Cukul Sunrise Point, Jawa Barat',\n",
              " 'Curug Cikaso, Jawa Barat',\n",
              " 'Curug Cipamingkis, Jawa Barat',\n",
              " 'Curug Cipendok, Jawa Tengah',\n",
              " 'Danau Toba, Sumatera Utara',\n",
              " 'Dunia Fantasi (Dufan), Jakarta',\n",
              " 'Grafika Cikole, Jawa Barat',\n",
              " 'Green Canyon Pangandaran, Jawa Barat',\n",
              " 'Gunung Bromo, Jawa Timur',\n",
              " 'Kawah Putih, Jawa Barat',\n",
              " 'Kepulauan Seribu, Jakarta',\n",
              " 'Labuan Bajo, NTT',\n",
              " 'Lombok, NTB',\n",
              " 'Malioboro, Yogyakarta',\n",
              " 'Nusa Penida, Bali',\n",
              " 'Pantai Air Manis, Sumatera Barat',\n",
              " 'Pantai Balekambang, Jawa Timur',\n",
              " 'Pantai Gesing, Yogyakarta',\n",
              " 'Pantai Kasap, Jawa Timur',\n",
              " 'Pantai Klingking, Bali',\n",
              " 'Pantai Pandawa, Bali',\n",
              " 'Pantai Pangandaran, Jawa Barat',\n",
              " 'Pantai Santolo, Jawa Barat',\n",
              " 'Pantai Sawarna, Banten',\n",
              " 'Pantai Srakung, Yogyakarta',\n",
              " 'Pantai Surumanis, Jawa Tengah',\n",
              " 'Pantai Tampora, Jawa Timur',\n",
              " 'Pantai Tanjung Lesung, Banten ',\n",
              " 'Pulau Padar, NTT',\n",
              " 'Raja Ampat, Papua Barat',\n",
              " 'Rancabali Glamping, Jawa Barat',\n",
              " 'Simpang Lima Gumul, Jawa Timur ',\n",
              " 'Taman Langit, Jawa Barat',\n",
              " 'Taman Laut Bunaken, Sulawesi Utara',\n",
              " 'Taman Mini Indonesia Indah (TMII), Jakarta',\n",
              " 'Taman Nasional Bantimurung, Sulawesi Selatan',\n",
              " 'Taman Safari Bogor, Jawa Barat',\n",
              " 'Taman Safari Pasuruan, Jawa Timur',\n",
              " 'Tebing Breksi, Yogyakarta',\n",
              " 'Ubud, Bali']"
            ]
          },
          "metadata": {},
          "execution_count": 215
        }
      ]
    },
    {
      "cell_type": "markdown",
      "source": [
        "### (Just for Compare Deep Learning Model's Accuracy with Machine Learning Model)"
      ],
      "metadata": {
        "id": "hs097bVQs8tn"
      }
    },
    {
      "cell_type": "code",
      "source": [
        "# importing necessary libraries\n",
        "from sklearn import datasets\n",
        "from sklearn.metrics import confusion_matrix\n",
        "from sklearn.model_selection import train_test_split\n",
        "from sklearn.svm import SVC\n",
        "svm_model_linear = SVC().fit(train_x, train_y)\n",
        "svm_predictions = svm_model_linear.predict(test_x)\n",
        "\n",
        "# model accuracy for X_test\n",
        "accuracy = svm_model_linear.score(test_x, test_y)\n",
        "\n",
        "# creating a confusion matrix\n",
        "cm = confusion_matrix(test_y, svm_predictions)\n",
        "\n",
        "from sklearn.neighbors import KNeighborsClassifier\n",
        "knn = KNeighborsClassifier(n_neighbors = 7).fit(train_x, train_y)\n",
        " \n",
        "# accuracy on X_test\n",
        "accuracy2 = knn.score(test_x, test_y)\n",
        " \n",
        "# creating a confusion matrix\n",
        "knn_predictions = knn.predict(test_x)\n",
        "cm2 = confusion_matrix(test_y, knn_predictions)\n",
        "\n",
        "from sklearn.tree import DecisionTreeClassifier\n",
        "dtree_model = DecisionTreeClassifier(max_depth = 2).fit(train_x, train_y)\n",
        "dtree_predictions = dtree_model.predict(test_x)\n",
        " \n",
        "# creating a confusion matrix\n",
        "cm3 = confusion_matrix(test_y, dtree_predictions)\n"
      ],
      "metadata": {
        "id": "cxRmFAOGtPqF"
      },
      "execution_count": 65,
      "outputs": []
    },
    {
      "cell_type": "code",
      "source": [
        "print(accuracy)\n",
        "print(accuracy2)\n"
      ],
      "metadata": {
        "id": "rkRkXhPI1ESj",
        "colab": {
          "base_uri": "https://localhost:8080/"
        },
        "outputId": "ae3ce87d-7635-4f95-9098-50d81439146e"
      },
      "execution_count": 66,
      "outputs": [
        {
          "output_type": "stream",
          "name": "stdout",
          "text": [
            "0.5177304964539007\n",
            "0.5508274231678487\n"
          ]
        }
      ]
    },
    {
      "cell_type": "markdown",
      "source": [
        "### Save Model and Model Weight"
      ],
      "metadata": {
        "id": "vzHxENwatLFJ"
      }
    },
    {
      "cell_type": "code",
      "execution_count": 84,
      "metadata": {
        "id": "EDLK_a-MI2dA"
      },
      "outputs": [],
      "source": [
        "#Save model's weight (Path according to folder)\n",
        "model.save_weights('/content/drive/MyDrive/Capstone/model/weight')"
      ]
    },
    {
      "cell_type": "code",
      "source": [
        "#Save model (Path according to folder)\n",
        "model.save('/content/drive/MyDrive/Capstone/model/model.h5')"
      ],
      "metadata": {
        "id": "Unomgv8rYtu0"
      },
      "execution_count": 85,
      "outputs": []
    },
    {
      "cell_type": "code",
      "source": [
        "tf.saved_model.save(\n",
        "    model, '/content/drive/MyDrive/Capstone/model/model'\n",
        ")"
      ],
      "metadata": {
        "colab": {
          "base_uri": "https://localhost:8080/"
        },
        "id": "Fqdl6zlMP8yF",
        "outputId": "05ef4a36-5b61-45f9-ff80-6d778ff391b2"
      },
      "execution_count": 86,
      "outputs": [
        {
          "output_type": "stream",
          "name": "stdout",
          "text": [
            "INFO:tensorflow:Assets written to: /content/drive/MyDrive/Capstone/model/model/assets\n"
          ]
        }
      ]
    },
    {
      "cell_type": "code",
      "execution_count": null,
      "metadata": {
        "id": "77x0AXD22b_7"
      },
      "outputs": [],
      "source": [
        "#Save tensor array (Path according to folder)\n",
        "tf.io.write_file(\"/content/drive/MyDrive/Capstone/tensor_array\", tf.strings.format(\"{} {}\", (x, y)))"
      ]
    }
  ],
  "metadata": {
    "colab": {
      "collapsed_sections": [],
      "name": "dl_model.ipynb",
      "provenance": []
    },
    "kernelspec": {
      "display_name": "Python 3",
      "name": "python3"
    },
    "language_info": {
      "name": "python"
    }
  },
  "nbformat": 4,
  "nbformat_minor": 0
}