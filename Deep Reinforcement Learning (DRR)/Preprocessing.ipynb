{
 "cells": [
  {
   "cell_type": "code",
   "execution_count": 9,
   "id": "17c1e7d5",
   "metadata": {},
   "outputs": [],
   "source": [
    "import pandas as pd\n",
    "import numpy as np\n",
    "import pickle"
   ]
  },
  {
   "cell_type": "code",
   "execution_count": 2,
   "id": "6ef8b1ed",
   "metadata": {},
   "outputs": [
    {
     "data": {
      "text/html": [
       "<div>\n",
       "<style scoped>\n",
       "    .dataframe tbody tr th:only-of-type {\n",
       "        vertical-align: middle;\n",
       "    }\n",
       "\n",
       "    .dataframe tbody tr th {\n",
       "        vertical-align: top;\n",
       "    }\n",
       "\n",
       "    .dataframe thead th {\n",
       "        text-align: right;\n",
       "    }\n",
       "</style>\n",
       "<table border=\"1\" class=\"dataframe\">\n",
       "  <thead>\n",
       "    <tr style=\"text-align: right;\">\n",
       "      <th></th>\n",
       "      <th>ID</th>\n",
       "      <th>Nama</th>\n",
       "      <th>Tempat</th>\n",
       "      <th>Rating_Code</th>\n",
       "      <th>Waktu</th>\n",
       "      <th>Ratings</th>\n",
       "    </tr>\n",
       "  </thead>\n",
       "  <tbody>\n",
       "    <tr>\n",
       "      <th>0</th>\n",
       "      <td>1</td>\n",
       "      <td>Kame Kuro</td>\n",
       "      <td>Jawa Timur Park 2</td>\n",
       "      <td>https://maps.gstatic.com/consumer/images/icons...</td>\n",
       "      <td>2 years ago</td>\n",
       "      <td>5</td>\n",
       "    </tr>\n",
       "    <tr>\n",
       "      <th>1</th>\n",
       "      <td>1</td>\n",
       "      <td>Kame Kuro</td>\n",
       "      <td>Pasir Kadilangu Beach</td>\n",
       "      <td>https://maps.gstatic.com/consumer/images/icons...</td>\n",
       "      <td>2 years ago</td>\n",
       "      <td>1</td>\n",
       "    </tr>\n",
       "    <tr>\n",
       "      <th>2</th>\n",
       "      <td>1</td>\n",
       "      <td>Kame Kuro</td>\n",
       "      <td>Watukarung Beach</td>\n",
       "      <td>https://maps.gstatic.com/consumer/images/icons...</td>\n",
       "      <td>2 years ago</td>\n",
       "      <td>5</td>\n",
       "    </tr>\n",
       "    <tr>\n",
       "      <th>3</th>\n",
       "      <td>1</td>\n",
       "      <td>Kame Kuro</td>\n",
       "      <td>Baru Beach</td>\n",
       "      <td>https://maps.gstatic.com/consumer/images/icons...</td>\n",
       "      <td>a year ago</td>\n",
       "      <td>1</td>\n",
       "    </tr>\n",
       "    <tr>\n",
       "      <th>4</th>\n",
       "      <td>1</td>\n",
       "      <td>Kame Kuro</td>\n",
       "      <td>Sepanjang Beach</td>\n",
       "      <td>https://maps.gstatic.com/consumer/images/icons...</td>\n",
       "      <td>a year ago</td>\n",
       "      <td>1</td>\n",
       "    </tr>\n",
       "    <tr>\n",
       "      <th>...</th>\n",
       "      <td>...</td>\n",
       "      <td>...</td>\n",
       "      <td>...</td>\n",
       "      <td>...</td>\n",
       "      <td>...</td>\n",
       "      <td>...</td>\n",
       "    </tr>\n",
       "    <tr>\n",
       "      <th>2053</th>\n",
       "      <td>250</td>\n",
       "      <td>Andreas A</td>\n",
       "      <td>Santolo Beach</td>\n",
       "      <td>https://maps.gstatic.com/consumer/images/icons...</td>\n",
       "      <td>3 years ago</td>\n",
       "      <td>1</td>\n",
       "    </tr>\n",
       "    <tr>\n",
       "      <th>2054</th>\n",
       "      <td>250</td>\n",
       "      <td>Andreas A</td>\n",
       "      <td>Taman Hutan Raya Ir. H. Djuanda</td>\n",
       "      <td>https://maps.gstatic.com/consumer/images/icons...</td>\n",
       "      <td>a year ago</td>\n",
       "      <td>5</td>\n",
       "    </tr>\n",
       "    <tr>\n",
       "      <th>2055</th>\n",
       "      <td>250</td>\n",
       "      <td>Andreas A</td>\n",
       "      <td>Floating Market Lembang</td>\n",
       "      <td>https://maps.gstatic.com/consumer/images/icons...</td>\n",
       "      <td>2 years ago</td>\n",
       "      <td>5</td>\n",
       "    </tr>\n",
       "    <tr>\n",
       "      <th>2056</th>\n",
       "      <td>250</td>\n",
       "      <td>Andreas A</td>\n",
       "      <td>Gunung Putri Lembang</td>\n",
       "      <td>https://maps.gstatic.com/consumer/images/icons...</td>\n",
       "      <td>2 years ago</td>\n",
       "      <td>5</td>\n",
       "    </tr>\n",
       "    <tr>\n",
       "      <th>2057</th>\n",
       "      <td>250</td>\n",
       "      <td>Andreas A</td>\n",
       "      <td>Borobudur Temple</td>\n",
       "      <td>https://maps.gstatic.com/consumer/images/icons...</td>\n",
       "      <td>3 years ago</td>\n",
       "      <td>5</td>\n",
       "    </tr>\n",
       "  </tbody>\n",
       "</table>\n",
       "<p>2058 rows × 6 columns</p>\n",
       "</div>"
      ],
      "text/plain": [
       "       ID       Nama                           Tempat  \\\n",
       "0       1  Kame Kuro                Jawa Timur Park 2   \n",
       "1       1  Kame Kuro            Pasir Kadilangu Beach   \n",
       "2       1  Kame Kuro                 Watukarung Beach   \n",
       "3       1  Kame Kuro                       Baru Beach   \n",
       "4       1  Kame Kuro                  Sepanjang Beach   \n",
       "...   ...        ...                              ...   \n",
       "2053  250  Andreas A                    Santolo Beach   \n",
       "2054  250  Andreas A  Taman Hutan Raya Ir. H. Djuanda   \n",
       "2055  250  Andreas A          Floating Market Lembang   \n",
       "2056  250  Andreas A             Gunung Putri Lembang   \n",
       "2057  250  Andreas A                 Borobudur Temple   \n",
       "\n",
       "                                            Rating_Code        Waktu  Ratings  \n",
       "0     https://maps.gstatic.com/consumer/images/icons...  2 years ago        5  \n",
       "1     https://maps.gstatic.com/consumer/images/icons...  2 years ago        1  \n",
       "2     https://maps.gstatic.com/consumer/images/icons...  2 years ago        5  \n",
       "3     https://maps.gstatic.com/consumer/images/icons...   a year ago        1  \n",
       "4     https://maps.gstatic.com/consumer/images/icons...   a year ago        1  \n",
       "...                                                 ...          ...      ...  \n",
       "2053  https://maps.gstatic.com/consumer/images/icons...  3 years ago        1  \n",
       "2054  https://maps.gstatic.com/consumer/images/icons...   a year ago        5  \n",
       "2055  https://maps.gstatic.com/consumer/images/icons...  2 years ago        5  \n",
       "2056  https://maps.gstatic.com/consumer/images/icons...  2 years ago        5  \n",
       "2057  https://maps.gstatic.com/consumer/images/icons...  3 years ago        5  \n",
       "\n",
       "[2058 rows x 6 columns]"
      ]
     },
     "execution_count": 2,
     "metadata": {},
     "output_type": "execute_result"
    }
   ],
   "source": [
    "# read csv dataset\n",
    "df = pd.read_csv('Dataset_Dest_Rating.csv', delimiter=';')\n",
    "df"
   ]
  },
  {
   "cell_type": "code",
   "execution_count": 3,
   "id": "6e89424d",
   "metadata": {},
   "outputs": [],
   "source": [
    "# preprocessing data\n",
    "\n",
    "# change df['nama'] to category type\n",
    "df['Nama'] = df['Nama'].astype('category')\n",
    "\n",
    "# change df['nama'] to num type\n",
    "df['user_id_to_num'] = df['Nama'].cat.codes"
   ]
  },
  {
   "cell_type": "code",
   "execution_count": 5,
   "id": "da3deab7",
   "metadata": {},
   "outputs": [],
   "source": [
    "# preprocessing data\n",
    "\n",
    "# change df['tempat'] to category type\n",
    "df['Tempat'] = df['Tempat'].astype('category')\n",
    "\n",
    "# change df['tempat'] to num type\n",
    "df['item_id_to_num'] = df['Tempat'].cat.codes"
   ]
  },
  {
   "cell_type": "code",
   "execution_count": 7,
   "id": "7227db46",
   "metadata": {},
   "outputs": [],
   "source": [
    "# building dictionary data for looking up later\n",
    "user_id_to_num = dict(zip(df['Nama'], df['user_id_to_num']))\n",
    "item_id_to_num = dict(zip(df['Tempat'], df['item_id_to_num']))"
   ]
  },
  {
   "cell_type": "code",
   "execution_count": 10,
   "id": "b99d38f0",
   "metadata": {},
   "outputs": [],
   "source": [
    "# save the dictionary data\n",
    "pickle.dump(user_id_to_num, open('user_id_to_num.pkl', 'wb'))\n",
    "pickle.dump(item_id_to_num, open('item_id_to_num.pkl', 'wb'))"
   ]
  },
  {
   "cell_type": "code",
   "execution_count": 14,
   "id": "109c6735",
   "metadata": {},
   "outputs": [],
   "source": [
    "# removing all the unneeded features\n",
    "df = df.drop(columns=['ID', 'Nama', 'Tempat', 'Rating_Code', 'Waktu', 'Ratings'])"
   ]
  },
  {
   "cell_type": "code",
   "execution_count": 18,
   "id": "bf452225",
   "metadata": {},
   "outputs": [
    {
     "data": {
      "text/plain": [
       "array([[136, 167,   5],\n",
       "       [136, 298,   1],\n",
       "       [136, 493,   5],\n",
       "       ...,\n",
       "       [ 24, 116,   5],\n",
       "       [ 24, 155,   5],\n",
       "       [ 24,  45,   5]], dtype=int64)"
      ]
     },
     "execution_count": 18,
     "metadata": {},
     "output_type": "execute_result"
    }
   ],
   "source": [
    "# save data to matrix type\n",
    "data = df.to_numpy()\n",
    "data"
   ]
  },
  {
   "cell_type": "code",
   "execution_count": 19,
   "id": "e118198f",
   "metadata": {},
   "outputs": [],
   "source": [
    "# save the data to process it later\n",
    "np.save('data_RL.npy', data)"
   ]
  }
 ],
 "metadata": {
  "kernelspec": {
   "display_name": "Python 3 (ipykernel)",
   "language": "python",
   "name": "python3"
  },
  "language_info": {
   "codemirror_mode": {
    "name": "ipython",
    "version": 3
   },
   "file_extension": ".py",
   "mimetype": "text/x-python",
   "name": "python",
   "nbconvert_exporter": "python",
   "pygments_lexer": "ipython3",
   "version": "3.9.2"
  }
 },
 "nbformat": 4,
 "nbformat_minor": 5
}
