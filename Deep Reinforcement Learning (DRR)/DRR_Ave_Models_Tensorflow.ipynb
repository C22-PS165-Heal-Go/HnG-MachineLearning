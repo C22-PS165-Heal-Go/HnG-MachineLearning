{
 "cells": [
  {
   "cell_type": "code",
   "execution_count": 222,
   "id": "8fd5afea",
   "metadata": {},
   "outputs": [],
   "source": [
    "import tensorflow as tf\n",
    "import numpy as np\n",
    "\n",
    "from numpy.random import RandomState"
   ]
  },
  {
   "cell_type": "code",
   "execution_count": 242,
   "id": "4cbedf9b",
   "metadata": {},
   "outputs": [],
   "source": [
    "## class making done\n",
    "## safe input and output\n",
    "class DRRAveStateRepresentation(tf.keras.Model):\n",
    "    def __init__(self, n_items=5, item_features=100, user_features=100):\n",
    "        super(DRRAveStateRepresentation, self).__init__()\n",
    "        ## initialize random_state to 1\n",
    "        self.random_state = RandomState(1)\n",
    "        \n",
    "        ## hold all the parameters variable\n",
    "        self.n_items = n_items\n",
    "        self.item_features = item_features\n",
    "        self.user_features = user_features\n",
    "        \n",
    "        ## add to the model parameter\n",
    "        self.attention_weights = tf.Variable(initial_value=(0.1 * self.random_state.rand(self.n_items)),\n",
    "                                             trainable=True,\n",
    "                                             dtype='float32')\n",
    "        \n",
    "    def call(self, user, items):\n",
    "        '''\n",
    "        items  : type(tensor) shape = (n_items x item_features)\n",
    "        user   : type(tensor) shape = (user_features)\n",
    "        output : type(tensor) shape = (3 x item_features)\n",
    "        '''\n",
    "        ## right will result in numpy array\n",
    "        ## because there is an issue with tensor matrix multiplications\n",
    "        right = tf.transpose(items).numpy() @ self.attention_weights.numpy()\n",
    "        middle = user * right\n",
    "        output = tf.concat([user, middle, right], 0).numpy().flatten()\n",
    "        return tf.convert_to_tensor(output)"
   ]
  },
  {
   "cell_type": "code",
   "execution_count": 248,
   "id": "25702074",
   "metadata": {},
   "outputs": [
    {
     "name": "stdout",
     "output_type": "stream",
     "text": [
      "Model: \"drr_ave_state_representation_11\"\n",
      "_________________________________________________________________\n",
      " Layer (type)                Output Shape              Param #   \n",
      "=================================================================\n",
      "=================================================================\n",
      "Total params: 5\n",
      "Trainable params: 5\n",
      "Non-trainable params: 0\n",
      "_________________________________________________________________\n"
     ]
    }
   ],
   "source": [
    "state_rep.summary()"
   ]
  },
  {
   "cell_type": "code",
   "execution_count": 226,
   "id": "164811a4",
   "metadata": {},
   "outputs": [],
   "source": [
    "n_items = 5\n",
    "user_features = 100\n",
    "item_features = 100"
   ]
  },
  {
   "cell_type": "code",
   "execution_count": 227,
   "id": "d2671f23",
   "metadata": {},
   "outputs": [],
   "source": [
    "user = tf.convert_to_tensor(np.random.rand(100, ))\n",
    "item = tf.convert_to_tensor(np.random.rand(5, 100))"
   ]
  },
  {
   "cell_type": "code",
   "execution_count": 243,
   "id": "06a5e5d0",
   "metadata": {},
   "outputs": [],
   "source": [
    "state_rep = DRRAveStateRepresentation(5, 100, 100)"
   ]
  },
  {
   "cell_type": "code",
   "execution_count": 244,
   "id": "336fde7b",
   "metadata": {},
   "outputs": [
    {
     "data": {
      "text/plain": [
       "<tf.Tensor: shape=(300,), dtype=float32, numpy=\n",
       "array([5.25641918e-01, 3.37380797e-01, 3.42687070e-01, 3.08361918e-01,\n",
       "       3.00802469e-01, 1.99843884e-01, 1.99741349e-01, 3.53729308e-01,\n",
       "       6.54267192e-01, 8.51159573e-01, 8.60902071e-01, 3.89494210e-01,\n",
       "       8.56851399e-01, 1.24891363e-02, 2.50641108e-01, 1.83446869e-01,\n",
       "       7.51140356e-01, 3.07510972e-01, 4.38658074e-02, 8.59275162e-01,\n",
       "       2.76567310e-01, 6.96427524e-01, 8.90311897e-02, 3.94686282e-01,\n",
       "       6.01303041e-01, 8.64767909e-01, 1.41753897e-01, 9.17562544e-01,\n",
       "       8.11112881e-01, 5.15697539e-01, 7.73163199e-01, 5.73115587e-01,\n",
       "       6.34342968e-01, 5.13679981e-01, 1.31707750e-02, 3.59406501e-01,\n",
       "       1.45767063e-01, 6.31664693e-01, 3.83711338e-01, 2.22943589e-01,\n",
       "       1.59132957e-01, 3.80246520e-01, 9.04872715e-01, 1.39637560e-01,\n",
       "       3.17646056e-01, 3.49199504e-01, 3.39182973e-01, 7.35604644e-01,\n",
       "       2.30612576e-01, 7.94375658e-01, 7.44697988e-01, 6.72630742e-02,\n",
       "       4.77214724e-01, 9.92170155e-01, 2.78962731e-01, 4.48189974e-01,\n",
       "       8.09746504e-01, 7.18223631e-01, 6.56645060e-01, 7.62474000e-01,\n",
       "       7.54941344e-01, 2.46977344e-01, 4.43189442e-01, 5.85897565e-01,\n",
       "       3.04962426e-01, 2.51476198e-01, 5.88108063e-01, 3.59764814e-01,\n",
       "       4.32314962e-01, 2.46343479e-01, 2.22399794e-02, 3.15404296e-01,\n",
       "       2.80533522e-01, 7.03035951e-01, 1.84140459e-01, 2.52357185e-01,\n",
       "       6.76015198e-01, 7.94140816e-01, 1.15396909e-01, 5.53235710e-01,\n",
       "       7.48178124e-01, 1.04739733e-01, 1.35464713e-01, 9.37833190e-01,\n",
       "       8.72475058e-02, 8.30644190e-01, 7.04320371e-01, 5.27002394e-01,\n",
       "       6.01167977e-01, 9.91542935e-01, 5.67785382e-01, 6.69451416e-01,\n",
       "       7.74386572e-03, 7.51400948e-01, 6.19853854e-01, 1.19868398e-01,\n",
       "       3.57076049e-01, 1.11625180e-01, 3.39562774e-01, 2.96859622e-01,\n",
       "       6.88267872e-02, 2.92825270e-02, 2.54791100e-02, 2.33723745e-02,\n",
       "       1.74495634e-02, 1.08500263e-02, 1.78083666e-02, 3.71924788e-02,\n",
       "       5.01053184e-02, 7.24622458e-02, 5.45604490e-02, 2.63671912e-02,\n",
       "       9.43945199e-02, 5.33667917e-04, 1.57254748e-02, 1.50310127e-02,\n",
       "       4.44298610e-02, 2.81475782e-02, 1.64273300e-03, 6.62616342e-02,\n",
       "       1.69840232e-02, 6.77468479e-02, 3.26183205e-03, 2.99458206e-02,\n",
       "       4.75019254e-02, 1.00264132e-01, 1.52148027e-02, 5.37186153e-02,\n",
       "       7.23160431e-02, 3.26902270e-02, 3.87780406e-02, 3.75331268e-02,\n",
       "       2.79475395e-02, 6.36144578e-02, 8.55200517e-04, 4.14041728e-02,\n",
       "       1.11635299e-02, 2.48492006e-02, 2.36257054e-02, 1.24547938e-02,\n",
       "       4.99012275e-03, 2.65544076e-02, 1.23311333e-01, 1.46793528e-02,\n",
       "       2.50527952e-02, 2.12685931e-02, 2.03657746e-02, 5.37733696e-02,\n",
       "       1.40256090e-02, 6.35425895e-02, 4.79445755e-02, 3.20232031e-03,\n",
       "       3.74852717e-02, 1.10874727e-01, 2.66527422e-02, 2.43478101e-02,\n",
       "       5.17233685e-02, 3.53128985e-02, 5.76838851e-02, 5.30857965e-02,\n",
       "       4.96840924e-02, 1.17351292e-02, 2.34002080e-02, 1.90328080e-02,\n",
       "       3.13096382e-02, 1.76076293e-02, 5.67135438e-02, 1.49441231e-02,\n",
       "       3.45617644e-02, 1.64996609e-02, 2.43846490e-03, 3.09449993e-02,\n",
       "       1.37135163e-02, 5.01564294e-02, 1.36559326e-02, 2.51576491e-02,\n",
       "       8.10556337e-02, 2.87794452e-02, 1.32468119e-02, 5.73484935e-02,\n",
       "       4.37292196e-02, 8.11073091e-03, 8.85347556e-03, 5.80401160e-02,\n",
       "       6.23713480e-03, 3.36988792e-02, 8.26052800e-02, 4.13739905e-02,\n",
       "       5.29437251e-02, 9.52010974e-02, 6.51240945e-02, 6.33912086e-02,\n",
       "       4.95554414e-04, 7.11299777e-02, 6.77978620e-02, 6.40094932e-03,\n",
       "       1.09638916e-02, 8.62881448e-03, 2.59132776e-02, 2.93646194e-02,\n",
       "       1.30938545e-01, 8.67936984e-02, 7.43509531e-02, 7.57952705e-02,\n",
       "       5.80100380e-02, 5.42925112e-02, 8.91571343e-02, 1.05143897e-01,\n",
       "       7.65823498e-02, 8.51335600e-02, 6.33759052e-02, 6.76959753e-02,\n",
       "       1.10164396e-01, 4.27305698e-02, 6.27410039e-02, 8.19365978e-02,\n",
       "       5.91498800e-02, 9.15335715e-02, 3.74490544e-02, 7.71134049e-02,\n",
       "       6.14100918e-02, 9.72776711e-02, 3.66369598e-02, 7.58724660e-02,\n",
       "       7.89983124e-02, 1.15943402e-01, 1.07332520e-01, 5.85449077e-02,\n",
       "       8.91565681e-02, 6.33903071e-02, 5.01550511e-02, 6.54896274e-02,\n",
       "       4.40574586e-02, 1.23840645e-01, 6.49316758e-02, 1.15201510e-01,\n",
       "       7.65847191e-02, 3.93392257e-02, 6.15715608e-02, 5.58652245e-02,\n",
       "       3.13581973e-02, 6.98347166e-02, 1.36274785e-01, 1.05124675e-01,\n",
       "       7.88701624e-02, 6.09067120e-02, 6.00436255e-02, 7.31009096e-02,\n",
       "       6.08189255e-02, 7.99906030e-02, 6.43812343e-02, 4.76088896e-02,\n",
       "       7.85501152e-02, 1.11749709e-01, 9.55423042e-02, 5.43247536e-02,\n",
       "       6.38760030e-02, 4.91669960e-02, 8.78463686e-02, 6.96230903e-02,\n",
       "       6.58118576e-02, 4.75150011e-02, 5.27995601e-02, 3.24848741e-02,\n",
       "       1.02667198e-01, 7.00170845e-02, 9.64338854e-02, 4.15385887e-02,\n",
       "       7.99457952e-02, 6.69782758e-02, 1.09643303e-01, 9.81121659e-02,\n",
       "       4.88836989e-02, 7.13426247e-02, 7.41604120e-02, 9.96906385e-02,\n",
       "       1.19902089e-01, 3.62397246e-02, 1.14793472e-01, 1.03660144e-01,\n",
       "       5.84476031e-02, 7.74369985e-02, 6.53563216e-02, 6.18874617e-02,\n",
       "       7.14878291e-02, 4.05695699e-02, 1.17283672e-01, 7.85081610e-02,\n",
       "       8.80681053e-02, 9.60130841e-02, 1.14698440e-01, 9.46912766e-02,\n",
       "       6.39931560e-02, 9.46631432e-02, 1.09377168e-01, 5.33998087e-02,\n",
       "       3.07046399e-02, 7.73016885e-02, 7.63136595e-02, 9.89175290e-02],\n",
       "      dtype=float32)>"
      ]
     },
     "execution_count": 244,
     "metadata": {},
     "output_type": "execute_result"
    }
   ],
   "source": [
    "state_rep(user, item)"
   ]
  },
  {
   "cell_type": "code",
   "execution_count": 224,
   "id": "fc9d5836",
   "metadata": {},
   "outputs": [
    {
     "data": {
      "text/plain": [
       "<tf.Variable 'Variable:0' shape=(5,) dtype=float32, numpy=\n",
       "array([0.07795722, 0.04622126, 0.0070302 , 0.06819446, 0.06454879],\n",
       "      dtype=float32)>"
      ]
     },
     "execution_count": 224,
     "metadata": {},
     "output_type": "execute_result"
    }
   ],
   "source": [
    "attention_weights = tf.Variable(initial_value=(0.1 * np.random.rand(n_items)),\n",
    "                                             trainable=False,\n",
    "                                             dtype='float32')\n",
    "\n",
    "attention_weights"
   ]
  },
  {
   "cell_type": "code",
   "execution_count": 186,
   "id": "f7d32b3f",
   "metadata": {},
   "outputs": [],
   "source": [
    "items = np.random.rand(5, 3)"
   ]
  },
  {
   "cell_type": "code",
   "execution_count": 188,
   "id": "d2ad4974",
   "metadata": {},
   "outputs": [
    {
     "data": {
      "text/plain": [
       "array([[0.38094765, 0.71926223, 0.75050159],\n",
       "       [0.72559223, 0.90325514, 0.72327553],\n",
       "       [0.25491091, 0.42000141, 0.12541389],\n",
       "       [0.06694736, 0.01405626, 0.3655533 ],\n",
       "       [0.18668715, 0.5615523 , 0.9243705 ]])"
      ]
     },
     "execution_count": 188,
     "metadata": {},
     "output_type": "execute_result"
    }
   ],
   "source": [
    "items"
   ]
  },
  {
   "cell_type": "code",
   "execution_count": 192,
   "id": "98b50e7b",
   "metadata": {},
   "outputs": [],
   "source": [
    "user = np.random.rand(3,)"
   ]
  },
  {
   "cell_type": "code",
   "execution_count": 147,
   "id": "48aecd03",
   "metadata": {},
   "outputs": [
    {
     "data": {
      "text/plain": [
       "array([0.08900728, 0.02382631, 0.02372153, 0.04766469, 0.02777875])"
      ]
     },
     "execution_count": 147,
     "metadata": {},
     "output_type": "execute_result"
    }
   ],
   "source": [
    "right = tf.transpose(items).numpy() @ att\n",
    "right"
   ]
  },
  {
   "cell_type": "code",
   "execution_count": 182,
   "id": "8abe25cf",
   "metadata": {},
   "outputs": [],
   "source": [
    "attention_weights = tf.Variable(initial_value=(0.1 * np.random.rand(5)),\n",
    "                                             trainable=True,\n",
    "                                             dtype='float32')"
   ]
  },
  {
   "cell_type": "code",
   "execution_count": 185,
   "id": "cea54301",
   "metadata": {},
   "outputs": [
    {
     "data": {
      "text/plain": [
       "array([0.07940327, 0.09050804, 0.02643326, 0.0552509 , 0.00515117],\n",
       "      dtype=float32)"
      ]
     },
     "execution_count": 185,
     "metadata": {},
     "output_type": "execute_result"
    }
   ],
   "source": [
    "attention_weights.numpy()"
   ]
  },
  {
   "cell_type": "code",
   "execution_count": 189,
   "id": "fc8dd3d8",
   "metadata": {},
   "outputs": [
    {
     "data": {
      "text/plain": [
       "array([[0.38094765, 0.72559223, 0.25491091, 0.06694736, 0.18668715],\n",
       "       [0.71926223, 0.90325514, 0.42000141, 0.01405626, 0.5615523 ],\n",
       "       [0.75050159, 0.72327553, 0.12541389, 0.3655533 , 0.9243705 ]])"
      ]
     },
     "execution_count": 189,
     "metadata": {},
     "output_type": "execute_result"
    }
   ],
   "source": [
    "tf.transpose(items).numpy()"
   ]
  },
  {
   "cell_type": "code",
   "execution_count": 193,
   "id": "c76eda64",
   "metadata": {},
   "outputs": [
    {
     "data": {
      "text/plain": [
       "array([0.03772245, 0.11911626, 0.04324372])"
      ]
     },
     "execution_count": 193,
     "metadata": {},
     "output_type": "execute_result"
    }
   ],
   "source": [
    "middle = user * right\n",
    "middle"
   ]
  },
  {
   "cell_type": "code",
   "execution_count": 194,
   "id": "33f7ef70",
   "metadata": {},
   "outputs": [
    {
     "data": {
      "text/plain": [
       "array([0.1073191 , 0.1536349 , 0.15332837])"
      ]
     },
     "execution_count": 194,
     "metadata": {},
     "output_type": "execute_result"
    }
   ],
   "source": [
    "right"
   ]
  },
  {
   "cell_type": "code",
   "execution_count": 202,
   "id": "ea698475",
   "metadata": {},
   "outputs": [],
   "source": [
    "output = tf.concat([user, middle, right], 0).numpy().flatten()"
   ]
  },
  {
   "cell_type": "code",
   "execution_count": 203,
   "id": "8fc9b689",
   "metadata": {},
   "outputs": [
    {
     "data": {
      "text/plain": [
       "array([0.35149795, 0.77532027, 0.28203341, 0.03772245, 0.11911626,\n",
       "       0.04324372, 0.1073191 , 0.1536349 , 0.15332837])"
      ]
     },
     "execution_count": 203,
     "metadata": {},
     "output_type": "execute_result"
    }
   ],
   "source": [
    "tf.convert"
   ]
  }
 ],
 "metadata": {
  "kernelspec": {
   "display_name": "Python 3 (ipykernel)",
   "language": "python",
   "name": "python3"
  },
  "language_info": {
   "codemirror_mode": {
    "name": "ipython",
    "version": 3
   },
   "file_extension": ".py",
   "mimetype": "text/x-python",
   "name": "python",
   "nbconvert_exporter": "python",
   "pygments_lexer": "ipython3",
   "version": "3.9.2"
  }
 },
 "nbformat": 4,
 "nbformat_minor": 5
}
