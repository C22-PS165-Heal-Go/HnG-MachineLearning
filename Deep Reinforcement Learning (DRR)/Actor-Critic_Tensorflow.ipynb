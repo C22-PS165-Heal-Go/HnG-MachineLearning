{
 "cells": [
  {
   "cell_type": "code",
   "execution_count": 1,
   "id": "dd18a862",
   "metadata": {},
   "outputs": [],
   "source": [
    "import tensorflow as tf\n",
    "import numpy as np\n",
    "import torch\n",
    "import torch.nn as nn\n",
    "import torch.nn.functional as F\n",
    "\n",
    "from numpy.random import RandomState"
   ]
  },
  {
   "cell_type": "code",
   "execution_count": 39,
   "id": "754bfc09",
   "metadata": {},
   "outputs": [],
   "source": [
    "class Actor(tf.keras.Model):\n",
    "    '''\n",
    "    Actor network accounts for generatign action space based on\n",
    "    the state space\n",
    "    in_features : the size of state representation got from DRRAve\n",
    "    out_features : the size of action space\n",
    "    '''\n",
    "    def __init__(self, in_features=100, out_features=18):\n",
    "        super(Actor, self).__init__()\n",
    "        self.in_features = in_features\n",
    "        self.out_features = out_features\n",
    "        \n",
    "        self.linear_1 = tf.keras.layers.Dense(in_features, activation='relu')\n",
    "        self.linear_2 = tf.keras.layers.Dense(in_features, activation='relu')\n",
    "        self.linear_3 = tf.keras.layers.Dense(out_features, activation='tanh')\n",
    "        \n",
    "    def call(self, state):\n",
    "        inputs = tf.reshape(state, (1, self.in_features))\n",
    "        output = self.linear_1(inputs)\n",
    "        output = self.linear_2(output)\n",
    "        output = self.linear_3(output)\n",
    "        return output"
   ]
  },
  {
   "cell_type": "code",
   "execution_count": 46,
   "id": "f3527835",
   "metadata": {},
   "outputs": [],
   "source": [
    "class Critic(tf.keras.Model):\n",
    "    '''\n",
    "    Critic networks are Deep-Q-Networks\n",
    "    acton_size : is the size of action space from actor networks\n",
    "    in_features : is the size of state representation got from DRR-Ave\n",
    "    out_features : Q-Value\n",
    "    '''\n",
    "    def __init__(self, action_size=20, in_features=128, out_features=18):\n",
    "        super(Critic, self).__init__()\n",
    "        self.in_features = in_features\n",
    "        self.out_features = out_features\n",
    "        self.combo_features = in_features + action_size\n",
    "        self.action_size = action_size\n",
    "        ## check shape of the input\n",
    "        self.linear_1 = tf.keras.layers.Dense(self.in_features, \n",
    "                                              activation='relu')\n",
    "        \n",
    "        self.linear_2 = tf.keras.layers.Dense(self.combo_features, \n",
    "                                              activation='relu')\n",
    "        \n",
    "        self.linear_3 = tf.keras.layers.Dense(self.combo_features, \n",
    "                                              activation='relu')\n",
    "        \n",
    "        self.linear_4 = tf.keras.layers.Dense(out_features, \n",
    "                                              activation=None)\n",
    "        \n",
    "    def call(self, state, action):\n",
    "        inputs = tf.reshape(state, (1, self.in_features))\n",
    "        outputs = self.linear_1(inputs)\n",
    "        outputs = self.linear_2(tf.concat([action, outputs], 1))\n",
    "        outputs = self.linear_3(outputs)\n",
    "        outputs = self.linear_4(outputs)\n",
    "        return outputs"
   ]
  },
  {
   "cell_type": "code",
   "execution_count": 40,
   "id": "baa26c68",
   "metadata": {},
   "outputs": [],
   "source": [
    "## instansiasi model\n",
    "actorNets = Actor(300, 18)"
   ]
  },
  {
   "cell_type": "code",
   "execution_count": 41,
   "id": "e6c84453",
   "metadata": {},
   "outputs": [
    {
     "data": {
      "text/plain": [
       "array([7.71147275e-01, 7.05817944e-01, 7.35377270e-01, 9.40196060e-02,\n",
       "       9.83983967e-01, 1.92378648e-01, 6.08148135e-01, 7.03158469e-01,\n",
       "       4.20905221e-01, 7.33699317e-01, 4.71980048e-01, 3.35782159e-01,\n",
       "       2.95776495e-01, 3.66253373e-02, 1.07180819e-01, 2.33618516e-01,\n",
       "       3.54188984e-01, 9.68162850e-01, 7.46281890e-01, 3.89474696e-01,\n",
       "       8.28250311e-01, 5.04679368e-01, 5.00776279e-01, 2.62748739e-01,\n",
       "       3.17628430e-01, 8.36763079e-01, 5.76347713e-01, 4.01251262e-01,\n",
       "       5.82598562e-01, 1.57070226e-01, 1.15862180e-02, 1.52103656e-01,\n",
       "       2.37376750e-01, 9.77834857e-01, 7.51766556e-01, 8.66458685e-01,\n",
       "       2.71509105e-01, 3.70663927e-01, 2.19800236e-01, 5.39546075e-01,\n",
       "       2.13273917e-01, 6.88766027e-01, 3.03473675e-01, 5.99317357e-01,\n",
       "       9.43061828e-01, 1.92008197e-01, 4.62551742e-01, 4.72669405e-01,\n",
       "       7.32023201e-01, 8.43485181e-02, 8.15969285e-01, 1.79204213e-01,\n",
       "       3.37174983e-01, 2.71392218e-01, 1.70032544e-01, 2.55261274e-01,\n",
       "       8.84814859e-01, 7.89325915e-01, 3.76143615e-01, 1.94218965e-01,\n",
       "       8.09725185e-01, 1.94591496e-01, 8.70156211e-01, 8.61430574e-01,\n",
       "       8.92380474e-01, 5.17444212e-01, 1.18180234e-01, 8.05288920e-01,\n",
       "       1.27434413e-01, 2.72561881e-01, 8.11465127e-01, 5.89749930e-01,\n",
       "       7.06553134e-02, 2.97505797e-01, 1.31231088e-01, 2.33389830e-02,\n",
       "       4.64680295e-01, 7.45139679e-01, 1.04827408e-01, 3.28097051e-02,\n",
       "       7.74956721e-01, 7.60898458e-01, 5.66005975e-01, 4.21256653e-01,\n",
       "       3.38433569e-01, 1.28296064e-01, 6.32085258e-01, 6.13680206e-01,\n",
       "       3.19057293e-01, 4.83743237e-01, 2.46536023e-01, 2.12096910e-01,\n",
       "       9.47704306e-01, 7.90331121e-01, 8.60831810e-01, 9.06203516e-01,\n",
       "       4.34583314e-01, 3.65971646e-01, 4.80445471e-01, 6.95274582e-02,\n",
       "       1.38251864e-01, 1.68627632e-01, 6.53934283e-01, 4.32074120e-01,\n",
       "       3.52404293e-01, 9.30270739e-01, 4.33489351e-01, 5.16638305e-01,\n",
       "       8.35285986e-01, 7.82157751e-01, 6.70975439e-01, 5.05550782e-01,\n",
       "       9.24766323e-01, 3.32122096e-01, 8.15488494e-02, 2.07883927e-01,\n",
       "       6.60094645e-01, 3.92850054e-01, 1.35611863e-01, 9.18633906e-01,\n",
       "       7.17575952e-01, 2.21243467e-01, 5.84964628e-01, 1.76360675e-01,\n",
       "       6.18412653e-01, 5.52688590e-01, 3.54192572e-01, 2.12755679e-01,\n",
       "       5.22946227e-02, 2.52454587e-01, 3.77325188e-01, 9.49995299e-01,\n",
       "       3.70879742e-01, 3.80332133e-01, 4.91682464e-02, 1.18563346e-01,\n",
       "       5.47373304e-01, 7.85979621e-01, 4.43418155e-01, 4.82358189e-02,\n",
       "       7.79756246e-01, 9.05839257e-01, 3.01013304e-02, 4.07417837e-01,\n",
       "       1.03424673e-01, 7.81498271e-01, 4.38563254e-01, 3.29274213e-02,\n",
       "       5.56704229e-01, 9.92568777e-01, 9.98798085e-01, 2.18141250e-01,\n",
       "       9.59880184e-01, 5.32659606e-01, 2.69714316e-01, 5.73821163e-01,\n",
       "       3.03325781e-01, 2.72740752e-01, 5.97369415e-01, 2.66572553e-02,\n",
       "       7.42563239e-01, 7.16961250e-01, 1.80815034e-01, 9.76756872e-02,\n",
       "       4.96244484e-01, 4.41062700e-01, 1.76392163e-01, 8.63039439e-01,\n",
       "       4.44453367e-01, 4.84033885e-01, 2.83138711e-01, 8.63191385e-01,\n",
       "       1.07976430e-01, 9.28055292e-01, 9.17571385e-02, 2.48061374e-01,\n",
       "       3.81421194e-02, 9.73346430e-01, 1.30172259e-01, 2.45055043e-02,\n",
       "       3.18646859e-01, 3.24777862e-01, 5.48124624e-01, 5.85365930e-01,\n",
       "       9.09260232e-01, 4.77900116e-01, 9.11901390e-01, 3.37516856e-01,\n",
       "       7.53947799e-02, 1.91617630e-01, 8.14153082e-01, 7.77508987e-01,\n",
       "       9.94814386e-01, 9.28203375e-01, 6.71894078e-01, 8.18735337e-02,\n",
       "       5.48364884e-01, 5.95934382e-01, 4.64644619e-01, 3.10297317e-01,\n",
       "       3.58193822e-01, 9.52985942e-01, 4.03135668e-01, 1.91133457e-01,\n",
       "       7.35849576e-01, 2.93477551e-01, 9.93896663e-01, 2.97925684e-01,\n",
       "       3.21038388e-01, 5.89024498e-01, 8.49691407e-01, 3.54112615e-01,\n",
       "       4.89258177e-01, 7.71926111e-01, 3.20985044e-01, 1.69843092e-01,\n",
       "       7.11218814e-01, 8.28919224e-01, 7.06670414e-01, 5.13793861e-01,\n",
       "       4.85639534e-01, 6.24764984e-01, 8.57571912e-01, 4.20993203e-01,\n",
       "       9.19878654e-01, 6.60190806e-01, 4.20768943e-02, 7.14276984e-01,\n",
       "       8.02804248e-01, 6.07636660e-01, 1.13756406e-01, 7.19864485e-01,\n",
       "       4.21337501e-01, 2.78725690e-01, 6.72666047e-01, 1.14946830e-01,\n",
       "       1.73069682e-01, 2.97206744e-01, 6.19132221e-01, 8.47742955e-01,\n",
       "       4.34923433e-01, 2.95869425e-01, 6.21358229e-01, 6.45128229e-01,\n",
       "       6.57508737e-02, 9.33453636e-01, 6.30026254e-01, 5.17747652e-01,\n",
       "       8.52995162e-01, 3.32682297e-01, 5.58549253e-01, 8.85055872e-01,\n",
       "       3.33866825e-01, 6.70964328e-01, 2.63575634e-01, 6.53694904e-01,\n",
       "       3.77169036e-01, 9.84457300e-01, 9.28947219e-03, 3.22095973e-04,\n",
       "       1.57636201e-01, 3.45744549e-02, 1.05975053e-01, 2.46512980e-01,\n",
       "       9.07730303e-01, 8.53108611e-01, 9.53428629e-01, 7.50395069e-01,\n",
       "       6.36333380e-02, 3.00546870e-01, 8.30267015e-01, 4.66053360e-01,\n",
       "       3.42203840e-01, 3.53593527e-01, 3.04778220e-01, 5.74168297e-01,\n",
       "       6.46640631e-01, 3.90347346e-01, 4.00491289e-01, 2.32346154e-01,\n",
       "       4.84246259e-01, 3.03742155e-01, 3.84438344e-01, 8.88361846e-01,\n",
       "       8.74682701e-01, 7.16733273e-01, 2.13836606e-01, 7.69822559e-01,\n",
       "       3.55146768e-01, 4.18926545e-01, 8.36705871e-01, 8.91706805e-01,\n",
       "       2.86015376e-01, 9.25937662e-01, 2.74273797e-01, 1.61470802e-01,\n",
       "       7.36838721e-01, 2.45032921e-01, 4.79923719e-01, 6.33154335e-01])"
      ]
     },
     "execution_count": 41,
     "metadata": {},
     "output_type": "execute_result"
    }
   ],
   "source": [
    "random_state = RandomState(1)\n",
    "\n",
    "state = np.random.rand(300,)\n",
    "state"
   ]
  },
  {
   "cell_type": "code",
   "execution_count": 42,
   "id": "24897e5e",
   "metadata": {},
   "outputs": [],
   "source": [
    "## output has two dimension so need to be flattened\n",
    "action = actorNets(state)"
   ]
  },
  {
   "cell_type": "code",
   "execution_count": 43,
   "id": "6123b3db",
   "metadata": {},
   "outputs": [
    {
     "data": {
      "text/plain": [
       "<tf.Tensor: shape=(1, 18), dtype=float32, numpy=\n",
       "array([[-0.444847  ,  0.29251578,  0.13992591,  0.14760038, -0.1906978 ,\n",
       "         0.00556268, -0.0185544 , -0.50543755, -0.750366  , -0.340534  ,\n",
       "        -0.09151803,  0.5788195 ,  0.5964281 ,  0.16290238, -0.81896913,\n",
       "        -0.05147763, -0.2742237 , -0.06414839]], dtype=float32)>"
      ]
     },
     "execution_count": 43,
     "metadata": {},
     "output_type": "execute_result"
    }
   ],
   "source": [
    "action"
   ]
  },
  {
   "cell_type": "code",
   "execution_count": 137,
   "id": "0cca6808",
   "metadata": {},
   "outputs": [
    {
     "name": "stdout",
     "output_type": "stream",
     "text": [
      "Model: \"actor_15\"\n",
      "_________________________________________________________________\n",
      " Layer (type)                Output Shape              Param #   \n",
      "=================================================================\n",
      " dense_48 (Dense)            multiple                  10100     \n",
      "                                                                 \n",
      " dense_49 (Dense)            multiple                  10100     \n",
      "                                                                 \n",
      " dense_50 (Dense)            multiple                  1818      \n",
      "                                                                 \n",
      "=================================================================\n",
      "Total params: 22,018\n",
      "Trainable params: 22,018\n",
      "Non-trainable params: 0\n",
      "_________________________________________________________________\n"
     ]
    }
   ],
   "source": [
    "actorNets.summary()"
   ]
  },
  {
   "cell_type": "code",
   "execution_count": 47,
   "id": "7c7acf3e",
   "metadata": {},
   "outputs": [],
   "source": [
    "criticNets = Critic(18, 300, 18)"
   ]
  },
  {
   "cell_type": "code",
   "execution_count": 48,
   "id": "269534f1",
   "metadata": {},
   "outputs": [
    {
     "data": {
      "text/plain": [
       "<tf.Tensor: shape=(1, 18), dtype=float32, numpy=\n",
       "array([[-0.3592132 ,  0.11059743,  0.18644165, -0.11787526, -0.65208435,\n",
       "        -0.0583063 , -0.76077574, -0.17730346,  0.12711957, -0.1088125 ,\n",
       "         0.11020342, -0.29217735,  0.6736198 , -0.04229749, -0.12525314,\n",
       "        -0.07434888,  0.4813763 , -0.4004351 ]], dtype=float32)>"
      ]
     },
     "execution_count": 48,
     "metadata": {},
     "output_type": "execute_result"
    }
   ],
   "source": [
    "criticNets(state, action)"
   ]
  }
 ],
 "metadata": {
  "kernelspec": {
   "display_name": "Python 3 (ipykernel)",
   "language": "python",
   "name": "python3"
  },
  "language_info": {
   "codemirror_mode": {
    "name": "ipython",
    "version": 3
   },
   "file_extension": ".py",
   "mimetype": "text/x-python",
   "name": "python",
   "nbconvert_exporter": "python",
   "pygments_lexer": "ipython3",
   "version": "3.9.2"
  }
 },
 "nbformat": 4,
 "nbformat_minor": 5
}
