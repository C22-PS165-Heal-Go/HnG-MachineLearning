{
 "cells": [
  {
   "cell_type": "code",
   "execution_count": 21,
   "id": "288c99ee",
   "metadata": {},
   "outputs": [],
   "source": [
    "import pandas as pd\n",
    "import numpy as np\n",
    "import pickle\n",
    "\n",
    "from numpy.random import RandomState"
   ]
  },
  {
   "cell_type": "code",
   "execution_count": 2,
   "id": "b3fc3dcd",
   "metadata": {},
   "outputs": [
    {
     "data": {
      "text/html": [
       "<div>\n",
       "<style scoped>\n",
       "    .dataframe tbody tr th:only-of-type {\n",
       "        vertical-align: middle;\n",
       "    }\n",
       "\n",
       "    .dataframe tbody tr th {\n",
       "        vertical-align: top;\n",
       "    }\n",
       "\n",
       "    .dataframe thead th {\n",
       "        text-align: right;\n",
       "    }\n",
       "</style>\n",
       "<table border=\"1\" class=\"dataframe\">\n",
       "  <thead>\n",
       "    <tr style=\"text-align: right;\">\n",
       "      <th></th>\n",
       "      <th>UserID</th>\n",
       "      <th>Place</th>\n",
       "      <th>Ratings</th>\n",
       "    </tr>\n",
       "  </thead>\n",
       "  <tbody>\n",
       "    <tr>\n",
       "      <th>0</th>\n",
       "      <td>1</td>\n",
       "      <td>Air Terjun Madakaripura</td>\n",
       "      <td>5</td>\n",
       "    </tr>\n",
       "    <tr>\n",
       "      <th>1</th>\n",
       "      <td>1</td>\n",
       "      <td>Bunaken Marine Park</td>\n",
       "      <td>5</td>\n",
       "    </tr>\n",
       "    <tr>\n",
       "      <th>2</th>\n",
       "      <td>1</td>\n",
       "      <td>Curug Cikaso</td>\n",
       "      <td>5</td>\n",
       "    </tr>\n",
       "    <tr>\n",
       "      <th>3</th>\n",
       "      <td>1</td>\n",
       "      <td>Curug Cipendok</td>\n",
       "      <td>5</td>\n",
       "    </tr>\n",
       "    <tr>\n",
       "      <th>4</th>\n",
       "      <td>1</td>\n",
       "      <td>Curug Cipamingkis</td>\n",
       "      <td>4</td>\n",
       "    </tr>\n",
       "    <tr>\n",
       "      <th>...</th>\n",
       "      <td>...</td>\n",
       "      <td>...</td>\n",
       "      <td>...</td>\n",
       "    </tr>\n",
       "    <tr>\n",
       "      <th>75497</th>\n",
       "      <td>822</td>\n",
       "      <td>Taman Spathodea</td>\n",
       "      <td>5</td>\n",
       "    </tr>\n",
       "    <tr>\n",
       "      <th>75498</th>\n",
       "      <td>822</td>\n",
       "      <td>Taman Pintar Yogyakarta</td>\n",
       "      <td>4</td>\n",
       "    </tr>\n",
       "    <tr>\n",
       "      <th>75499</th>\n",
       "      <td>822</td>\n",
       "      <td>Tebing Breksi</td>\n",
       "      <td>5</td>\n",
       "    </tr>\n",
       "    <tr>\n",
       "      <th>75500</th>\n",
       "      <td>822</td>\n",
       "      <td>Saloka Theme Park</td>\n",
       "      <td>5</td>\n",
       "    </tr>\n",
       "    <tr>\n",
       "      <th>75501</th>\n",
       "      <td>822</td>\n",
       "      <td>Taman Menteng</td>\n",
       "      <td>5</td>\n",
       "    </tr>\n",
       "  </tbody>\n",
       "</table>\n",
       "<p>75502 rows × 3 columns</p>\n",
       "</div>"
      ],
      "text/plain": [
       "       UserID                    Place  Ratings\n",
       "0           1  Air Terjun Madakaripura        5\n",
       "1           1      Bunaken Marine Park        5\n",
       "2           1             Curug Cikaso        5\n",
       "3           1           Curug Cipendok        5\n",
       "4           1        Curug Cipamingkis        4\n",
       "...       ...                      ...      ...\n",
       "75497     822          Taman Spathodea        5\n",
       "75498     822  Taman Pintar Yogyakarta        4\n",
       "75499     822            Tebing Breksi        5\n",
       "75500     822        Saloka Theme Park        5\n",
       "75501     822            Taman Menteng        5\n",
       "\n",
       "[75502 rows x 3 columns]"
      ]
     },
     "execution_count": 2,
     "metadata": {},
     "output_type": "execute_result"
    }
   ],
   "source": [
    "df_ori = pd.read_csv('Dataset_RL_Tambahan_09_Juni.csv', delimiter=';')\n",
    "df_ori"
   ]
  },
  {
   "cell_type": "code",
   "execution_count": 3,
   "id": "33560864",
   "metadata": {},
   "outputs": [],
   "source": [
    "df_ori = df_ori.sort_values(by='Place')"
   ]
  },
  {
   "cell_type": "code",
   "execution_count": 4,
   "id": "be850b05",
   "metadata": {},
   "outputs": [],
   "source": [
    "df_ori['Place'] = df_ori['Place'].astype('category')\n",
    "df_ori['Id_Place'] = df_ori['Place'].cat.codes"
   ]
  },
  {
   "cell_type": "code",
   "execution_count": 5,
   "id": "ddbdf2ea",
   "metadata": {},
   "outputs": [
    {
     "data": {
      "text/html": [
       "<div>\n",
       "<style scoped>\n",
       "    .dataframe tbody tr th:only-of-type {\n",
       "        vertical-align: middle;\n",
       "    }\n",
       "\n",
       "    .dataframe tbody tr th {\n",
       "        vertical-align: top;\n",
       "    }\n",
       "\n",
       "    .dataframe thead th {\n",
       "        text-align: right;\n",
       "    }\n",
       "</style>\n",
       "<table border=\"1\" class=\"dataframe\">\n",
       "  <thead>\n",
       "    <tr style=\"text-align: right;\">\n",
       "      <th></th>\n",
       "      <th>UserID</th>\n",
       "      <th>Place</th>\n",
       "      <th>Ratings</th>\n",
       "      <th>Id_Place</th>\n",
       "    </tr>\n",
       "  </thead>\n",
       "  <tbody>\n",
       "    <tr>\n",
       "      <th>23204</th>\n",
       "      <td>251</td>\n",
       "      <td>Air Terjun Curug Luhur</td>\n",
       "      <td>5</td>\n",
       "      <td>0</td>\n",
       "    </tr>\n",
       "    <tr>\n",
       "      <th>20842</th>\n",
       "      <td>226</td>\n",
       "      <td>Air Terjun Curug Luhur</td>\n",
       "      <td>3</td>\n",
       "      <td>0</td>\n",
       "    </tr>\n",
       "    <tr>\n",
       "      <th>48663</th>\n",
       "      <td>527</td>\n",
       "      <td>Air Terjun Curug Luhur</td>\n",
       "      <td>4</td>\n",
       "      <td>0</td>\n",
       "    </tr>\n",
       "    <tr>\n",
       "      <th>60628</th>\n",
       "      <td>657</td>\n",
       "      <td>Air Terjun Curug Luhur</td>\n",
       "      <td>4</td>\n",
       "      <td>0</td>\n",
       "    </tr>\n",
       "    <tr>\n",
       "      <th>21085</th>\n",
       "      <td>228</td>\n",
       "      <td>Air Terjun Curug Luhur</td>\n",
       "      <td>5</td>\n",
       "      <td>0</td>\n",
       "    </tr>\n",
       "    <tr>\n",
       "      <th>...</th>\n",
       "      <td>...</td>\n",
       "      <td>...</td>\n",
       "      <td>...</td>\n",
       "      <td>...</td>\n",
       "    </tr>\n",
       "    <tr>\n",
       "      <th>37962</th>\n",
       "      <td>411</td>\n",
       "      <td>Watu Gunung Ungaran</td>\n",
       "      <td>4</td>\n",
       "      <td>141</td>\n",
       "    </tr>\n",
       "    <tr>\n",
       "      <th>54620</th>\n",
       "      <td>592</td>\n",
       "      <td>Watu Gunung Ungaran</td>\n",
       "      <td>5</td>\n",
       "      <td>141</td>\n",
       "    </tr>\n",
       "    <tr>\n",
       "      <th>23293</th>\n",
       "      <td>252</td>\n",
       "      <td>Watu Gunung Ungaran</td>\n",
       "      <td>5</td>\n",
       "      <td>141</td>\n",
       "    </tr>\n",
       "    <tr>\n",
       "      <th>49211</th>\n",
       "      <td>533</td>\n",
       "      <td>Watu Gunung Ungaran</td>\n",
       "      <td>5</td>\n",
       "      <td>141</td>\n",
       "    </tr>\n",
       "    <tr>\n",
       "      <th>49117</th>\n",
       "      <td>532</td>\n",
       "      <td>Watu Gunung Ungaran</td>\n",
       "      <td>5</td>\n",
       "      <td>141</td>\n",
       "    </tr>\n",
       "  </tbody>\n",
       "</table>\n",
       "<p>75502 rows × 4 columns</p>\n",
       "</div>"
      ],
      "text/plain": [
       "       UserID                   Place  Ratings  Id_Place\n",
       "23204     251  Air Terjun Curug Luhur        5         0\n",
       "20842     226  Air Terjun Curug Luhur        3         0\n",
       "48663     527  Air Terjun Curug Luhur        4         0\n",
       "60628     657  Air Terjun Curug Luhur        4         0\n",
       "21085     228  Air Terjun Curug Luhur        5         0\n",
       "...       ...                     ...      ...       ...\n",
       "37962     411     Watu Gunung Ungaran        4       141\n",
       "54620     592     Watu Gunung Ungaran        5       141\n",
       "23293     252     Watu Gunung Ungaran        5       141\n",
       "49211     533     Watu Gunung Ungaran        5       141\n",
       "49117     532     Watu Gunung Ungaran        5       141\n",
       "\n",
       "[75502 rows x 4 columns]"
      ]
     },
     "execution_count": 5,
     "metadata": {},
     "output_type": "execute_result"
    }
   ],
   "source": [
    "df_ori"
   ]
  },
  {
   "cell_type": "code",
   "execution_count": 6,
   "id": "72cf95b4",
   "metadata": {},
   "outputs": [],
   "source": [
    "item_id_to_num = dict(zip(df_ori['Id_Place'], df_ori['Place']))"
   ]
  },
  {
   "cell_type": "code",
   "execution_count": 7,
   "id": "ce2f4a08",
   "metadata": {},
   "outputs": [],
   "source": [
    "item_id_to_num\n",
    "pickle.dump(item_id_to_num, open('item_lookup.pkl', 'wb'))"
   ]
  },
  {
   "cell_type": "code",
   "execution_count": 8,
   "id": "c88756b7",
   "metadata": {},
   "outputs": [
    {
     "data": {
      "text/plain": [
       "{0: 'Air Terjun Curug Luhur',\n",
       " 1: 'Air Terjun Kali Pancur',\n",
       " 2: 'Air Terjun Madakaripura',\n",
       " 3: 'Air Terjun Semirang',\n",
       " 4: 'Air Terjun Sri Gethuk',\n",
       " 5: 'Bukit Gantole Cililin',\n",
       " 6: 'Bukit Jamur',\n",
       " 7: 'Bukit Moko',\n",
       " 8: 'Bukit Panguk Kediwung',\n",
       " 9: 'Bukit Wisata Pulepayung',\n",
       " 10: 'Bunaken Marine Park',\n",
       " 11: 'Candi Borobudur',\n",
       " 12: 'Candi Gedong Songo',\n",
       " 13: 'Candi Ijo',\n",
       " 14: 'Candi Prambanan',\n",
       " 15: 'Candi Ratu Boko',\n",
       " 16: 'Candi Sewu',\n",
       " 17: 'Curug Anom',\n",
       " 18: 'Curug Aseupan',\n",
       " 19: 'Curug Batu Templek',\n",
       " 20: 'Curug Bugbrug',\n",
       " 21: 'Curug Cikaso',\n",
       " 22: 'Curug Cilengkrang',\n",
       " 23: 'Curug Cipamingkis',\n",
       " 24: 'Curug Cipanas',\n",
       " 25: 'Curug Cipendok',\n",
       " 26: 'Curug Malela',\n",
       " 27: 'Curug Tilu Leuwi Opat',\n",
       " 28: 'Dago Dreampark',\n",
       " 29: 'Danau Toba',\n",
       " 30: 'Dunia Fantasi',\n",
       " 31: 'Farm House Susu Lembang',\n",
       " 32: 'Glamping Lakeside Rancabali',\n",
       " 33: 'Grafika Cikole',\n",
       " 34: 'Green Canyon Pangandaran',\n",
       " 35: 'Gunung Bromo',\n",
       " 36: 'Gunung Lalakon',\n",
       " 37: 'Gunung Papandayan',\n",
       " 38: 'Gunung Tangkuban Perahu',\n",
       " 39: 'Indonesia Kaya Park',\n",
       " 40: 'Jawa Timur Park 2',\n",
       " 41: 'Kampung Wisata Taman Sari',\n",
       " 42: 'Kawah Ijen',\n",
       " 43: 'Kawah Putih',\n",
       " 44: 'Kawah Rengganis',\n",
       " 45: 'Komodo National Park',\n",
       " 46: 'Labuan Bajo',\n",
       " 47: 'Lembang Park & Zoo',\n",
       " 48: 'Lombok',\n",
       " 49: 'Malioboro Yogyakarta',\n",
       " 50: 'Museum Gunung Merapi',\n",
       " 51: 'NuArt Sculpture Park',\n",
       " 52: 'Nusa Penida',\n",
       " 53: 'Pantai Air Manis',\n",
       " 54: 'Pantai Balekambang',\n",
       " 55: 'Pantai Baron',\n",
       " 56: 'Pantai Baruna',\n",
       " 57: 'Pantai Congot',\n",
       " 58: 'Pantai Depok',\n",
       " 59: 'Pantai Drini',\n",
       " 60: 'Pantai Gesing',\n",
       " 61: 'Pantai Greweng',\n",
       " 62: 'Pantai Indrayanti',\n",
       " 63: 'Pantai Jogan',\n",
       " 64: 'Pantai Jungwok',\n",
       " 65: 'Pantai Kasap',\n",
       " 66: 'Pantai Kelingking',\n",
       " 67: 'Pantai Kesirat',\n",
       " 68: 'Pantai Krakal',\n",
       " 69: 'Pantai Kukup',\n",
       " 70: 'Pantai Kuta',\n",
       " 71: 'Pantai Marina',\n",
       " 72: 'Pantai Maron',\n",
       " 73: 'Pantai Ngandong',\n",
       " 74: 'Pantai Nglambor',\n",
       " 75: 'Pantai Ngobaran',\n",
       " 76: 'Pantai Ngrawe',\n",
       " 77: 'Pantai Ngrenehan',\n",
       " 78: 'Pantai Nguluran',\n",
       " 79: 'Pantai Pandawa',\n",
       " 80: 'Pantai Pangandaran',\n",
       " 81: 'Pantai Parangtritis',\n",
       " 82: 'Pantai Pok Tunggal',\n",
       " 83: 'Pantai Pulang Sawal',\n",
       " 84: 'Pantai Ria Kenjeran',\n",
       " 85: 'Pantai Sadranan',\n",
       " 86: 'Pantai Samas',\n",
       " 87: 'Pantai Santolo',\n",
       " 88: 'Pantai Sarumanis',\n",
       " 89: 'Pantai Sawarna',\n",
       " 90: 'Pantai Sepanjang',\n",
       " 91: 'Pantai Siung',\n",
       " 92: 'Pantai Srakung',\n",
       " 93: 'Pantai Sundak',\n",
       " 94: 'Pantai Tampora',\n",
       " 95: 'Pantai Tanjung Lesung',\n",
       " 96: 'Pantai Teluk Asmara',\n",
       " 97: 'Pantai Timang',\n",
       " 98: 'Pantai Watu Kodok',\n",
       " 99: 'Pantai Wediombo',\n",
       " 100: 'Pink Beach',\n",
       " 101: 'Pulau Padar',\n",
       " 102: 'Puncak Gunung Api Purba',\n",
       " 103: 'Raja Ampat',\n",
       " 104: 'Red Island Beach',\n",
       " 105: 'Saloka Theme Park',\n",
       " 106: 'Simpang Lima Gumul',\n",
       " 107: 'Skyrink - Mall Taman Anggrek',\n",
       " 108: 'Sunrise Point Cukul',\n",
       " 109: 'Taman Balai Kota Bandung',\n",
       " 110: 'Taman Budaya Yogyakarta',\n",
       " 111: 'Taman Bunga Celosia',\n",
       " 112: 'Taman Bunga Nusantara',\n",
       " 113: 'Taman Bungkul',\n",
       " 114: 'Taman Cattleya',\n",
       " 115: 'Taman Film',\n",
       " 116: 'Taman Flora Bratang Surabaya',\n",
       " 117: 'Taman Hutan Raya Ir. H. Djuanda',\n",
       " 118: 'Taman Hutan Tebet',\n",
       " 119: 'Taman Keputran',\n",
       " 120: 'Taman Langit',\n",
       " 121: 'Taman Menteng',\n",
       " 122: 'Taman Mini Indonesia Indah',\n",
       " 123: 'Taman Nasional Bantimurung',\n",
       " 124: 'Taman Nasional Kepulauan Seribu',\n",
       " 125: 'Taman Pintar Yogyakarta',\n",
       " 126: 'Taman Safari Indonesia Bogor',\n",
       " 127: 'Taman Safari Pasuruan',\n",
       " 128: 'Taman Sari',\n",
       " 129: 'Taman Situ Lembang',\n",
       " 130: 'Taman Spathodea',\n",
       " 131: 'Taman Sungai Mudal',\n",
       " 132: 'Taman Suropati',\n",
       " 133: 'Tebing Breksi',\n",
       " 134: 'Tebing Keraton',\n",
       " 135: 'Tempo Gelato Prawirotaman',\n",
       " 136: 'The Lodge Maribaya',\n",
       " 137: 'The World Landmarks - Merapi Park Yogyakarta',\n",
       " 138: 'Ubud',\n",
       " 139: 'Water Blaster Bukit Candi Golf',\n",
       " 140: 'Waterboom PIK  (Pantai Indah Kapuk)',\n",
       " 141: 'Watu Gunung Ungaran'}"
      ]
     },
     "execution_count": 8,
     "metadata": {},
     "output_type": "execute_result"
    }
   ],
   "source": [
    "item_id_to_num"
   ]
  },
  {
   "cell_type": "code",
   "execution_count": 10,
   "id": "fe836dca",
   "metadata": {},
   "outputs": [],
   "source": [
    "df_ori = df_ori.sort_values(by='UserID')"
   ]
  },
  {
   "cell_type": "code",
   "execution_count": 11,
   "id": "ef068c3b",
   "metadata": {},
   "outputs": [],
   "source": [
    "df_ori['UserID'] = df_ori['UserID'].astype('category')\n",
    "df_ori['Id_ID'] = df_ori['UserID'].cat.codes"
   ]
  },
  {
   "cell_type": "code",
   "execution_count": 12,
   "id": "79f0eac1",
   "metadata": {},
   "outputs": [
    {
     "data": {
      "text/html": [
       "<div>\n",
       "<style scoped>\n",
       "    .dataframe tbody tr th:only-of-type {\n",
       "        vertical-align: middle;\n",
       "    }\n",
       "\n",
       "    .dataframe tbody tr th {\n",
       "        vertical-align: top;\n",
       "    }\n",
       "\n",
       "    .dataframe thead th {\n",
       "        text-align: right;\n",
       "    }\n",
       "</style>\n",
       "<table border=\"1\" class=\"dataframe\">\n",
       "  <thead>\n",
       "    <tr style=\"text-align: right;\">\n",
       "      <th></th>\n",
       "      <th>UserID</th>\n",
       "      <th>Place</th>\n",
       "      <th>Ratings</th>\n",
       "      <th>Id_Place</th>\n",
       "      <th>Id_ID</th>\n",
       "    </tr>\n",
       "  </thead>\n",
       "  <tbody>\n",
       "    <tr>\n",
       "      <th>79</th>\n",
       "      <td>1</td>\n",
       "      <td>Pantai Ngobaran</td>\n",
       "      <td>5</td>\n",
       "      <td>75</td>\n",
       "      <td>0</td>\n",
       "    </tr>\n",
       "    <tr>\n",
       "      <th>14</th>\n",
       "      <td>1</td>\n",
       "      <td>Pantai Kelingking</td>\n",
       "      <td>5</td>\n",
       "      <td>66</td>\n",
       "      <td>0</td>\n",
       "    </tr>\n",
       "    <tr>\n",
       "      <th>7</th>\n",
       "      <td>1</td>\n",
       "      <td>Green Canyon Pangandaran</td>\n",
       "      <td>4</td>\n",
       "      <td>34</td>\n",
       "      <td>0</td>\n",
       "    </tr>\n",
       "    <tr>\n",
       "      <th>61</th>\n",
       "      <td>1</td>\n",
       "      <td>Taman Mini Indonesia Indah</td>\n",
       "      <td>2</td>\n",
       "      <td>122</td>\n",
       "      <td>0</td>\n",
       "    </tr>\n",
       "    <tr>\n",
       "      <th>62</th>\n",
       "      <td>1</td>\n",
       "      <td>Taman Safari Indonesia Bogor</td>\n",
       "      <td>5</td>\n",
       "      <td>126</td>\n",
       "      <td>0</td>\n",
       "    </tr>\n",
       "    <tr>\n",
       "      <th>...</th>\n",
       "      <td>...</td>\n",
       "      <td>...</td>\n",
       "      <td>...</td>\n",
       "      <td>...</td>\n",
       "      <td>...</td>\n",
       "    </tr>\n",
       "    <tr>\n",
       "      <th>75422</th>\n",
       "      <td>822</td>\n",
       "      <td>Pantai Kasap</td>\n",
       "      <td>5</td>\n",
       "      <td>65</td>\n",
       "      <td>821</td>\n",
       "    </tr>\n",
       "    <tr>\n",
       "      <th>75476</th>\n",
       "      <td>822</td>\n",
       "      <td>Air Terjun Sri Gethuk</td>\n",
       "      <td>5</td>\n",
       "      <td>4</td>\n",
       "      <td>821</td>\n",
       "    </tr>\n",
       "    <tr>\n",
       "      <th>75419</th>\n",
       "      <td>822</td>\n",
       "      <td>Pantai Balekambang</td>\n",
       "      <td>4</td>\n",
       "      <td>54</td>\n",
       "      <td>821</td>\n",
       "    </tr>\n",
       "    <tr>\n",
       "      <th>75471</th>\n",
       "      <td>822</td>\n",
       "      <td>Taman Situ Lembang</td>\n",
       "      <td>5</td>\n",
       "      <td>129</td>\n",
       "      <td>821</td>\n",
       "    </tr>\n",
       "    <tr>\n",
       "      <th>75461</th>\n",
       "      <td>822</td>\n",
       "      <td>Pantai Siung</td>\n",
       "      <td>5</td>\n",
       "      <td>91</td>\n",
       "      <td>821</td>\n",
       "    </tr>\n",
       "  </tbody>\n",
       "</table>\n",
       "<p>75502 rows × 5 columns</p>\n",
       "</div>"
      ],
      "text/plain": [
       "      UserID                         Place  Ratings  Id_Place  Id_ID\n",
       "79         1               Pantai Ngobaran        5        75      0\n",
       "14         1             Pantai Kelingking        5        66      0\n",
       "7          1      Green Canyon Pangandaran        4        34      0\n",
       "61         1    Taman Mini Indonesia Indah        2       122      0\n",
       "62         1  Taman Safari Indonesia Bogor        5       126      0\n",
       "...      ...                           ...      ...       ...    ...\n",
       "75422    822                  Pantai Kasap        5        65    821\n",
       "75476    822         Air Terjun Sri Gethuk        5         4    821\n",
       "75419    822            Pantai Balekambang        4        54    821\n",
       "75471    822            Taman Situ Lembang        5       129    821\n",
       "75461    822                  Pantai Siung        5        91    821\n",
       "\n",
       "[75502 rows x 5 columns]"
      ]
     },
     "execution_count": 12,
     "metadata": {},
     "output_type": "execute_result"
    }
   ],
   "source": [
    "df_ori"
   ]
  },
  {
   "cell_type": "code",
   "execution_count": 14,
   "id": "87e0ea49",
   "metadata": {},
   "outputs": [],
   "source": [
    "user_id_to_num = dict(zip(df_ori['UserID'], df_ori['Id_ID']))"
   ]
  },
  {
   "cell_type": "code",
   "execution_count": 15,
   "id": "d280ecc9",
   "metadata": {},
   "outputs": [],
   "source": [
    "pickle.dump(user_id_to_num, open('user_id_to_num.pkl', 'wb'))"
   ]
  },
  {
   "cell_type": "code",
   "execution_count": 16,
   "id": "0a7ca071",
   "metadata": {},
   "outputs": [
    {
     "data": {
      "text/html": [
       "<div>\n",
       "<style scoped>\n",
       "    .dataframe tbody tr th:only-of-type {\n",
       "        vertical-align: middle;\n",
       "    }\n",
       "\n",
       "    .dataframe tbody tr th {\n",
       "        vertical-align: top;\n",
       "    }\n",
       "\n",
       "    .dataframe thead th {\n",
       "        text-align: right;\n",
       "    }\n",
       "</style>\n",
       "<table border=\"1\" class=\"dataframe\">\n",
       "  <thead>\n",
       "    <tr style=\"text-align: right;\">\n",
       "      <th></th>\n",
       "      <th>UserID</th>\n",
       "      <th>Place</th>\n",
       "      <th>Ratings</th>\n",
       "      <th>Id_Place</th>\n",
       "      <th>Id_ID</th>\n",
       "    </tr>\n",
       "  </thead>\n",
       "  <tbody>\n",
       "    <tr>\n",
       "      <th>79</th>\n",
       "      <td>1</td>\n",
       "      <td>Pantai Ngobaran</td>\n",
       "      <td>5</td>\n",
       "      <td>75</td>\n",
       "      <td>0</td>\n",
       "    </tr>\n",
       "    <tr>\n",
       "      <th>14</th>\n",
       "      <td>1</td>\n",
       "      <td>Pantai Kelingking</td>\n",
       "      <td>5</td>\n",
       "      <td>66</td>\n",
       "      <td>0</td>\n",
       "    </tr>\n",
       "    <tr>\n",
       "      <th>7</th>\n",
       "      <td>1</td>\n",
       "      <td>Green Canyon Pangandaran</td>\n",
       "      <td>4</td>\n",
       "      <td>34</td>\n",
       "      <td>0</td>\n",
       "    </tr>\n",
       "    <tr>\n",
       "      <th>61</th>\n",
       "      <td>1</td>\n",
       "      <td>Taman Mini Indonesia Indah</td>\n",
       "      <td>2</td>\n",
       "      <td>122</td>\n",
       "      <td>0</td>\n",
       "    </tr>\n",
       "    <tr>\n",
       "      <th>62</th>\n",
       "      <td>1</td>\n",
       "      <td>Taman Safari Indonesia Bogor</td>\n",
       "      <td>5</td>\n",
       "      <td>126</td>\n",
       "      <td>0</td>\n",
       "    </tr>\n",
       "    <tr>\n",
       "      <th>...</th>\n",
       "      <td>...</td>\n",
       "      <td>...</td>\n",
       "      <td>...</td>\n",
       "      <td>...</td>\n",
       "      <td>...</td>\n",
       "    </tr>\n",
       "    <tr>\n",
       "      <th>75422</th>\n",
       "      <td>822</td>\n",
       "      <td>Pantai Kasap</td>\n",
       "      <td>5</td>\n",
       "      <td>65</td>\n",
       "      <td>821</td>\n",
       "    </tr>\n",
       "    <tr>\n",
       "      <th>75476</th>\n",
       "      <td>822</td>\n",
       "      <td>Air Terjun Sri Gethuk</td>\n",
       "      <td>5</td>\n",
       "      <td>4</td>\n",
       "      <td>821</td>\n",
       "    </tr>\n",
       "    <tr>\n",
       "      <th>75419</th>\n",
       "      <td>822</td>\n",
       "      <td>Pantai Balekambang</td>\n",
       "      <td>4</td>\n",
       "      <td>54</td>\n",
       "      <td>821</td>\n",
       "    </tr>\n",
       "    <tr>\n",
       "      <th>75471</th>\n",
       "      <td>822</td>\n",
       "      <td>Taman Situ Lembang</td>\n",
       "      <td>5</td>\n",
       "      <td>129</td>\n",
       "      <td>821</td>\n",
       "    </tr>\n",
       "    <tr>\n",
       "      <th>75461</th>\n",
       "      <td>822</td>\n",
       "      <td>Pantai Siung</td>\n",
       "      <td>5</td>\n",
       "      <td>91</td>\n",
       "      <td>821</td>\n",
       "    </tr>\n",
       "  </tbody>\n",
       "</table>\n",
       "<p>75502 rows × 5 columns</p>\n",
       "</div>"
      ],
      "text/plain": [
       "      UserID                         Place  Ratings  Id_Place  Id_ID\n",
       "79         1               Pantai Ngobaran        5        75      0\n",
       "14         1             Pantai Kelingking        5        66      0\n",
       "7          1      Green Canyon Pangandaran        4        34      0\n",
       "61         1    Taman Mini Indonesia Indah        2       122      0\n",
       "62         1  Taman Safari Indonesia Bogor        5       126      0\n",
       "...      ...                           ...      ...       ...    ...\n",
       "75422    822                  Pantai Kasap        5        65    821\n",
       "75476    822         Air Terjun Sri Gethuk        5         4    821\n",
       "75419    822            Pantai Balekambang        4        54    821\n",
       "75471    822            Taman Situ Lembang        5       129    821\n",
       "75461    822                  Pantai Siung        5        91    821\n",
       "\n",
       "[75502 rows x 5 columns]"
      ]
     },
     "execution_count": 16,
     "metadata": {},
     "output_type": "execute_result"
    }
   ],
   "source": [
    "df_ori"
   ]
  },
  {
   "cell_type": "code",
   "execution_count": 18,
   "id": "a89ce1b2",
   "metadata": {},
   "outputs": [],
   "source": [
    "new_df = pd.DataFrame()\n",
    "new_df['user_id'] = df_ori['Id_ID']\n",
    "new_df['place_id'] = df_ori['Id_Place']\n",
    "new_df['rating'] = df_ori['Ratings']"
   ]
  },
  {
   "cell_type": "code",
   "execution_count": 22,
   "id": "285cb17c",
   "metadata": {},
   "outputs": [
    {
     "data": {
      "text/plain": [
       "array([[  0,  75,   5],\n",
       "       [  0,  66,   5],\n",
       "       [  0,  34,   4],\n",
       "       ...,\n",
       "       [821,  54,   4],\n",
       "       [821, 129,   5],\n",
       "       [821,  91,   5]], dtype=int64)"
      ]
     },
     "execution_count": 22,
     "metadata": {},
     "output_type": "execute_result"
    }
   ],
   "source": [
    "data = new_df.to_numpy()\n",
    "data"
   ]
  },
  {
   "cell_type": "code",
   "execution_count": 20,
   "id": "1e006c51",
   "metadata": {},
   "outputs": [],
   "source": [
    "np.save('data_RL_75000.npy', data)"
   ]
  },
  {
   "cell_type": "code",
   "execution_count": 52,
   "id": "29cacea7",
   "metadata": {},
   "outputs": [],
   "source": [
    "rng = np.random.default_rng(42)\n",
    "rng.shuffle(data)\n",
    "\n",
    "train_data = data[:int(0.8 * data.shape[0])]\n",
    "test_data = data[int(0.8 * data.shape[0]):]"
   ]
  },
  {
   "cell_type": "code",
   "execution_count": 53,
   "id": "ae3d7742",
   "metadata": {},
   "outputs": [
    {
     "data": {
      "text/plain": [
       "array([[ 43,  51,   4],\n",
       "       [224,  34,   5],\n",
       "       [382,  27,   4],\n",
       "       ...,\n",
       "       [234,  46,   5],\n",
       "       [712,  46,   4],\n",
       "       [ 48,  99,   5]], dtype=int64)"
      ]
     },
     "execution_count": 53,
     "metadata": {},
     "output_type": "execute_result"
    }
   ],
   "source": [
    "train_data"
   ]
  },
  {
   "cell_type": "code",
   "execution_count": 96,
   "id": "6eabd57e",
   "metadata": {},
   "outputs": [],
   "source": [
    "from collections import Counter\n",
    "from imblearn.over_sampling import KMeansSMOTE\n",
    "from imblearn.under_sampling import RandomUnderSampler\n",
    "\n",
    "from matplotlib import pyplot"
   ]
  },
  {
   "cell_type": "code",
   "execution_count": 97,
   "id": "058e0d52",
   "metadata": {},
   "outputs": [],
   "source": [
    "y_train = train_data[:, 2]\n",
    "x_train = train_data[:,:2]"
   ]
  },
  {
   "cell_type": "code",
   "execution_count": 103,
   "id": "44341c9c",
   "metadata": {},
   "outputs": [
    {
     "name": "stdout",
     "output_type": "stream",
     "text": [
      "Class=1, n=1495 (3.776%)\n",
      "Class=2, n=1376 (3.475%)\n",
      "Class=3, n=3670 (9.270%)\n",
      "Class=4, n=12241 (30.918%)\n",
      "Class=5, n=20810 (52.561%)\n"
     ]
    },
    {
     "data": {
      "image/png": "[encoded data removed]",
      "text/plain": [
       "<Figure size 432x288 with 1 Axes>"
      ]
     },
     "metadata": {
      "needs_background": "light"
     },
     "output_type": "display_data"
    }
   ],
   "source": [
    "counter = Counter(y_train)\n",
    "for k,v in counter.items():\n",
    "    per = v / len(y_train) * 100\n",
    "    print('Class=%d, n=%d (%.3f%%)' % (k, v, per))\n",
    "    \n",
    "pyplot.bar(counter.keys(), counter.values())\n",
    "pyplot.show()"
   ]
  },
  {
   "cell_type": "code",
   "execution_count": 99,
   "id": "9b3fb830",
   "metadata": {},
   "outputs": [],
   "source": [
    "trim_strategy = {5:20810}\n",
    "\n",
    "under = RandomUnderSampler(sampling_strategy=trim_strategy)"
   ]
  },
  {
   "cell_type": "code",
   "execution_count": 100,
   "id": "6c32137c",
   "metadata": {},
   "outputs": [
    {
     "name": "stdout",
     "output_type": "stream",
     "text": [
      "Setelah undersampling\n",
      "Counter({5: 20810, 4: 12241, 3: 3670, 1: 1495, 2: 1376})\n"
     ]
    }
   ],
   "source": [
    "x_train, y_train = under.fit_resample(x_train, y_train)\n",
    "print(\"Setelah undersampling\")\n",
    "print(Counter(y_train))"
   ]
  },
  {
   "cell_type": "code",
   "execution_count": 94,
   "id": "23f3dc85",
   "metadata": {},
   "outputs": [],
   "source": [
    "strategy = {1:3576, 2:3457}\n",
    "\n",
    "over = KMeansSMOTE(sampling_strategy=strategy)"
   ]
  },
  {
   "cell_type": "code",
   "execution_count": 95,
   "id": "6d33f1df",
   "metadata": {},
   "outputs": [
    {
     "name": "stdout",
     "output_type": "stream",
     "text": [
      "Setelah oversampling\n",
      "Counter({5: 20810, 4: 12241, 3: 3670, 1: 2081, 2: 2081})\n"
     ]
    }
   ],
   "source": [
    "x_train, y_train = over.fit_resample(x_train, y_train)\n",
    "print(\"Setelah oversampling\")\n",
    "print(Counter(y_train))"
   ]
  },
  {
   "cell_type": "code",
   "execution_count": 109,
   "id": "89c782ee",
   "metadata": {},
   "outputs": [],
   "source": [
    "y_train_m = np.reshape(y_train, (len(y_train), 1))"
   ]
  },
  {
   "cell_type": "code",
   "execution_count": 110,
   "id": "7e233527",
   "metadata": {},
   "outputs": [],
   "source": [
    "f_train_data = np.concatenate((x_train, y_train_m), axis=1)"
   ]
  },
  {
   "cell_type": "code",
   "execution_count": 111,
   "id": "42f46fa8",
   "metadata": {},
   "outputs": [
    {
     "data": {
      "text/plain": [
       "array([[751,  53,   1],\n",
       "       [601,  53,   1],\n",
       "       [ 74,  25,   1],\n",
       "       ...,\n",
       "       [293,  34,   5],\n",
       "       [744,  43,   5],\n",
       "       [566, 125,   5]], dtype=int64)"
      ]
     },
     "execution_count": 111,
     "metadata": {},
     "output_type": "execute_result"
    }
   ],
   "source": [
    "f_train_data"
   ]
  },
  {
   "cell_type": "code",
   "execution_count": 112,
   "id": "0ea7f90a",
   "metadata": {},
   "outputs": [],
   "source": [
    "np.save('train_data_RL_75000.npy', f_train_data)\n",
    "np.save('test_data_RL_75000.npy', test_data)"
   ]
  }
 ],
 "metadata": {
  "kernelspec": {
   "display_name": "Python 3 (ipykernel)",
   "language": "python",
   "name": "python3"
  },
  "language_info": {
   "codemirror_mode": {
    "name": "ipython",
    "version": 3
   },
   "file_extension": ".py",
   "mimetype": "text/x-python",
   "name": "python",
   "nbconvert_exporter": "python",
   "pygments_lexer": "ipython3",
   "version": "3.9.2"
  }
 },
 "nbformat": 4,
 "nbformat_minor": 5
}
