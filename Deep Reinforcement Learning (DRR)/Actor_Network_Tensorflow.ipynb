{
 "cells": [
  {
   "cell_type": "code",
   "execution_count": 1,
   "id": "dd18a862",
   "metadata": {},
   "outputs": [],
   "source": [
    "import tensorflow as tf\n",
    "import numpy as np\n",
    "import torch\n",
    "import torch.nn as nn\n",
    "import torch.nn.functional as F\n",
    "\n",
    "from numpy.random import RandomState"
   ]
  },
  {
   "cell_type": "code",
   "execution_count": 142,
   "id": "754bfc09",
   "metadata": {},
   "outputs": [],
   "source": [
    "class Actor(tf.keras.Model):\n",
    "    def __init__(self, in_features=100, out_features=18):\n",
    "        super(Actor, self).__init__()\n",
    "        self.in_features = in_features\n",
    "        self.out_features = out_features\n",
    "        \n",
    "        self.linear_1 = tf.keras.layers.Dense(in_features, activation='relu')\n",
    "        self.linear_2 = tf.keras.layers.Dense(in_features, activation='relu')\n",
    "        self.linear_3 = tf.keras.layers.Dense(out_features, activation='tanh')\n",
    "        \n",
    "    def call(self, state):\n",
    "        inputs = tf.reshape(state, (1, self.in_features))\n",
    "        print(tf.shape(inputs))\n",
    "        output = self.linear_1(inputs)\n",
    "        output = self.linear_2(output)\n",
    "        output = self.linear_3(output)\n",
    "        return output"
   ]
  },
  {
   "cell_type": "code",
   "execution_count": 143,
   "id": "baa26c68",
   "metadata": {},
   "outputs": [],
   "source": [
    "## instansiasi model\n",
    "actorNets = Actor(100, 18)"
   ]
  },
  {
   "cell_type": "code",
   "execution_count": 134,
   "id": "e6c84453",
   "metadata": {},
   "outputs": [
    {
     "data": {
      "text/plain": [
       "array([0.63345062, 0.27934384, 0.47266281, 0.91321615, 0.44804094,\n",
       "       0.23915187, 0.62378167, 0.73143038, 0.58242637, 0.61717857,\n",
       "       0.26533823, 0.2068301 , 0.72555059, 0.09991472, 0.14279929,\n",
       "       0.14738349, 0.65841297, 0.65331981, 0.8732705 , 0.06552706,\n",
       "       0.54172127, 0.17189618, 0.98920991, 0.2121848 , 0.90012836,\n",
       "       0.13123975, 0.39300696, 0.72673111, 0.18174008, 0.78040402,\n",
       "       0.56635225, 0.21580389, 0.39304532, 0.81361001, 0.65960383,\n",
       "       0.18184047, 0.42159888, 0.06221726, 0.33183348, 0.31202788,\n",
       "       0.47642669, 0.64520161, 0.53443925, 0.15941396, 0.87408018,\n",
       "       0.37055042, 0.58742235, 0.22557801, 0.67680067, 0.83373564,\n",
       "       0.09652874, 0.19499143, 0.45669526, 0.26955529, 0.25067314,\n",
       "       0.55347439, 0.83942066, 0.69380528, 0.81496299, 0.77192226,\n",
       "       0.81368896, 0.71146776, 0.61279881, 0.20697145, 0.91646921,\n",
       "       0.6149896 , 0.67317277, 0.16705778, 0.06535899, 0.22088057,\n",
       "       0.52667785, 0.12176059, 0.46347153, 0.68557767, 0.88793905,\n",
       "       0.66969699, 0.00999248, 0.49937848, 0.20049817, 0.82291232,\n",
       "       0.99595911, 0.47303496, 0.92588399, 0.36596583, 0.34129435,\n",
       "       0.17809576, 0.46514923, 0.01250833, 0.35246601, 0.67395214,\n",
       "       0.16325613, 0.83388058, 0.50660216, 0.52527155, 0.18212586,\n",
       "       0.01612462, 0.51928313, 0.02344165, 0.2865829 , 0.45443807])"
      ]
     },
     "execution_count": 134,
     "metadata": {},
     "output_type": "execute_result"
    }
   ],
   "source": [
    "random_state = RandomState(1)\n",
    "\n",
    "state = np.random.rand(100,)\n",
    "state"
   ]
  },
  {
   "cell_type": "code",
   "execution_count": 144,
   "id": "24897e5e",
   "metadata": {},
   "outputs": [
    {
     "name": "stdout",
     "output_type": "stream",
     "text": [
      "tf.Tensor([  1 100], shape=(2,), dtype=int32)\n"
     ]
    },
    {
     "data": {
      "text/plain": [
       "<tf.Tensor: shape=(), dtype=int32, numpy=18>"
      ]
     },
     "execution_count": 144,
     "metadata": {},
     "output_type": "execute_result"
    }
   ],
   "source": [
    "## output has two dimension so need to be flattened\n",
    "tf.size(actorNets(state))"
   ]
  },
  {
   "cell_type": "code",
   "execution_count": 137,
   "id": "0cca6808",
   "metadata": {},
   "outputs": [
    {
     "name": "stdout",
     "output_type": "stream",
     "text": [
      "Model: \"actor_15\"\n",
      "_________________________________________________________________\n",
      " Layer (type)                Output Shape              Param #   \n",
      "=================================================================\n",
      " dense_48 (Dense)            multiple                  10100     \n",
      "                                                                 \n",
      " dense_49 (Dense)            multiple                  10100     \n",
      "                                                                 \n",
      " dense_50 (Dense)            multiple                  1818      \n",
      "                                                                 \n",
      "=================================================================\n",
      "Total params: 22,018\n",
      "Trainable params: 22,018\n",
      "Non-trainable params: 0\n",
      "_________________________________________________________________\n"
     ]
    }
   ],
   "source": [
    "actorNets.summary()"
   ]
  },
  {
   "cell_type": "code",
   "execution_count": 146,
   "id": "f3527835",
   "metadata": {},
   "outputs": [],
   "source": [
    "class Critic(tf.keras.Model):\n",
    "    def __init__(self, action_size=20, in_features=128, out_features=18):\n",
    "        super(Critic, self).__init__()\n",
    "        self.in_features = in_features\n",
    "        self.out_features = out_features\n",
    "        self.combo_features = in_features + action_size\n",
    "        self.action_size = action_size\n",
    "        ## check shape of the input\n",
    "        self.linear_1 = tf.keras.layers.Dense(self.in_features, \n",
    "                                              activation='relu')\n",
    "        \n",
    "        self.linear_2 = tf.keras.layers.Dense(self.combo_features, \n",
    "                                              activation='relu')\n",
    "        \n",
    "        self.linear_3 = tf.keras.layers.Dense(self.combo_features, \n",
    "                                              activation='relu')\n",
    "        \n",
    "        self.linear_4 = tf.keras.layers.Dense(out_features, \n",
    "                                              activation=None)\n",
    "        \n",
    "    def call(self, state, action):\n",
    "        outputs = self.linear_1(state)\n",
    "        outputs = self.linear_2(tf.concat([action, output]))\n",
    "        outputs = self.linear_3(outputs)\n",
    "        outputs = self.linear_4(outputs)\n",
    "        return outputs"
   ]
  }
 ],
 "metadata": {
  "kernelspec": {
   "display_name": "Python 3 (ipykernel)",
   "language": "python",
   "name": "python3"
  },
  "language_info": {
   "codemirror_mode": {
    "name": "ipython",
    "version": 3
   },
   "file_extension": ".py",
   "mimetype": "text/x-python",
   "name": "python",
   "nbconvert_exporter": "python",
   "pygments_lexer": "ipython3",
   "version": "3.9.2"
  }
 },
 "nbformat": 4,
 "nbformat_minor": 5
}
